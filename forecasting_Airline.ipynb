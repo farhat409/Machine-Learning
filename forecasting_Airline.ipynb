{
 "cells": [
  {
   "cell_type": "code",
   "execution_count": 1,
   "id": "d8ca9846",
   "metadata": {
    "ExecuteTime": {
     "end_time": "2022-01-17T05:20:53.282770Z",
     "start_time": "2022-01-17T05:20:51.387292Z"
    }
   },
   "outputs": [],
   "source": [
    "import pandas as pd\n",
    "import numpy as np\n",
    "import matplotlib.pyplot as plt\n",
    "import statsmodels.formula.api as snf"
   ]
  },
  {
   "cell_type": "code",
   "execution_count": 2,
   "id": "801066b4",
   "metadata": {
    "ExecuteTime": {
     "end_time": "2022-01-17T05:21:24.225732Z",
     "start_time": "2022-01-17T05:21:24.214578Z"
    }
   },
   "outputs": [],
   "source": [
    "Airlines=pd.read_csv('Airlines+Data.csv')"
   ]
  },
  {
   "cell_type": "code",
   "execution_count": 3,
   "id": "322e512b",
   "metadata": {
    "ExecuteTime": {
     "end_time": "2022-01-17T05:21:28.724715Z",
     "start_time": "2022-01-17T05:21:28.701778Z"
    }
   },
   "outputs": [
    {
     "data": {
      "text/html": [
       "<div>\n",
       "<style scoped>\n",
       "    .dataframe tbody tr th:only-of-type {\n",
       "        vertical-align: middle;\n",
       "    }\n",
       "\n",
       "    .dataframe tbody tr th {\n",
       "        vertical-align: top;\n",
       "    }\n",
       "\n",
       "    .dataframe thead th {\n",
       "        text-align: right;\n",
       "    }\n",
       "</style>\n",
       "<table border=\"1\" class=\"dataframe\">\n",
       "  <thead>\n",
       "    <tr style=\"text-align: right;\">\n",
       "      <th></th>\n",
       "      <th>Month</th>\n",
       "      <th>Passengers</th>\n",
       "    </tr>\n",
       "  </thead>\n",
       "  <tbody>\n",
       "    <tr>\n",
       "      <th>0</th>\n",
       "      <td>Jan-95</td>\n",
       "      <td>112</td>\n",
       "    </tr>\n",
       "    <tr>\n",
       "      <th>1</th>\n",
       "      <td>Feb-95</td>\n",
       "      <td>118</td>\n",
       "    </tr>\n",
       "    <tr>\n",
       "      <th>2</th>\n",
       "      <td>Mar-95</td>\n",
       "      <td>132</td>\n",
       "    </tr>\n",
       "    <tr>\n",
       "      <th>3</th>\n",
       "      <td>Apr-95</td>\n",
       "      <td>129</td>\n",
       "    </tr>\n",
       "    <tr>\n",
       "      <th>4</th>\n",
       "      <td>May-95</td>\n",
       "      <td>121</td>\n",
       "    </tr>\n",
       "    <tr>\n",
       "      <th>...</th>\n",
       "      <td>...</td>\n",
       "      <td>...</td>\n",
       "    </tr>\n",
       "    <tr>\n",
       "      <th>91</th>\n",
       "      <td>Aug-02</td>\n",
       "      <td>405</td>\n",
       "    </tr>\n",
       "    <tr>\n",
       "      <th>92</th>\n",
       "      <td>Sep-02</td>\n",
       "      <td>355</td>\n",
       "    </tr>\n",
       "    <tr>\n",
       "      <th>93</th>\n",
       "      <td>Oct-02</td>\n",
       "      <td>306</td>\n",
       "    </tr>\n",
       "    <tr>\n",
       "      <th>94</th>\n",
       "      <td>Nov-02</td>\n",
       "      <td>271</td>\n",
       "    </tr>\n",
       "    <tr>\n",
       "      <th>95</th>\n",
       "      <td>Dec-02</td>\n",
       "      <td>306</td>\n",
       "    </tr>\n",
       "  </tbody>\n",
       "</table>\n",
       "<p>96 rows × 2 columns</p>\n",
       "</div>"
      ],
      "text/plain": [
       "     Month  Passengers\n",
       "0   Jan-95         112\n",
       "1   Feb-95         118\n",
       "2   Mar-95         132\n",
       "3   Apr-95         129\n",
       "4   May-95         121\n",
       "..     ...         ...\n",
       "91  Aug-02         405\n",
       "92  Sep-02         355\n",
       "93  Oct-02         306\n",
       "94  Nov-02         271\n",
       "95  Dec-02         306\n",
       "\n",
       "[96 rows x 2 columns]"
      ]
     },
     "execution_count": 3,
     "metadata": {},
     "output_type": "execute_result"
    }
   ],
   "source": [
    "Airlines"
   ]
  },
  {
   "cell_type": "code",
   "execution_count": 4,
   "id": "81e1bae5",
   "metadata": {
    "ExecuteTime": {
     "end_time": "2022-01-17T05:21:43.761448Z",
     "start_time": "2022-01-17T05:21:43.745463Z"
    }
   },
   "outputs": [
    {
     "data": {
      "text/html": [
       "<div>\n",
       "<style scoped>\n",
       "    .dataframe tbody tr th:only-of-type {\n",
       "        vertical-align: middle;\n",
       "    }\n",
       "\n",
       "    .dataframe tbody tr th {\n",
       "        vertical-align: top;\n",
       "    }\n",
       "\n",
       "    .dataframe thead th {\n",
       "        text-align: right;\n",
       "    }\n",
       "</style>\n",
       "<table border=\"1\" class=\"dataframe\">\n",
       "  <thead>\n",
       "    <tr style=\"text-align: right;\">\n",
       "      <th></th>\n",
       "      <th>Month</th>\n",
       "      <th>Passengers</th>\n",
       "    </tr>\n",
       "  </thead>\n",
       "  <tbody>\n",
       "    <tr>\n",
       "      <th>0</th>\n",
       "      <td>Jan-95</td>\n",
       "      <td>112</td>\n",
       "    </tr>\n",
       "    <tr>\n",
       "      <th>1</th>\n",
       "      <td>Feb-95</td>\n",
       "      <td>118</td>\n",
       "    </tr>\n",
       "    <tr>\n",
       "      <th>2</th>\n",
       "      <td>Mar-95</td>\n",
       "      <td>132</td>\n",
       "    </tr>\n",
       "    <tr>\n",
       "      <th>3</th>\n",
       "      <td>Apr-95</td>\n",
       "      <td>129</td>\n",
       "    </tr>\n",
       "    <tr>\n",
       "      <th>4</th>\n",
       "      <td>May-95</td>\n",
       "      <td>121</td>\n",
       "    </tr>\n",
       "  </tbody>\n",
       "</table>\n",
       "</div>"
      ],
      "text/plain": [
       "    Month  Passengers\n",
       "0  Jan-95         112\n",
       "1  Feb-95         118\n",
       "2  Mar-95         132\n",
       "3  Apr-95         129\n",
       "4  May-95         121"
      ]
     },
     "execution_count": 4,
     "metadata": {},
     "output_type": "execute_result"
    }
   ],
   "source": [
    "Airlines.head()"
   ]
  },
  {
   "cell_type": "code",
   "execution_count": 5,
   "id": "1eb8d444",
   "metadata": {
    "ExecuteTime": {
     "end_time": "2022-01-17T05:21:50.295720Z",
     "start_time": "2022-01-17T05:21:50.279991Z"
    }
   },
   "outputs": [
    {
     "data": {
      "text/plain": [
       "Month         0\n",
       "Passengers    0\n",
       "dtype: int64"
      ]
     },
     "execution_count": 5,
     "metadata": {},
     "output_type": "execute_result"
    }
   ],
   "source": [
    "Airlines.isnull().sum()"
   ]
  },
  {
   "cell_type": "code",
   "execution_count": 6,
   "id": "e770b6b7",
   "metadata": {
    "ExecuteTime": {
     "end_time": "2022-01-17T05:22:01.435378Z",
     "start_time": "2022-01-17T05:22:01.410591Z"
    }
   },
   "outputs": [
    {
     "data": {
      "text/html": [
       "<div>\n",
       "<style scoped>\n",
       "    .dataframe tbody tr th:only-of-type {\n",
       "        vertical-align: middle;\n",
       "    }\n",
       "\n",
       "    .dataframe tbody tr th {\n",
       "        vertical-align: top;\n",
       "    }\n",
       "\n",
       "    .dataframe thead th {\n",
       "        text-align: right;\n",
       "    }\n",
       "</style>\n",
       "<table border=\"1\" class=\"dataframe\">\n",
       "  <thead>\n",
       "    <tr style=\"text-align: right;\">\n",
       "      <th></th>\n",
       "      <th>Month</th>\n",
       "      <th>Passengers</th>\n",
       "      <th>months</th>\n",
       "    </tr>\n",
       "  </thead>\n",
       "  <tbody>\n",
       "    <tr>\n",
       "      <th>0</th>\n",
       "      <td>Jan-95</td>\n",
       "      <td>112</td>\n",
       "      <td>0</td>\n",
       "    </tr>\n",
       "    <tr>\n",
       "      <th>1</th>\n",
       "      <td>Feb-95</td>\n",
       "      <td>118</td>\n",
       "      <td>0</td>\n",
       "    </tr>\n",
       "    <tr>\n",
       "      <th>2</th>\n",
       "      <td>Mar-95</td>\n",
       "      <td>132</td>\n",
       "      <td>0</td>\n",
       "    </tr>\n",
       "    <tr>\n",
       "      <th>3</th>\n",
       "      <td>Apr-95</td>\n",
       "      <td>129</td>\n",
       "      <td>0</td>\n",
       "    </tr>\n",
       "    <tr>\n",
       "      <th>4</th>\n",
       "      <td>May-95</td>\n",
       "      <td>121</td>\n",
       "      <td>0</td>\n",
       "    </tr>\n",
       "  </tbody>\n",
       "</table>\n",
       "</div>"
      ],
      "text/plain": [
       "    Month  Passengers  months\n",
       "0  Jan-95         112       0\n",
       "1  Feb-95         118       0\n",
       "2  Mar-95         132       0\n",
       "3  Apr-95         129       0\n",
       "4  May-95         121       0"
      ]
     },
     "execution_count": 6,
     "metadata": {},
     "output_type": "execute_result"
    }
   ],
   "source": [
    "months=[\"Jan\",\"Feb\",\"Mar\",\"Apr\",\"May\",\"Jun\",\"Jul\",\"Aug\",\"Sep\",\"Oct\",\"Nov\",\"Dec\"]\n",
    "p=Airlines[\"Month\"][0]\n",
    "p[0:3]\n",
    "Airlines[\"months\"]=0\n",
    "Airlines.head()"
   ]
  },
  {
   "cell_type": "code",
   "execution_count": 7,
   "id": "411e080e",
   "metadata": {
    "ExecuteTime": {
     "end_time": "2022-01-17T05:22:09.141665Z",
     "start_time": "2022-01-17T05:22:09.071212Z"
    }
   },
   "outputs": [
    {
     "name": "stderr",
     "output_type": "stream",
     "text": [
      "<ipython-input-7-d62eeb441a77>:3: SettingWithCopyWarning: \n",
      "A value is trying to be set on a copy of a slice from a DataFrame\n",
      "\n",
      "See the caveats in the documentation: https://pandas.pydata.org/pandas-docs/stable/user_guide/indexing.html#returning-a-view-versus-a-copy\n",
      "  Airlines[\"months\"][i]=p[0:3]\n",
      "D:\\Farhat\\lib\\site-packages\\pandas\\core\\indexing.py:1637: SettingWithCopyWarning: \n",
      "A value is trying to be set on a copy of a slice from a DataFrame\n",
      "\n",
      "See the caveats in the documentation: https://pandas.pydata.org/pandas-docs/stable/user_guide/indexing.html#returning-a-view-versus-a-copy\n",
      "  self._setitem_single_block(indexer, value, name)\n"
     ]
    }
   ],
   "source": [
    "for i in range(96):\n",
    "    p=Airlines[\"Month\"][i]\n",
    "    Airlines[\"months\"][i]=p[0:3]"
   ]
  },
  {
   "cell_type": "code",
   "execution_count": 8,
   "id": "94b47031",
   "metadata": {
    "ExecuteTime": {
     "end_time": "2022-01-17T05:22:16.652075Z",
     "start_time": "2022-01-17T05:22:16.638285Z"
    }
   },
   "outputs": [],
   "source": [
    "month_dummies=pd.DataFrame(pd.get_dummies(Airlines[\"months\"]))\n",
    "month_dummies=month_dummies.iloc[:,[4,3,7,0,8,6,5,1,11,10,9,2]]"
   ]
  },
  {
   "cell_type": "code",
   "execution_count": 9,
   "id": "ac5e8199",
   "metadata": {
    "ExecuteTime": {
     "end_time": "2022-01-17T05:22:22.369072Z",
     "start_time": "2022-01-17T05:22:22.323107Z"
    }
   },
   "outputs": [],
   "source": [
    "Airlines1=pd.concat([Airlines,month_dummies],axis=1)\n",
    "Airlines1[\"t\"]=np.arange(1,97)\n",
    "Airlines1[\"t_Squared\"]=Airlines1[\"t\"]*Airlines1[\"t\"]\n",
    "Airlines1[\"log_passengers\"]=np.log(Airlines[\"Passengers\"])"
   ]
  },
  {
   "cell_type": "code",
   "execution_count": 10,
   "id": "5ddf5eec",
   "metadata": {
    "ExecuteTime": {
     "end_time": "2022-01-17T05:22:30.044065Z",
     "start_time": "2022-01-17T05:22:29.864815Z"
    }
   },
   "outputs": [
    {
     "data": {
      "text/plain": [
       "<AxesSubplot:>"
      ]
     },
     "execution_count": 10,
     "metadata": {},
     "output_type": "execute_result"
    },
    {
     "data": {
      "image/png": "[encoded data removed]",
      "text/plain": [
       "<Figure size 432x288 with 1 Axes>"
      ]
     },
     "metadata": {
      "needs_background": "light"
     },
     "output_type": "display_data"
    }
   ],
   "source": [
    "Airlines1.Passengers.plot(style=\"k\")"
   ]
  },
  {
   "cell_type": "code",
   "execution_count": 11,
   "id": "b1a5b7c4",
   "metadata": {
    "ExecuteTime": {
     "end_time": "2022-01-17T05:22:39.519557Z",
     "start_time": "2022-01-17T05:22:39.515570Z"
    }
   },
   "outputs": [],
   "source": [
    "Train=Airlines1.head(80)\n",
    "Test=Airlines1.tail(16)\n",
    "Test=Test.set_index(np.arange(1,17))"
   ]
  },
  {
   "cell_type": "code",
   "execution_count": 15,
   "id": "e77498ba",
   "metadata": {
    "ExecuteTime": {
     "end_time": "2022-01-17T05:23:22.338552Z",
     "start_time": "2022-01-17T05:23:22.304628Z"
    }
   },
   "outputs": [
    {
     "data": {
      "text/plain": [
       "47.542624067726734"
      ]
     },
     "execution_count": 15,
     "metadata": {},
     "output_type": "execute_result"
    }
   ],
   "source": [
    "Lin_model=snf.ols(\"Passengers~t\",data=Train).fit()\n",
    "Lin_pred=pd.Series(Lin_model.predict(pd.DataFrame(Test[\"t\"])))\n",
    "Lin_rmse=np.sqrt(np.mean((np.array(Test[\"Passengers\"])-np.array(Lin_pred))**2))\n",
    "Lin_rmse"
   ]
  },
  {
   "cell_type": "code",
   "execution_count": 21,
   "id": "230171cc",
   "metadata": {
    "ExecuteTime": {
     "end_time": "2022-01-17T05:25:09.816264Z",
     "start_time": "2022-01-17T05:25:09.791998Z"
    }
   },
   "outputs": [
    {
     "data": {
      "text/plain": [
       "43.79373939334322"
      ]
     },
     "execution_count": 21,
     "metadata": {},
     "output_type": "execute_result"
    }
   ],
   "source": [
    "Exp_model=snf.ols(\"log_passengers~t\",data=Train).fit()\n",
    "Exp_pred=pd.Series(Exp_model.predict(pd.DataFrame(Test[\"t\"])))\n",
    "Exp_rmse=np.sqrt(np.mean((np.array(Test[\"Passengers\"])-np.array(np.exp(Exp_pred)))**2))\n",
    "Exp_rmse"
   ]
  },
  {
   "cell_type": "code",
   "execution_count": 23,
   "id": "fd915164",
   "metadata": {
    "ExecuteTime": {
     "end_time": "2022-01-17T05:25:28.849559Z",
     "start_time": "2022-01-17T05:25:28.828393Z"
    }
   },
   "outputs": [
    {
     "data": {
      "text/plain": [
       "43.6544036958425"
      ]
     },
     "execution_count": 23,
     "metadata": {},
     "output_type": "execute_result"
    }
   ],
   "source": [
    "Quad_model=snf.ols(\"Passengers~t+t_Squared\",data=Train).fit()\n",
    "Quad_pred=pd.Series(Quad_model.predict(pd.DataFrame(Test[[\"t\",\"t_Squared\"]])))\n",
    "Quad_rmse=np.sqrt(np.mean((np.array(Test[\"Passengers\"])-np.array(Quad_pred))**2))\n",
    "Quad_rmse"
   ]
  },
  {
   "cell_type": "code",
   "execution_count": 24,
   "id": "7f55d558",
   "metadata": {
    "ExecuteTime": {
     "end_time": "2022-01-17T05:25:41.249130Z",
     "start_time": "2022-01-17T05:25:41.198058Z"
    }
   },
   "outputs": [],
   "source": [
    "Add_sea=snf.ols(\"Passengers~Jan+Feb+Mar+Apr+May+Jun+Jul+Aug+Sep+Oct+Nov+Dec\",data=Train).fit() \n",
    "Add_sea_pred=pd.Series(Add_sea.predict(Test[[\"Jan\",\"Feb\",\"Mar\",\"Apr\",\"May\",\"Jun\",\"Jul\",\"Aug\",\"Sep\",\"Oct\",\"Nov\",\"Dec\"]]))\n",
    "Add_sea_rmse=np.sqrt(np.mean((np.array(Test[\"Passengers\"])-np.array(Add_sea_pred))**2))"
   ]
  },
  {
   "cell_type": "code",
   "execution_count": 26,
   "id": "472746f2",
   "metadata": {
    "ExecuteTime": {
     "end_time": "2022-01-17T05:25:52.472404Z",
     "start_time": "2022-01-17T05:25:52.459407Z"
    }
   },
   "outputs": [
    {
     "data": {
      "text/plain": [
       "129.266476414433"
      ]
     },
     "execution_count": 26,
     "metadata": {},
     "output_type": "execute_result"
    }
   ],
   "source": [
    "Add_sea_rmse"
   ]
  },
  {
   "cell_type": "code",
   "execution_count": 28,
   "id": "5c961efb",
   "metadata": {
    "ExecuteTime": {
     "end_time": "2022-01-17T05:26:25.147301Z",
     "start_time": "2022-01-17T05:26:25.090660Z"
    }
   },
   "outputs": [
    {
     "data": {
      "text/plain": [
       "23.91098357008622"
      ]
     },
     "execution_count": 28,
     "metadata": {},
     "output_type": "execute_result"
    }
   ],
   "source": [
    "Add_sea_Quad=snf.ols(\"Passengers~Jan+Feb+Mar+Apr+May+Jun+Jul+Aug+Sep+Oct+Nov+Dec+t+t_Squared\",data=Train).fit() \n",
    "Add_sea_Quad_pred=pd.Series(Add_sea_Quad.predict(Test[[\"Jan\",\"Feb\",\"Mar\",\"Apr\",\"May\",\"Jun\",\"Jul\",\"Aug\",\"Sep\",\"Oct\",\"Nov\",\"Dec\",\"t\",\"t_Squared\"]]))\n",
    "Add_sea_Quad_rmse=np.sqrt(np.mean((np.array(Test[\"Passengers\"])-np.array(Add_sea_Quad_pred))**2))\n",
    "Add_sea_Quad_rmse"
   ]
  },
  {
   "cell_type": "code",
   "execution_count": 29,
   "id": "990d07ae",
   "metadata": {
    "ExecuteTime": {
     "end_time": "2022-01-17T05:26:33.331891Z",
     "start_time": "2022-01-17T05:26:33.296986Z"
    }
   },
   "outputs": [],
   "source": [
    "Mul_ad_sea=snf.ols(\"log_passengers~Jan+Feb+Mar+Apr+May+Jun+Jul+Aug+Sep+Oct+Nov+Dec\",data=Train).fit()\n",
    "Mul_ad_sea_pred=pd.Series(Mul_ad_sea.predict(Test[[\"Jan\",\"Feb\",\"Mar\",\"Apr\",\"May\",\"Jun\",\"Jul\",\"Aug\",\"Sep\",\"Oct\",\"Nov\",\"Dec\"]]))\n",
    "Mul_ad_rmse=np.sqrt(np.mean((np.array(Test[\"Passengers\"])-np.array(np.exp(Mul_ad_sea_pred)))**2))"
   ]
  },
  {
   "cell_type": "code",
   "execution_count": 30,
   "id": "7cbce5b4",
   "metadata": {
    "ExecuteTime": {
     "end_time": "2022-01-17T05:26:47.211478Z",
     "start_time": "2022-01-17T05:26:47.207462Z"
    }
   },
   "outputs": [
    {
     "data": {
      "text/plain": [
       "135.32648414621053"
      ]
     },
     "execution_count": 30,
     "metadata": {},
     "output_type": "execute_result"
    }
   ],
   "source": [
    "Mul_ad_rmse"
   ]
  },
  {
   "cell_type": "code",
   "execution_count": 31,
   "id": "e035ab6b",
   "metadata": {
    "ExecuteTime": {
     "end_time": "2022-01-17T05:26:56.180034Z",
     "start_time": "2022-01-17T05:26:56.129609Z"
    }
   },
   "outputs": [],
   "source": [
    "Mul_ad_Quad_sea=snf.ols(\"log_passengers~Jan+Feb+Mar+Apr+May+Jun+Jul+Aug+Sep+Oct+Nov+Dec+t+t_Squared\",data=Train).fit()\n",
    "Mul_ad_Quad_sea_pred=pd.Series(Mul_ad_Quad_sea.predict(Test[[\"Jan\",\"Feb\",\"Mar\",\"Apr\",\"May\",\"Jun\",\"Jul\",\"Aug\",\"Sep\",\"Oct\",\"Nov\",\"Dec\",\"t\",\"t_Squared\"]]))\n",
    "Mul_ad_sea_rmse=np.sqrt(np.mean((np.array(Test[\"Passengers\"])-np.array(np.exp(Mul_ad_Quad_sea_pred)))**2))"
   ]
  },
  {
   "cell_type": "code",
   "execution_count": 33,
   "id": "e15be159",
   "metadata": {
    "ExecuteTime": {
     "end_time": "2022-01-17T05:27:26.359591Z",
     "start_time": "2022-01-17T05:27:26.338651Z"
    }
   },
   "outputs": [
    {
     "data": {
      "text/plain": [
       "23.08634854595471"
      ]
     },
     "execution_count": 33,
     "metadata": {},
     "output_type": "execute_result"
    }
   ],
   "source": [
    "Mul_ad_sea_rmse"
   ]
  },
  {
   "cell_type": "code",
   "execution_count": 34,
   "id": "9f5ee321",
   "metadata": {
    "ExecuteTime": {
     "end_time": "2022-01-17T05:27:33.519133Z",
     "start_time": "2022-01-17T05:27:33.504142Z"
    }
   },
   "outputs": [],
   "source": [
    "data = {\"MODEL\":pd.Series([\"Lin_rmse\",\"Exp_rmse\",\"Quad_rmse\",\"Add_sea_rmse\",\"Add_sea_Quad_rmse\",\"Mul_ad_rmse\",\"Mul_ad_sea_rmse\"]),\"RMSE_Values\":pd.Series([Lin_rmse,Exp_rmse,Quad_rmse,Add_sea_rmse,Add_sea_Quad_rmse,Mul_ad_rmse,Mul_ad_sea_rmse])}\n",
    "table_rmse=pd.DataFrame(data)"
   ]
  },
  {
   "cell_type": "code",
   "execution_count": 35,
   "id": "e07a2bb6",
   "metadata": {
    "ExecuteTime": {
     "end_time": "2022-01-17T05:27:42.042390Z",
     "start_time": "2022-01-17T05:27:42.016446Z"
    }
   },
   "outputs": [],
   "source": [
    "model_final=snf.ols(\"log_passengers~Jan+Feb+Mar+Apr+May+Jun+Jul+Aug+Sep+Oct+Nov+Dec+t+t_Squared\",data=Airlines1).fit()"
   ]
  },
  {
   "cell_type": "code",
   "execution_count": 36,
   "id": "398e7e69",
   "metadata": {
    "ExecuteTime": {
     "end_time": "2022-01-17T05:27:51.854496Z",
     "start_time": "2022-01-17T05:27:51.833581Z"
    }
   },
   "outputs": [
    {
     "data": {
      "text/plain": [
       "<statsmodels.regression.linear_model.RegressionResultsWrapper at 0x2197d42fd00>"
      ]
     },
     "execution_count": 36,
     "metadata": {},
     "output_type": "execute_result"
    }
   ],
   "source": [
    "model_final"
   ]
  },
  {
   "cell_type": "code",
   "execution_count": null,
   "id": "c159aedf",
   "metadata": {},
   "outputs": [],
   "source": []
  }
 ],
 "metadata": {
  "kernelspec": {
   "display_name": "Python 3",
   "language": "python",
   "name": "python3"
  },
  "language_info": {
   "codemirror_mode": {
    "name": "ipython",
    "version": 3
   },
   "file_extension": ".py",
   "mimetype": "text/x-python",
   "name": "python",
   "nbconvert_exporter": "python",
   "pygments_lexer": "ipython3",
   "version": "3.8.8"
  }
 },
 "nbformat": 4,
 "nbformat_minor": 5
}
