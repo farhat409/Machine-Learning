{
 "cells": [
  {
   "cell_type": "code",
   "execution_count": 1,
   "id": "d91dd071",
   "metadata": {
    "ExecuteTime": {
     "end_time": "2022-01-15T08:01:12.646726Z",
     "start_time": "2022-01-15T08:01:11.492756Z"
    }
   },
   "outputs": [],
   "source": [
    "import numpy as np\n",
    "import pandas as pd\n",
    "import matplotlib.pyplot as plt"
   ]
  },
  {
   "cell_type": "code",
   "execution_count": 2,
   "id": "75d88f9b",
   "metadata": {
    "ExecuteTime": {
     "end_time": "2022-01-15T08:02:33.409002Z",
     "start_time": "2022-01-15T08:02:33.303322Z"
    }
   },
   "outputs": [],
   "source": [
    "salary_train=pd.read_csv('SalaryData_Train.csv')\n",
    "salary_test=pd.read_csv('SalaryData_Test.csv')\n",
    "salary_train.columns\n",
    "salary_test.columns\n",
    "string_columns=['workclass','education','maritalstatus','occupation','relationship','race','sex','native']"
   ]
  },
  {
   "cell_type": "code",
   "execution_count": 3,
   "id": "a755014c",
   "metadata": {
    "ExecuteTime": {
     "end_time": "2022-01-15T08:02:45.248623Z",
     "start_time": "2022-01-15T08:02:43.986514Z"
    }
   },
   "outputs": [],
   "source": [
    "from sklearn import preprocessing\n",
    "label_encoder=preprocessing.LabelEncoder()\n",
    "for i in string_columns:\n",
    "    salary_train[i]=label_encoder.fit_transform(salary_train[i])\n",
    "    salary_test[i]=label_encoder.fit_transform(salary_test[i])\n",
    "\n",
    "col_names=list(salary_train.columns)\n",
    "train_X=salary_train[col_names[0:13]]\n",
    "train_Y=salary_train[col_names[13]]\n",
    "test_x=salary_test[col_names[0:13]]\n",
    "test_y=salary_test[col_names[13]]"
   ]
  },
  {
   "cell_type": "code",
   "execution_count": 4,
   "id": "60785d57",
   "metadata": {
    "ExecuteTime": {
     "end_time": "2022-01-15T08:02:55.777560Z",
     "start_time": "2022-01-15T08:02:55.667460Z"
    }
   },
   "outputs": [
    {
     "data": {
      "text/plain": [
       "0.7946879150066402"
      ]
     },
     "execution_count": 4,
     "metadata": {},
     "output_type": "execute_result"
    }
   ],
   "source": [
    "from sklearn.naive_bayes import GaussianNB\n",
    "Gmodel=GaussianNB()\n",
    "train_pred_gau=Gmodel.fit(train_X,train_Y).predict(train_X)\n",
    "test_pred_gau=Gmodel.fit(train_X,train_Y).predict(test_x)\n",
    "\n",
    "train_acc_gau=np.mean(train_pred_gau==train_Y)\n",
    "test_acc_gau=np.mean(test_pred_gau==test_y)\n",
    "train_acc_gau\n",
    "test_acc_gau"
   ]
  },
  {
   "cell_type": "code",
   "execution_count": 5,
   "id": "8af7c36a",
   "metadata": {
    "ExecuteTime": {
     "end_time": "2022-01-15T08:03:14.786320Z",
     "start_time": "2022-01-15T08:03:14.618985Z"
    }
   },
   "outputs": [
    {
     "data": {
      "text/plain": [
       "0.7749667994687915"
      ]
     },
     "execution_count": 5,
     "metadata": {},
     "output_type": "execute_result"
    }
   ],
   "source": [
    "from sklearn.naive_bayes import MultinomialNB\n",
    "Mmodel=MultinomialNB()\n",
    "train_pred_multi=Mmodel.fit(train_X,train_Y).predict(train_X)\n",
    "test_pred_multi=Mmodel.fit(train_X,train_Y).predict(test_x)\n",
    "\n",
    "train_acc_multi=np.mean(train_pred_multi==train_Y)\n",
    "test_acc_multi=np.mean(test_pred_multi==test_y)\n",
    "train_acc_multi\n",
    "test_acc_multi"
   ]
  },
  {
   "cell_type": "code",
   "execution_count": null,
   "id": "f9a97322",
   "metadata": {},
   "outputs": [],
   "source": []
  }
 ],
 "metadata": {
  "kernelspec": {
   "display_name": "Python 3",
   "language": "python",
   "name": "python3"
  },
  "language_info": {
   "codemirror_mode": {
    "name": "ipython",
    "version": 3
   },
   "file_extension": ".py",
   "mimetype": "text/x-python",
   "name": "python",
   "nbconvert_exporter": "python",
   "pygments_lexer": "ipython3",
   "version": "3.8.8"
  }
 },
 "nbformat": 4,
 "nbformat_minor": 5
}
