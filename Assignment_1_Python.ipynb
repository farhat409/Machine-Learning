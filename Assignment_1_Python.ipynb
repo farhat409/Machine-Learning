{
 "cells": [
  {
   "cell_type": "code",
   "execution_count": 1,
   "id": "a2406840",
   "metadata": {
    "ExecuteTime": {
     "end_time": "2021-12-04T09:06:32.995393Z",
     "start_time": "2021-12-04T09:06:23.241176Z"
    }
   },
   "outputs": [],
   "source": [
    "import numpy as np\n",
    "import pandas as pd\n",
    "import matplotlib.pyplot as plt\n",
    "import seaborn as sns"
   ]
  },
  {
   "cell_type": "code",
   "execution_count": 3,
   "id": "84e71096",
   "metadata": {
    "ExecuteTime": {
     "end_time": "2021-10-30T15:54:41.187026Z",
     "start_time": "2021-10-30T15:54:41.180147Z"
    }
   },
   "outputs": [],
   "source": [
    "A=pd.Series([34,36,36,38,38,39,39,40,40,41,41,41,41,42,42,45,49,56])"
   ]
  },
  {
   "cell_type": "code",
   "execution_count": 4,
   "id": "1f316e65",
   "metadata": {
    "ExecuteTime": {
     "end_time": "2021-10-30T15:54:45.937788Z",
     "start_time": "2021-10-30T15:54:45.920457Z"
    }
   },
   "outputs": [
    {
     "data": {
      "text/plain": [
       "0     34\n",
       "1     36\n",
       "2     36\n",
       "3     38\n",
       "4     38\n",
       "5     39\n",
       "6     39\n",
       "7     40\n",
       "8     40\n",
       "9     41\n",
       "10    41\n",
       "11    41\n",
       "12    41\n",
       "13    42\n",
       "14    42\n",
       "15    45\n",
       "16    49\n",
       "17    56\n",
       "dtype: int64"
      ]
     },
     "execution_count": 4,
     "metadata": {},
     "output_type": "execute_result"
    }
   ],
   "source": [
    "A"
   ]
  },
  {
   "cell_type": "code",
   "execution_count": 5,
   "id": "3b1fe1a4",
   "metadata": {
    "ExecuteTime": {
     "end_time": "2021-10-30T15:55:07.862764Z",
     "start_time": "2021-10-30T15:55:07.853476Z"
    }
   },
   "outputs": [
    {
     "data": {
      "text/plain": [
       "41.0"
      ]
     },
     "execution_count": 5,
     "metadata": {},
     "output_type": "execute_result"
    }
   ],
   "source": [
    "A.mean()"
   ]
  },
  {
   "cell_type": "code",
   "execution_count": 6,
   "id": "f8a4ad2d",
   "metadata": {
    "ExecuteTime": {
     "end_time": "2021-10-30T15:55:24.612781Z",
     "start_time": "2021-10-30T15:55:24.596161Z"
    }
   },
   "outputs": [
    {
     "data": {
      "text/plain": [
       "40.5"
      ]
     },
     "execution_count": 6,
     "metadata": {},
     "output_type": "execute_result"
    }
   ],
   "source": [
    "A.median()"
   ]
  },
  {
   "cell_type": "code",
   "execution_count": 7,
   "id": "88a229a4",
   "metadata": {
    "ExecuteTime": {
     "end_time": "2021-10-30T15:55:38.115341Z",
     "start_time": "2021-10-30T15:55:38.107972Z"
    }
   },
   "outputs": [
    {
     "data": {
      "text/plain": [
       "0    41\n",
       "dtype: int64"
      ]
     },
     "execution_count": 7,
     "metadata": {},
     "output_type": "execute_result"
    }
   ],
   "source": [
    "A.mode()"
   ]
  },
  {
   "cell_type": "code",
   "execution_count": 8,
   "id": "95b51321",
   "metadata": {
    "ExecuteTime": {
     "end_time": "2021-10-30T15:56:02.496352Z",
     "start_time": "2021-10-30T15:56:02.486708Z"
    }
   },
   "outputs": [
    {
     "data": {
      "text/plain": [
       "25.529411764705884"
      ]
     },
     "execution_count": 8,
     "metadata": {},
     "output_type": "execute_result"
    }
   ],
   "source": [
    "A.var()"
   ]
  },
  {
   "cell_type": "code",
   "execution_count": 10,
   "id": "ef1556fd",
   "metadata": {
    "ExecuteTime": {
     "end_time": "2021-10-30T15:56:29.696837Z",
     "start_time": "2021-10-30T15:56:29.688434Z"
    }
   },
   "outputs": [
    {
     "data": {
      "text/plain": [
       "5.05266382858645"
      ]
     },
     "execution_count": 10,
     "metadata": {},
     "output_type": "execute_result"
    }
   ],
   "source": [
    "A.std()"
   ]
  },
  {
   "cell_type": "code",
   "execution_count": 11,
   "id": "13e3ce26",
   "metadata": {
    "ExecuteTime": {
     "end_time": "2021-10-30T15:57:00.954082Z",
     "start_time": "2021-10-30T15:57:00.721412Z"
    }
   },
   "outputs": [
    {
     "data": {
      "text/plain": [
       "{'whiskers': [<matplotlib.lines.Line2D at 0x107236366d0>,\n",
       "  <matplotlib.lines.Line2D at 0x10722e71790>],\n",
       " 'caps': [<matplotlib.lines.Line2D at 0x10722e71af0>,\n",
       "  <matplotlib.lines.Line2D at 0x10722e712b0>],\n",
       " 'boxes': [<matplotlib.lines.Line2D at 0x10723636a90>],\n",
       " 'medians': [<matplotlib.lines.Line2D at 0x107223da550>],\n",
       " 'fliers': [<matplotlib.lines.Line2D at 0x1072363b340>],\n",
       " 'means': []}"
      ]
     },
     "execution_count": 11,
     "metadata": {},
     "output_type": "execute_result"
    },
    {
     "data": {
      "image/png": "[encoded data removed]",
      "text/plain": [
       "<Figure size 432x288 with 1 Axes>"
      ]
     },
     "metadata": {
      "needs_background": "light"
     },
     "output_type": "display_data"
    }
   ],
   "source": [
    "plt.boxplot(A)"
   ]
  },
  {
   "cell_type": "code",
   "execution_count": 4,
   "id": "25d17848",
   "metadata": {
    "ExecuteTime": {
     "end_time": "2021-12-04T09:08:39.460190Z",
     "start_time": "2021-12-04T09:08:39.445739Z"
    }
   },
   "outputs": [
    {
     "ename": "TypeError",
     "evalue": "'type' object is not subscriptable",
     "output_type": "error",
     "traceback": [
      "\u001b[1;31m---------------------------------------------------------------------------\u001b[0m",
      "\u001b[1;31mTypeError\u001b[0m                                 Traceback (most recent call last)",
      "\u001b[1;32m<ipython-input-4-332965afb47a>\u001b[0m in \u001b[0;36m<module>\u001b[1;34m\u001b[0m\n\u001b[1;32m----> 1\u001b[1;33m \u001b[0mw\u001b[0m\u001b[1;33m=\u001b[0m\u001b[0mpd\u001b[0m\u001b[1;33m.\u001b[0m\u001b[0mSeries\u001b[0m\u001b[1;33m[\u001b[0m\u001b[1;33m(\u001b[0m\u001b[1;33m-\u001b[0m\u001b[1;36m2000\u001b[0m\u001b[1;33m,\u001b[0m\u001b[1;33m-\u001b[0m\u001b[1;36m1000.\u001b[0m\u001b[1;33m,\u001b[0m\u001b[1;36m0\u001b[0m\u001b[1;33m,\u001b[0m\u001b[1;36m1000\u001b[0m\u001b[1;33m,\u001b[0m\u001b[1;36m1000\u001b[0m\u001b[1;33m)\u001b[0m\u001b[1;33m]\u001b[0m\u001b[1;33m\u001b[0m\u001b[1;33m\u001b[0m\u001b[0m\n\u001b[0m",
      "\u001b[1;31mTypeError\u001b[0m: 'type' object is not subscriptable"
     ]
    }
   ],
   "source": [
    "w=pd.Series[(-2000,-1000.,0,1000,1000)]"
   ]
  },
  {
   "cell_type": "code",
   "execution_count": null,
   "id": "78568ec4",
   "metadata": {},
   "outputs": [],
   "source": []
  }
 ],
 "metadata": {
  "kernelspec": {
   "display_name": "Python 3",
   "language": "python",
   "name": "python3"
  },
  "language_info": {
   "codemirror_mode": {
    "name": "ipython",
    "version": 3
   },
   "file_extension": ".py",
   "mimetype": "text/x-python",
   "name": "python",
   "nbconvert_exporter": "python",
   "pygments_lexer": "ipython3",
   "version": "3.8.8"
  }
 },
 "nbformat": 4,
 "nbformat_minor": 5
}
