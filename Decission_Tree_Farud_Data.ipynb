{
 "cells": [
  {
   "cell_type": "code",
   "execution_count": 1,
   "id": "471b6d7a",
   "metadata": {
    "ExecuteTime": {
     "end_time": "2022-01-15T10:13:12.098843Z",
     "start_time": "2022-01-15T10:13:11.188331Z"
    }
   },
   "outputs": [],
   "source": [
    "import pandas as pd\n",
    "import numpy as np\n",
    "import matplotlib.pyplot"
   ]
  },
  {
   "cell_type": "code",
   "execution_count": 2,
   "id": "c2838652",
   "metadata": {
    "ExecuteTime": {
     "end_time": "2022-01-15T10:13:39.808373Z",
     "start_time": "2022-01-15T10:13:39.789025Z"
    }
   },
   "outputs": [],
   "source": [
    "fraud = pd.read_csv('Fraud_check.csv')"
   ]
  },
  {
   "cell_type": "code",
   "execution_count": 3,
   "id": "edaa126d",
   "metadata": {
    "ExecuteTime": {
     "end_time": "2022-01-15T10:13:45.518651Z",
     "start_time": "2022-01-15T10:13:45.484116Z"
    }
   },
   "outputs": [
    {
     "data": {
      "text/html": [
       "<div>\n",
       "<style scoped>\n",
       "    .dataframe tbody tr th:only-of-type {\n",
       "        vertical-align: middle;\n",
       "    }\n",
       "\n",
       "    .dataframe tbody tr th {\n",
       "        vertical-align: top;\n",
       "    }\n",
       "\n",
       "    .dataframe thead th {\n",
       "        text-align: right;\n",
       "    }\n",
       "</style>\n",
       "<table border=\"1\" class=\"dataframe\">\n",
       "  <thead>\n",
       "    <tr style=\"text-align: right;\">\n",
       "      <th></th>\n",
       "      <th>Undergrad</th>\n",
       "      <th>Marital.Status</th>\n",
       "      <th>Taxable.Income</th>\n",
       "      <th>City.Population</th>\n",
       "      <th>Work.Experience</th>\n",
       "      <th>Urban</th>\n",
       "    </tr>\n",
       "  </thead>\n",
       "  <tbody>\n",
       "    <tr>\n",
       "      <th>0</th>\n",
       "      <td>NO</td>\n",
       "      <td>Single</td>\n",
       "      <td>68833</td>\n",
       "      <td>50047</td>\n",
       "      <td>10</td>\n",
       "      <td>YES</td>\n",
       "    </tr>\n",
       "    <tr>\n",
       "      <th>1</th>\n",
       "      <td>YES</td>\n",
       "      <td>Divorced</td>\n",
       "      <td>33700</td>\n",
       "      <td>134075</td>\n",
       "      <td>18</td>\n",
       "      <td>YES</td>\n",
       "    </tr>\n",
       "    <tr>\n",
       "      <th>2</th>\n",
       "      <td>NO</td>\n",
       "      <td>Married</td>\n",
       "      <td>36925</td>\n",
       "      <td>160205</td>\n",
       "      <td>30</td>\n",
       "      <td>YES</td>\n",
       "    </tr>\n",
       "    <tr>\n",
       "      <th>3</th>\n",
       "      <td>YES</td>\n",
       "      <td>Single</td>\n",
       "      <td>50190</td>\n",
       "      <td>193264</td>\n",
       "      <td>15</td>\n",
       "      <td>YES</td>\n",
       "    </tr>\n",
       "    <tr>\n",
       "      <th>4</th>\n",
       "      <td>NO</td>\n",
       "      <td>Married</td>\n",
       "      <td>81002</td>\n",
       "      <td>27533</td>\n",
       "      <td>28</td>\n",
       "      <td>NO</td>\n",
       "    </tr>\n",
       "    <tr>\n",
       "      <th>...</th>\n",
       "      <td>...</td>\n",
       "      <td>...</td>\n",
       "      <td>...</td>\n",
       "      <td>...</td>\n",
       "      <td>...</td>\n",
       "      <td>...</td>\n",
       "    </tr>\n",
       "    <tr>\n",
       "      <th>595</th>\n",
       "      <td>YES</td>\n",
       "      <td>Divorced</td>\n",
       "      <td>76340</td>\n",
       "      <td>39492</td>\n",
       "      <td>7</td>\n",
       "      <td>YES</td>\n",
       "    </tr>\n",
       "    <tr>\n",
       "      <th>596</th>\n",
       "      <td>YES</td>\n",
       "      <td>Divorced</td>\n",
       "      <td>69967</td>\n",
       "      <td>55369</td>\n",
       "      <td>2</td>\n",
       "      <td>YES</td>\n",
       "    </tr>\n",
       "    <tr>\n",
       "      <th>597</th>\n",
       "      <td>NO</td>\n",
       "      <td>Divorced</td>\n",
       "      <td>47334</td>\n",
       "      <td>154058</td>\n",
       "      <td>0</td>\n",
       "      <td>YES</td>\n",
       "    </tr>\n",
       "    <tr>\n",
       "      <th>598</th>\n",
       "      <td>YES</td>\n",
       "      <td>Married</td>\n",
       "      <td>98592</td>\n",
       "      <td>180083</td>\n",
       "      <td>17</td>\n",
       "      <td>NO</td>\n",
       "    </tr>\n",
       "    <tr>\n",
       "      <th>599</th>\n",
       "      <td>NO</td>\n",
       "      <td>Divorced</td>\n",
       "      <td>96519</td>\n",
       "      <td>158137</td>\n",
       "      <td>16</td>\n",
       "      <td>NO</td>\n",
       "    </tr>\n",
       "  </tbody>\n",
       "</table>\n",
       "<p>600 rows × 6 columns</p>\n",
       "</div>"
      ],
      "text/plain": [
       "    Undergrad Marital.Status  Taxable.Income  City.Population  \\\n",
       "0          NO         Single           68833            50047   \n",
       "1         YES       Divorced           33700           134075   \n",
       "2          NO        Married           36925           160205   \n",
       "3         YES         Single           50190           193264   \n",
       "4          NO        Married           81002            27533   \n",
       "..        ...            ...             ...              ...   \n",
       "595       YES       Divorced           76340            39492   \n",
       "596       YES       Divorced           69967            55369   \n",
       "597        NO       Divorced           47334           154058   \n",
       "598       YES        Married           98592           180083   \n",
       "599        NO       Divorced           96519           158137   \n",
       "\n",
       "     Work.Experience Urban  \n",
       "0                 10   YES  \n",
       "1                 18   YES  \n",
       "2                 30   YES  \n",
       "3                 15   YES  \n",
       "4                 28    NO  \n",
       "..               ...   ...  \n",
       "595                7   YES  \n",
       "596                2   YES  \n",
       "597                0   YES  \n",
       "598               17    NO  \n",
       "599               16    NO  \n",
       "\n",
       "[600 rows x 6 columns]"
      ]
     },
     "execution_count": 3,
     "metadata": {},
     "output_type": "execute_result"
    }
   ],
   "source": [
    "fraud"
   ]
  },
  {
   "cell_type": "code",
   "execution_count": 4,
   "id": "c7ce2b07",
   "metadata": {
    "ExecuteTime": {
     "end_time": "2022-01-15T10:13:57.008823Z",
     "start_time": "2022-01-15T10:13:56.953126Z"
    }
   },
   "outputs": [],
   "source": [
    "fraud[\"income\"]=\"<=30000\"\n",
    "fraud.loc[fraud[\"Taxable.Income\"]>=30000,\"income\"]=\"Good\"\n",
    "fraud.loc[fraud[\"Taxable.Income\"]<=30000,\"income\"]=\"Risky\""
   ]
  },
  {
   "cell_type": "code",
   "execution_count": 5,
   "id": "97fd1340",
   "metadata": {
    "ExecuteTime": {
     "end_time": "2022-01-15T10:14:08.737966Z",
     "start_time": "2022-01-15T10:14:08.723263Z"
    }
   },
   "outputs": [],
   "source": [
    "fraud.drop([\"Taxable.Income\"],axis=1,inplace=True)"
   ]
  },
  {
   "cell_type": "code",
   "execution_count": 6,
   "id": "4fe0e4e8",
   "metadata": {
    "ExecuteTime": {
     "end_time": "2022-01-15T10:14:20.585126Z",
     "start_time": "2022-01-15T10:14:20.579868Z"
    }
   },
   "outputs": [],
   "source": [
    "fraud.rename(columns={\"Undergrad\":\"undergrad\",\"Marital.Status\":\"marital\",\"City.Population\":\"population\",\"Work.Experience\":\"experience\",\"Urban\":\"urban\"},inplace=True)"
   ]
  },
  {
   "cell_type": "code",
   "execution_count": 7,
   "id": "a46bf01b",
   "metadata": {
    "ExecuteTime": {
     "end_time": "2022-01-15T10:14:30.090719Z",
     "start_time": "2022-01-15T10:14:30.061594Z"
    }
   },
   "outputs": [
    {
     "data": {
      "text/html": [
       "<div>\n",
       "<style scoped>\n",
       "    .dataframe tbody tr th:only-of-type {\n",
       "        vertical-align: middle;\n",
       "    }\n",
       "\n",
       "    .dataframe tbody tr th {\n",
       "        vertical-align: top;\n",
       "    }\n",
       "\n",
       "    .dataframe thead th {\n",
       "        text-align: right;\n",
       "    }\n",
       "</style>\n",
       "<table border=\"1\" class=\"dataframe\">\n",
       "  <thead>\n",
       "    <tr style=\"text-align: right;\">\n",
       "      <th></th>\n",
       "      <th>undergrad</th>\n",
       "      <th>marital</th>\n",
       "      <th>population</th>\n",
       "      <th>experience</th>\n",
       "      <th>urban</th>\n",
       "      <th>income</th>\n",
       "    </tr>\n",
       "  </thead>\n",
       "  <tbody>\n",
       "    <tr>\n",
       "      <th>0</th>\n",
       "      <td>NO</td>\n",
       "      <td>Single</td>\n",
       "      <td>50047</td>\n",
       "      <td>10</td>\n",
       "      <td>YES</td>\n",
       "      <td>Good</td>\n",
       "    </tr>\n",
       "    <tr>\n",
       "      <th>1</th>\n",
       "      <td>YES</td>\n",
       "      <td>Divorced</td>\n",
       "      <td>134075</td>\n",
       "      <td>18</td>\n",
       "      <td>YES</td>\n",
       "      <td>Good</td>\n",
       "    </tr>\n",
       "    <tr>\n",
       "      <th>2</th>\n",
       "      <td>NO</td>\n",
       "      <td>Married</td>\n",
       "      <td>160205</td>\n",
       "      <td>30</td>\n",
       "      <td>YES</td>\n",
       "      <td>Good</td>\n",
       "    </tr>\n",
       "    <tr>\n",
       "      <th>3</th>\n",
       "      <td>YES</td>\n",
       "      <td>Single</td>\n",
       "      <td>193264</td>\n",
       "      <td>15</td>\n",
       "      <td>YES</td>\n",
       "      <td>Good</td>\n",
       "    </tr>\n",
       "    <tr>\n",
       "      <th>4</th>\n",
       "      <td>NO</td>\n",
       "      <td>Married</td>\n",
       "      <td>27533</td>\n",
       "      <td>28</td>\n",
       "      <td>NO</td>\n",
       "      <td>Good</td>\n",
       "    </tr>\n",
       "    <tr>\n",
       "      <th>...</th>\n",
       "      <td>...</td>\n",
       "      <td>...</td>\n",
       "      <td>...</td>\n",
       "      <td>...</td>\n",
       "      <td>...</td>\n",
       "      <td>...</td>\n",
       "    </tr>\n",
       "    <tr>\n",
       "      <th>595</th>\n",
       "      <td>YES</td>\n",
       "      <td>Divorced</td>\n",
       "      <td>39492</td>\n",
       "      <td>7</td>\n",
       "      <td>YES</td>\n",
       "      <td>Good</td>\n",
       "    </tr>\n",
       "    <tr>\n",
       "      <th>596</th>\n",
       "      <td>YES</td>\n",
       "      <td>Divorced</td>\n",
       "      <td>55369</td>\n",
       "      <td>2</td>\n",
       "      <td>YES</td>\n",
       "      <td>Good</td>\n",
       "    </tr>\n",
       "    <tr>\n",
       "      <th>597</th>\n",
       "      <td>NO</td>\n",
       "      <td>Divorced</td>\n",
       "      <td>154058</td>\n",
       "      <td>0</td>\n",
       "      <td>YES</td>\n",
       "      <td>Good</td>\n",
       "    </tr>\n",
       "    <tr>\n",
       "      <th>598</th>\n",
       "      <td>YES</td>\n",
       "      <td>Married</td>\n",
       "      <td>180083</td>\n",
       "      <td>17</td>\n",
       "      <td>NO</td>\n",
       "      <td>Good</td>\n",
       "    </tr>\n",
       "    <tr>\n",
       "      <th>599</th>\n",
       "      <td>NO</td>\n",
       "      <td>Divorced</td>\n",
       "      <td>158137</td>\n",
       "      <td>16</td>\n",
       "      <td>NO</td>\n",
       "      <td>Good</td>\n",
       "    </tr>\n",
       "  </tbody>\n",
       "</table>\n",
       "<p>600 rows × 6 columns</p>\n",
       "</div>"
      ],
      "text/plain": [
       "    undergrad   marital  population  experience urban income\n",
       "0          NO    Single       50047          10   YES   Good\n",
       "1         YES  Divorced      134075          18   YES   Good\n",
       "2          NO   Married      160205          30   YES   Good\n",
       "3         YES    Single      193264          15   YES   Good\n",
       "4          NO   Married       27533          28    NO   Good\n",
       "..        ...       ...         ...         ...   ...    ...\n",
       "595       YES  Divorced       39492           7   YES   Good\n",
       "596       YES  Divorced       55369           2   YES   Good\n",
       "597        NO  Divorced      154058           0   YES   Good\n",
       "598       YES   Married      180083          17    NO   Good\n",
       "599        NO  Divorced      158137          16    NO   Good\n",
       "\n",
       "[600 rows x 6 columns]"
      ]
     },
     "execution_count": 7,
     "metadata": {},
     "output_type": "execute_result"
    }
   ],
   "source": [
    "fraud"
   ]
  },
  {
   "cell_type": "code",
   "execution_count": 8,
   "id": "baac0474",
   "metadata": {
    "ExecuteTime": {
     "end_time": "2022-01-15T10:14:40.715914Z",
     "start_time": "2022-01-15T10:14:39.461082Z"
    }
   },
   "outputs": [],
   "source": [
    "from sklearn import preprocessing\n",
    "le=preprocessing.LabelEncoder()\n",
    "for column_name in fraud.columns:\n",
    "    if fraud[column_name].dtype == object:\n",
    "        fraud[column_name] = le.fit_transform(fraud[column_name])\n",
    "    else:\n",
    "        pass\n",
    "  "
   ]
  },
  {
   "cell_type": "code",
   "execution_count": 9,
   "id": "43cca15e",
   "metadata": {
    "ExecuteTime": {
     "end_time": "2022-01-15T10:15:20.169945Z",
     "start_time": "2022-01-15T10:15:20.153551Z"
    }
   },
   "outputs": [],
   "source": [
    "#slippting data into labels and features\n",
    "features = fraud.iloc[:,0:5]\n",
    "labels = fraud.iloc[:,5]"
   ]
  },
  {
   "cell_type": "code",
   "execution_count": 10,
   "id": "05521162",
   "metadata": {
    "ExecuteTime": {
     "end_time": "2022-01-15T10:15:27.636171Z",
     "start_time": "2022-01-15T10:15:27.620983Z"
    }
   },
   "outputs": [],
   "source": [
    "#Collecting the column names\n",
    "colnames = list(fraud.columns)\n",
    "predictors = colnames[0:5]\n",
    "target = colnames[5]"
   ]
  },
  {
   "cell_type": "code",
   "execution_count": 11,
   "id": "39abe6a0",
   "metadata": {
    "ExecuteTime": {
     "end_time": "2022-01-15T10:15:38.665612Z",
     "start_time": "2022-01-15T10:15:38.613090Z"
    }
   },
   "outputs": [],
   "source": [
    "from sklearn.model_selection import train_test_split\n",
    "x_train,x_test,y_train,y_test = train_test_split(features,labels,test_size = 0.2,stratify = labels)"
   ]
  },
  {
   "cell_type": "code",
   "execution_count": 14,
   "id": "8e6d87da",
   "metadata": {
    "ExecuteTime": {
     "end_time": "2022-01-15T10:16:12.272987Z",
     "start_time": "2022-01-15T10:16:12.226267Z"
    }
   },
   "outputs": [
    {
     "data": {
      "text/plain": [
       "0.7"
      ]
     },
     "execution_count": 14,
     "metadata": {},
     "output_type": "execute_result"
    }
   ],
   "source": [
    "from sklearn.ensemble import RandomForestClassifier as RF\n",
    "model = RF(n_jobs = 3,n_estimators = 15, oob_score = True, criterion = \"entropy\")\n",
    "model.fit(x_train,y_train)\n",
    "\n",
    "model.estimators_\n",
    "model.classes_\n",
    "model.n_features_\n",
    "model.n_classes_\n",
    "\n",
    "model.n_outputs_\n",
    "\n",
    "model.oob_score_"
   ]
  },
  {
   "cell_type": "code",
   "execution_count": 15,
   "id": "8a729543",
   "metadata": {
    "ExecuteTime": {
     "end_time": "2022-01-15T10:16:19.885119Z",
     "start_time": "2022-01-15T10:16:19.864262Z"
    }
   },
   "outputs": [],
   "source": [
    "prediction = model.predict(x_train)"
   ]
  },
  {
   "cell_type": "code",
   "execution_count": 16,
   "id": "a8e15c30",
   "metadata": {
    "ExecuteTime": {
     "end_time": "2022-01-15T10:16:27.105381Z",
     "start_time": "2022-01-15T10:16:27.087820Z"
    }
   },
   "outputs": [
    {
     "data": {
      "text/plain": [
       "array([0, 0, 1, 1, 1, 0, 0, 0, 0, 0, 0, 0, 0, 0, 0, 0, 0, 0, 0, 0, 0, 0,\n",
       "       0, 0, 0, 0, 0, 1, 0, 1, 0, 0, 0, 0, 1, 0, 0, 1, 0, 1, 1, 0, 1, 1,\n",
       "       1, 0, 0, 0, 0, 0, 0, 1, 0, 0, 0, 1, 0, 0, 0, 0, 0, 1, 0, 0, 0, 0,\n",
       "       0, 1, 0, 0, 0, 0, 0, 0, 0, 0, 0, 0, 0, 0, 0, 0, 0, 0, 0, 0, 0, 0,\n",
       "       0, 0, 0, 0, 0, 0, 1, 0, 0, 1, 0, 0, 0, 1, 0, 0, 1, 0, 0, 0, 0, 0,\n",
       "       0, 0, 0, 0, 0, 0, 0, 0, 1, 0, 0, 0, 0, 0, 0, 0, 0, 0, 0, 0, 1, 1,\n",
       "       0, 1, 0, 0, 0, 0, 0, 0, 0, 0, 0, 0, 1, 0, 1, 0, 0, 0, 0, 0, 0, 1,\n",
       "       0, 0, 0, 0, 0, 0, 0, 1, 0, 0, 0, 0, 0, 0, 1, 0, 1, 0, 1, 1, 1, 1,\n",
       "       0, 0, 0, 0, 0, 0, 0, 0, 0, 0, 0, 1, 0, 0, 0, 0, 0, 0, 0, 0, 1, 0,\n",
       "       0, 0, 0, 0, 0, 0, 1, 0, 1, 1, 0, 0, 1, 0, 0, 0, 0, 0, 0, 1, 0, 1,\n",
       "       0, 0, 0, 0, 0, 0, 1, 0, 0, 0, 0, 0, 0, 0, 1, 0, 0, 0, 0, 0, 0, 0,\n",
       "       0, 0, 0, 0, 0, 0, 0, 0, 1, 0, 0, 0, 1, 0, 0, 1, 0, 1, 1, 0, 1, 0,\n",
       "       0, 1, 0, 1, 0, 0, 0, 0, 1, 0, 0, 0, 0, 0, 1, 0, 0, 0, 0, 0, 0, 0,\n",
       "       0, 0, 0, 0, 1, 1, 0, 0, 1, 0, 1, 1, 0, 0, 0, 0, 1, 0, 0, 0, 1, 0,\n",
       "       0, 1, 0, 0, 0, 0, 0, 1, 0, 1, 0, 0, 0, 0, 0, 0, 1, 0, 0, 0, 0, 0,\n",
       "       1, 1, 0, 1, 0, 0, 0, 0, 0, 0, 1, 0, 0, 0, 0, 0, 0, 0, 0, 0, 0, 1,\n",
       "       0, 0, 1, 0, 0, 0, 0, 0, 0, 1, 0, 0, 0, 0, 0, 0, 0, 0, 0, 0, 1, 0,\n",
       "       0, 1, 0, 0, 0, 0, 0, 0, 0, 0, 0, 0, 1, 0, 0, 0, 1, 0, 0, 0, 0, 0,\n",
       "       1, 0, 0, 0, 0, 1, 1, 0, 0, 0, 0, 0, 0, 1, 0, 0, 0, 0, 1, 0, 1, 0,\n",
       "       0, 0, 0, 0, 1, 0, 0, 0, 0, 0, 0, 0, 1, 0, 0, 0, 1, 1, 1, 0, 0, 0,\n",
       "       0, 0, 0, 1, 0, 0, 0, 0, 0, 0, 1, 0, 0, 1, 1, 1, 0, 0, 1, 0, 0, 0,\n",
       "       0, 0, 1, 0, 0, 0, 0, 0, 1, 0, 0, 1, 0, 0, 0, 0, 1, 0])"
      ]
     },
     "execution_count": 16,
     "metadata": {},
     "output_type": "execute_result"
    }
   ],
   "source": [
    "prediction"
   ]
  },
  {
   "cell_type": "code",
   "execution_count": 17,
   "id": "2b946091",
   "metadata": {
    "ExecuteTime": {
     "end_time": "2022-01-15T10:16:35.232323Z",
     "start_time": "2022-01-15T10:16:35.227713Z"
    }
   },
   "outputs": [],
   "source": [
    "from sklearn.metrics import accuracy_score\n",
    "accuracy = accuracy_score(y_train,prediction)"
   ]
  },
  {
   "cell_type": "code",
   "execution_count": 18,
   "id": "29b606f0",
   "metadata": {
    "ExecuteTime": {
     "end_time": "2022-01-15T10:16:49.894973Z",
     "start_time": "2022-01-15T10:16:49.878267Z"
    }
   },
   "outputs": [
    {
     "data": {
      "text/plain": [
       "0.9958333333333333"
      ]
     },
     "execution_count": 18,
     "metadata": {},
     "output_type": "execute_result"
    }
   ],
   "source": [
    "accuracy"
   ]
  },
  {
   "cell_type": "code",
   "execution_count": 19,
   "id": "b304da30",
   "metadata": {
    "ExecuteTime": {
     "end_time": "2022-01-15T10:16:52.571544Z",
     "start_time": "2022-01-15T10:16:52.555070Z"
    }
   },
   "outputs": [
    {
     "data": {
      "text/plain": [
       "0.9958333333333333"
      ]
     },
     "execution_count": 19,
     "metadata": {},
     "output_type": "execute_result"
    }
   ],
   "source": [
    "np.mean(prediction == y_train)"
   ]
  },
  {
   "cell_type": "code",
   "execution_count": 21,
   "id": "4dd6d564",
   "metadata": {
    "ExecuteTime": {
     "end_time": "2022-01-15T10:17:05.223511Z",
     "start_time": "2022-01-15T10:17:05.210978Z"
    }
   },
   "outputs": [],
   "source": [
    "#Confusion matrix\n",
    "from sklearn.metrics import confusion_matrix\n",
    "confusion = confusion_matrix(y_train,prediction)"
   ]
  },
  {
   "cell_type": "code",
   "execution_count": 22,
   "id": "e8210843",
   "metadata": {
    "ExecuteTime": {
     "end_time": "2022-01-15T10:17:12.353605Z",
     "start_time": "2022-01-15T10:17:12.332394Z"
    }
   },
   "outputs": [],
   "source": [
    "pred_test = model.predict(x_test)"
   ]
  },
  {
   "cell_type": "code",
   "execution_count": 23,
   "id": "2012d034",
   "metadata": {
    "ExecuteTime": {
     "end_time": "2022-01-15T10:17:17.966066Z",
     "start_time": "2022-01-15T10:17:17.958090Z"
    }
   },
   "outputs": [],
   "source": [
    "acc_test =accuracy_score(y_test,pred_test)"
   ]
  },
  {
   "cell_type": "code",
   "execution_count": 24,
   "id": "16f03399",
   "metadata": {
    "ExecuteTime": {
     "end_time": "2022-01-15T10:17:23.453101Z",
     "start_time": "2022-01-15T10:17:23.445590Z"
    }
   },
   "outputs": [
    {
     "data": {
      "text/plain": [
       "0.7666666666666667"
      ]
     },
     "execution_count": 24,
     "metadata": {},
     "output_type": "execute_result"
    }
   ],
   "source": [
    "acc_test"
   ]
  },
  {
   "cell_type": "code",
   "execution_count": 26,
   "id": "548110e4",
   "metadata": {
    "ExecuteTime": {
     "end_time": "2022-01-15T10:18:33.800318Z",
     "start_time": "2022-01-15T10:18:23.532023Z"
    }
   },
   "outputs": [
    {
     "name": "stdout",
     "output_type": "stream",
     "text": [
      "Collecting pydotplus\n",
      "  Downloading pydotplus-2.0.2.tar.gz (278 kB)\n",
      "Requirement already satisfied: pyparsing>=2.0.1 in d:\\farhat\\lib\\site-packages (from pydotplus) (2.4.7)\n",
      "Building wheels for collected packages: pydotplus\n",
      "  Building wheel for pydotplus (setup.py): started\n",
      "  Building wheel for pydotplus (setup.py): finished with status 'done'\n",
      "  Created wheel for pydotplus: filename=pydotplus-2.0.2-py3-none-any.whl size=24566 sha256=8f093fbbc0d58901cead1e5a51aa316e50da191899b07c975fdada7b43800f29\n",
      "  Stored in directory: c:\\users\\admin\\appdata\\local\\pip\\cache\\wheels\\fe\\cd\\78\\a7e873cc049759194f8271f780640cf96b35e5a48bef0e2f36\n",
      "Successfully built pydotplus\n",
      "Installing collected packages: pydotplus\n",
      "Successfully installed pydotplus-2.0.2\n"
     ]
    }
   ],
   "source": [
    "!pip install pydotplus"
   ]
  },
  {
   "cell_type": "code",
   "execution_count": 36,
   "id": "5e56131c",
   "metadata": {
    "ExecuteTime": {
     "end_time": "2022-01-15T10:38:55.715750Z",
     "start_time": "2022-01-15T10:38:52.066965Z"
    }
   },
   "outputs": [
    {
     "name": "stdout",
     "output_type": "stream",
     "text": [
      "Requirement already satisfied: six in d:\\farhat\\lib\\site-packages (1.15.0)\n"
     ]
    }
   ],
   "source": [
    "!pip install six"
   ]
  },
  {
   "cell_type": "code",
   "execution_count": 37,
   "id": "830cf98b",
   "metadata": {
    "ExecuteTime": {
     "end_time": "2022-01-15T10:39:33.087043Z",
     "start_time": "2022-01-15T10:39:15.452700Z"
    }
   },
   "outputs": [
    {
     "name": "stdout",
     "output_type": "stream",
     "text": [
      "Collecting scikit-learn==0.20.3\n",
      "  Using cached scikit-learn-0.20.3.tar.gz (11.8 MB)\n",
      "Requirement already satisfied: numpy>=1.8.2 in d:\\farhat\\lib\\site-packages (from scikit-learn==0.20.3) (1.20.1)\n",
      "Requirement already satisfied: scipy>=0.13.3 in d:\\farhat\\lib\\site-packages (from scikit-learn==0.20.3) (1.6.2)\n",
      "Building wheels for collected packages: scikit-learn\n",
      "  Building wheel for scikit-learn (setup.py): started\n",
      "  Building wheel for scikit-learn (setup.py): finished with status 'error'\n",
      "  Running setup.py clean for scikit-learn\n",
      "Failed to build scikit-learn\n",
      "Installing collected packages: scikit-learn\n",
      "  Attempting uninstall: scikit-learn\n",
      "    Found existing installation: scikit-learn 0.24.1\n",
      "    Uninstalling scikit-learn-0.24.1:\n",
      "      Successfully uninstalled scikit-learn-0.24.1\n",
      "    Running setup.py install for scikit-learn: started\n",
      "    Running setup.py install for scikit-learn: finished with status 'error'\n",
      "  Rolling back uninstall of scikit-learn\n",
      "  Moving to d:\\farhat\\lib\\site-packages\\scikit_learn-0.24.1.dist-info\\\n",
      "   from D:\\Farhat\\Lib\\site-packages\\~cikit_learn-0.24.1.dist-info\n",
      "  Moving to d:\\farhat\\lib\\site-packages\\sklearn\\\n",
      "   from D:\\Farhat\\Lib\\site-packages\\~klearn\n"
     ]
    },
    {
     "name": "stderr",
     "output_type": "stream",
     "text": [
      "  ERROR: Command errored out with exit status 1:\n",
      "   command: 'D:\\Farhat\\python.exe' -u -c 'import sys, setuptools, tokenize; sys.argv[0] = '\"'\"'C:\\\\Users\\\\Admin\\\\AppData\\\\Local\\\\Temp\\\\pip-install-e5lxsxub\\\\scikit-learn_ff5cc17d3c874ebc9065ecf1f7ae36d9\\\\setup.py'\"'\"'; __file__='\"'\"'C:\\\\Users\\\\Admin\\\\AppData\\\\Local\\\\Temp\\\\pip-install-e5lxsxub\\\\scikit-learn_ff5cc17d3c874ebc9065ecf1f7ae36d9\\\\setup.py'\"'\"';f=getattr(tokenize, '\"'\"'open'\"'\"', open)(__file__);code=f.read().replace('\"'\"'\\r\\n'\"'\"', '\"'\"'\\n'\"'\"');f.close();exec(compile(code, __file__, '\"'\"'exec'\"'\"'))' bdist_wheel -d 'C:\\Users\\Admin\\AppData\\Local\\Temp\\pip-wheel-5uh795n2'\n",
      "       cwd: C:\\Users\\Admin\\AppData\\Local\\Temp\\pip-install-e5lxsxub\\scikit-learn_ff5cc17d3c874ebc9065ecf1f7ae36d9\\\n",
      "  Complete output (675 lines):\n",
      "  Partial import of sklearn during the build process.\n",
      "  blas_opt_info:\n",
      "  blas_mkl_info:\n",
      "  No module named 'numpy.distutils._msvccompiler' in numpy.distutils; trying from distutils\n",
      "  customize MSVCCompiler\n",
      "    libraries mkl_rt not found in ['D:/Farhat\\\\Library\\\\lib']\n",
      "    NOT AVAILABLE\n",
      "  \n",
      "  blis_info:\n",
      "    libraries blis not found in ['D:\\\\Farhat\\\\lib', 'C:\\\\', 'D:\\\\Farhat\\\\libs']\n",
      "    NOT AVAILABLE\n",
      "  \n",
      "  openblas_info:\n",
      "    libraries openblas not found in ['D:\\\\Farhat\\\\lib', 'C:\\\\', 'D:\\\\Farhat\\\\libs']\n",
      "  get_default_fcompiler: matching types: '['gnu', 'intelv', 'absoft', 'compaqv', 'intelev', 'gnu95', 'g95', 'intelvem', 'intelem', 'flang']'\n",
      "  customize GnuFCompiler\n",
      "  Could not locate executable g77\n",
      "  Could not locate executable f77\n",
      "  customize IntelVisualFCompiler\n",
      "  Could not locate executable ifort\n",
      "  Could not locate executable ifl\n",
      "  customize AbsoftFCompiler\n",
      "  Could not locate executable f90\n",
      "  customize CompaqVisualFCompiler\n",
      "  Could not locate executable DF\n",
      "  customize IntelItaniumVisualFCompiler\n",
      "  Could not locate executable efl\n",
      "  customize Gnu95FCompiler\n",
      "  Could not locate executable gfortran\n",
      "  Could not locate executable f95\n",
      "  customize G95FCompiler\n",
      "  Could not locate executable g95\n",
      "  customize IntelEM64VisualFCompiler\n",
      "  customize IntelEM64TFCompiler\n",
      "  Could not locate executable efort\n",
      "  Could not locate executable efc\n",
      "  customize PGroupFlangCompiler\n",
      "  Could not locate executable flang\n",
      "  don't know how to compile Fortran code on platform 'nt'\n",
      "    NOT AVAILABLE\n",
      "  \n",
      "  atlas_3_10_blas_threads_info:\n",
      "  Setting PTATLAS=ATLAS\n",
      "    libraries tatlas not found in ['D:\\\\Farhat\\\\lib', 'C:\\\\', 'D:\\\\Farhat\\\\libs']\n",
      "    NOT AVAILABLE\n",
      "  \n",
      "  atlas_3_10_blas_info:\n",
      "    libraries satlas not found in ['D:\\\\Farhat\\\\lib', 'C:\\\\', 'D:\\\\Farhat\\\\libs']\n",
      "    NOT AVAILABLE\n",
      "  \n",
      "  atlas_blas_threads_info:\n",
      "  Setting PTATLAS=ATLAS\n",
      "    libraries ptf77blas,ptcblas,atlas not found in ['D:\\\\Farhat\\\\lib', 'C:\\\\', 'D:\\\\Farhat\\\\libs']\n",
      "    NOT AVAILABLE\n",
      "  \n",
      "  atlas_blas_info:\n",
      "    libraries f77blas,cblas,atlas not found in ['D:\\\\Farhat\\\\lib', 'C:\\\\', 'D:\\\\Farhat\\\\libs']\n",
      "    NOT AVAILABLE\n",
      "  \n",
      "  D:\\Farhat\\lib\\site-packages\\numpy\\distutils\\system_info.py:1989: UserWarning:\n",
      "      Optimized (vendor) Blas libraries are not found.\n",
      "      Falls back to netlib Blas library which has worse performance.\n",
      "      A better performance should be easily gained by switching\n",
      "      Blas library.\n",
      "    if self._calc_info(blas):\n",
      "  blas_info:\n",
      "    libraries blas not found in ['D:\\\\Farhat\\\\lib', 'C:\\\\', 'D:\\\\Farhat\\\\libs']\n",
      "    NOT AVAILABLE\n",
      "  \n",
      "  D:\\Farhat\\lib\\site-packages\\numpy\\distutils\\system_info.py:1989: UserWarning:\n",
      "      Blas (http://www.netlib.org/blas/) libraries not found.\n",
      "      Directories to search for the libraries can be specified in the\n",
      "      numpy/distutils/site.cfg file (section [blas]) or by setting\n",
      "      the BLAS environment variable.\n",
      "    if self._calc_info(blas):\n",
      "  blas_src_info:\n",
      "    NOT AVAILABLE\n",
      "  \n",
      "  D:\\Farhat\\lib\\site-packages\\numpy\\distutils\\system_info.py:1989: UserWarning:\n",
      "      Blas (http://www.netlib.org/blas/) sources not found.\n",
      "      Directories to search for the sources can be specified in the\n",
      "      numpy/distutils/site.cfg file (section [blas_src]) or by setting\n",
      "      the BLAS_SRC environment variable.\n",
      "    if self._calc_info(blas):\n",
      "    NOT AVAILABLE\n",
      "  \n",
      "  sklearn\\setup.py:73: UserWarning:\n",
      "      Blas (http://www.netlib.org/blas/) libraries not found.\n",
      "      Directories to search for the libraries can be specified in the\n",
      "      numpy/distutils/site.cfg file (section [blas]) or by setting\n",
      "      the BLAS environment variable.\n",
      "    warnings.warn(BlasNotFoundError.__doc__)\n",
      "  running bdist_wheel\n",
      "  running build\n",
      "  running config_cc\n",
      "  unifing config_cc, config, build_clib, build_ext, build commands --compiler options\n",
      "  running config_fc\n",
      "  unifing config_fc, config, build_clib, build_ext, build commands --fcompiler options\n",
      "  running build_src\n",
      "  build_src\n",
      "  building library \"libsvm-skl\" sources\n",
      "  building library \"cblas\" sources\n",
      "  building extension \"sklearn.__check_build._check_build\" sources\n",
      "  building extension \"sklearn.cluster._dbscan_inner\" sources\n",
      "  building extension \"sklearn.cluster._hierarchical\" sources\n",
      "  building extension \"sklearn.cluster._k_means_elkan\" sources\n",
      "  building extension \"sklearn.cluster._k_means\" sources\n",
      "  building extension \"sklearn.datasets._svmlight_format\" sources\n",
      "  building extension \"sklearn.decomposition._online_lda\" sources\n",
      "  building extension \"sklearn.decomposition.cdnmf_fast\" sources\n",
      "  building extension \"sklearn.ensemble._gradient_boosting\" sources\n",
      "  building extension \"sklearn.feature_extraction._hashing\" sources\n",
      "  building extension \"sklearn.manifold._utils\" sources\n",
      "  building extension \"sklearn.manifold._barnes_hut_tsne\" sources\n",
      "  building extension \"sklearn.metrics.cluster.expected_mutual_info_fast\" sources\n",
      "  building extension \"sklearn.metrics.pairwise_fast\" sources\n",
      "  building extension \"sklearn.neighbors.ball_tree\" sources\n",
      "  building extension \"sklearn.neighbors.kd_tree\" sources\n",
      "  building extension \"sklearn.neighbors.dist_metrics\" sources\n",
      "  building extension \"sklearn.neighbors.typedefs\" sources\n",
      "  building extension \"sklearn.neighbors.quad_tree\" sources\n",
      "  building extension \"sklearn.tree._tree\" sources\n",
      "  building extension \"sklearn.tree._splitter\" sources\n",
      "  building extension \"sklearn.tree._criterion\" sources\n",
      "  building extension \"sklearn.tree._utils\" sources\n",
      "  building extension \"sklearn.svm.libsvm\" sources\n",
      "  building extension \"sklearn.svm.liblinear\" sources\n",
      "  building extension \"sklearn.svm.libsvm_sparse\" sources\n",
      "  building extension \"sklearn._isotonic\" sources\n",
      "  building extension \"sklearn.linear_model.cd_fast\" sources\n",
      "  building extension \"sklearn.linear_model.sgd_fast\" sources\n",
      "  building extension \"sklearn.linear_model.sag_fast\" sources\n",
      "  building extension \"sklearn.utils.sparsefuncs_fast\" sources\n",
      "  building extension \"sklearn.utils.arrayfuncs\" sources\n",
      "  building extension \"sklearn.utils.murmurhash\" sources\n",
      "  building extension \"sklearn.utils.lgamma\" sources\n",
      "  building extension \"sklearn.utils.graph_shortest_path\" sources\n",
      "  building extension \"sklearn.utils.fast_dict\" sources\n",
      "  building extension \"sklearn.utils.seq_dataset\" sources\n",
      "  building extension \"sklearn.utils.weight_vector\" sources\n",
      "  building extension \"sklearn.utils._random\" sources\n",
      "  building extension \"sklearn.utils._logistic_sigmoid\" sources\n",
      "  building data_files sources\n",
      "  build_src: building npy-pkg config files\n",
      "  running build_py\n",
      "  creating build\n",
      "  creating build\\lib.win-amd64-3.8\n",
      "  creating build\\lib.win-amd64-3.8\\sklearn\n",
      "  copying sklearn\\base.py -> build\\lib.win-amd64-3.8\\sklearn\n",
      "  copying sklearn\\calibration.py -> build\\lib.win-amd64-3.8\\sklearn\n",
      "  copying sklearn\\discriminant_analysis.py -> build\\lib.win-amd64-3.8\\sklearn\n",
      "  copying sklearn\\dummy.py -> build\\lib.win-amd64-3.8\\sklearn\n",
      "  copying sklearn\\exceptions.py -> build\\lib.win-amd64-3.8\\sklearn\n",
      "  copying sklearn\\impute.py -> build\\lib.win-amd64-3.8\\sklearn\n",
      "  copying sklearn\\isotonic.py -> build\\lib.win-amd64-3.8\\sklearn\n",
      "  copying sklearn\\kernel_approximation.py -> build\\lib.win-amd64-3.8\\sklearn\n",
      "  copying sklearn\\kernel_ridge.py -> build\\lib.win-amd64-3.8\\sklearn\n",
      "  copying sklearn\\multiclass.py -> build\\lib.win-amd64-3.8\\sklearn\n",
      "  copying sklearn\\multioutput.py -> build\\lib.win-amd64-3.8\\sklearn\n",
      "  copying sklearn\\naive_bayes.py -> build\\lib.win-amd64-3.8\\sklearn\n",
      "  copying sklearn\\pipeline.py -> build\\lib.win-amd64-3.8\\sklearn\n",
      "  copying sklearn\\random_projection.py -> build\\lib.win-amd64-3.8\\sklearn\n",
      "  copying sklearn\\setup.py -> build\\lib.win-amd64-3.8\\sklearn\n",
      "  copying sklearn\\_config.py -> build\\lib.win-amd64-3.8\\sklearn\n",
      "  copying sklearn\\__init__.py -> build\\lib.win-amd64-3.8\\sklearn\n",
      "  creating build\\lib.win-amd64-3.8\\sklearn\\__check_build\n",
      "  copying sklearn\\__check_build\\setup.py -> build\\lib.win-amd64-3.8\\sklearn\\__check_build\n",
      "  copying sklearn\\__check_build\\__init__.py -> build\\lib.win-amd64-3.8\\sklearn\\__check_build\n",
      "  creating build\\lib.win-amd64-3.8\\sklearn\\_build_utils\n",
      "  copying sklearn\\_build_utils\\__init__.py -> build\\lib.win-amd64-3.8\\sklearn\\_build_utils\n",
      "  creating build\\lib.win-amd64-3.8\\sklearn\\compose\n",
      "  copying sklearn\\compose\\_column_transformer.py -> build\\lib.win-amd64-3.8\\sklearn\\compose\n",
      "  copying sklearn\\compose\\_target.py -> build\\lib.win-amd64-3.8\\sklearn\\compose\n",
      "  copying sklearn\\compose\\__init__.py -> build\\lib.win-amd64-3.8\\sklearn\\compose\n",
      "  creating build\\lib.win-amd64-3.8\\sklearn\\compose\\tests\n",
      "  copying sklearn\\compose\\tests\\test_column_transformer.py -> build\\lib.win-amd64-3.8\\sklearn\\compose/tests\n",
      "  copying sklearn\\compose\\tests\\test_target.py -> build\\lib.win-amd64-3.8\\sklearn\\compose/tests\n",
      "  copying sklearn\\compose\\tests\\__init__.py -> build\\lib.win-amd64-3.8\\sklearn\\compose/tests\n",
      "  creating build\\lib.win-amd64-3.8\\sklearn\\covariance\n",
      "  copying sklearn\\covariance\\elliptic_envelope.py -> build\\lib.win-amd64-3.8\\sklearn\\covariance\n",
      "  copying sklearn\\covariance\\empirical_covariance_.py -> build\\lib.win-amd64-3.8\\sklearn\\covariance\n",
      "  copying sklearn\\covariance\\graph_lasso_.py -> build\\lib.win-amd64-3.8\\sklearn\\covariance\n",
      "  copying sklearn\\covariance\\robust_covariance.py -> build\\lib.win-amd64-3.8\\sklearn\\covariance\n",
      "  copying sklearn\\covariance\\shrunk_covariance_.py -> build\\lib.win-amd64-3.8\\sklearn\\covariance\n",
      "  copying sklearn\\covariance\\__init__.py -> build\\lib.win-amd64-3.8\\sklearn\\covariance\n",
      "  creating build\\lib.win-amd64-3.8\\sklearn\\covariance\\tests\n",
      "  copying sklearn\\covariance\\tests\\test_covariance.py -> build\\lib.win-amd64-3.8\\sklearn\\covariance/tests\n",
      "  copying sklearn\\covariance\\tests\\test_elliptic_envelope.py -> build\\lib.win-amd64-3.8\\sklearn\\covariance/tests\n",
      "  copying sklearn\\covariance\\tests\\test_graphical_lasso.py -> build\\lib.win-amd64-3.8\\sklearn\\covariance/tests\n",
      "  copying sklearn\\covariance\\tests\\test_graph_lasso.py -> build\\lib.win-amd64-3.8\\sklearn\\covariance/tests\n",
      "  copying sklearn\\covariance\\tests\\test_robust_covariance.py -> build\\lib.win-amd64-3.8\\sklearn\\covariance/tests\n",
      "  copying sklearn\\covariance\\tests\\__init__.py -> build\\lib.win-amd64-3.8\\sklearn\\covariance/tests\n",
      "  creating build\\lib.win-amd64-3.8\\sklearn\\cross_decomposition\n",
      "  copying sklearn\\cross_decomposition\\cca_.py -> build\\lib.win-amd64-3.8\\sklearn\\cross_decomposition\n",
      "  copying sklearn\\cross_decomposition\\pls_.py -> build\\lib.win-amd64-3.8\\sklearn\\cross_decomposition\n",
      "  copying sklearn\\cross_decomposition\\__init__.py -> build\\lib.win-amd64-3.8\\sklearn\\cross_decomposition\n",
      "  creating build\\lib.win-amd64-3.8\\sklearn\\cross_decomposition\\tests\n",
      "  copying sklearn\\cross_decomposition\\tests\\test_pls.py -> build\\lib.win-amd64-3.8\\sklearn\\cross_decomposition/tests\n",
      "  copying sklearn\\cross_decomposition\\tests\\__init__.py -> build\\lib.win-amd64-3.8\\sklearn\\cross_decomposition/tests\n",
      "  creating build\\lib.win-amd64-3.8\\sklearn\\feature_selection\n",
      "  copying sklearn\\feature_selection\\base.py -> build\\lib.win-amd64-3.8\\sklearn\\feature_selection\n",
      "  copying sklearn\\feature_selection\\from_model.py -> build\\lib.win-amd64-3.8\\sklearn\\feature_selection\n",
      "  copying sklearn\\feature_selection\\mutual_info_.py -> build\\lib.win-amd64-3.8\\sklearn\\feature_selection\n",
      "  copying sklearn\\feature_selection\\rfe.py -> build\\lib.win-amd64-3.8\\sklearn\\feature_selection\n",
      "  copying sklearn\\feature_selection\\univariate_selection.py -> build\\lib.win-amd64-3.8\\sklearn\\feature_selection\n",
      "  copying sklearn\\feature_selection\\variance_threshold.py -> build\\lib.win-amd64-3.8\\sklearn\\feature_selection\n",
      "  copying sklearn\\feature_selection\\__init__.py -> build\\lib.win-amd64-3.8\\sklearn\\feature_selection\n",
      "  creating build\\lib.win-amd64-3.8\\sklearn\\feature_selection\\tests\n",
      "  copying sklearn\\feature_selection\\tests\\test_base.py -> build\\lib.win-amd64-3.8\\sklearn\\feature_selection/tests\n",
      "  copying sklearn\\feature_selection\\tests\\test_chi2.py -> build\\lib.win-amd64-3.8\\sklearn\\feature_selection/tests\n",
      "  copying sklearn\\feature_selection\\tests\\test_feature_select.py -> build\\lib.win-amd64-3.8\\sklearn\\feature_selection/tests\n",
      "  copying sklearn\\feature_selection\\tests\\test_from_model.py -> build\\lib.win-amd64-3.8\\sklearn\\feature_selection/tests\n",
      "  copying sklearn\\feature_selection\\tests\\test_mutual_info.py -> build\\lib.win-amd64-3.8\\sklearn\\feature_selection/tests\n",
      "  copying sklearn\\feature_selection\\tests\\test_rfe.py -> build\\lib.win-amd64-3.8\\sklearn\\feature_selection/tests\n",
      "  copying sklearn\\feature_selection\\tests\\test_variance_threshold.py -> build\\lib.win-amd64-3.8\\sklearn\\feature_selection/tests\n",
      "  copying sklearn\\feature_selection\\tests\\__init__.py -> build\\lib.win-amd64-3.8\\sklearn\\feature_selection/tests\n",
      "  creating build\\lib.win-amd64-3.8\\sklearn\\gaussian_process\n",
      "  copying sklearn\\gaussian_process\\correlation_models.py -> build\\lib.win-amd64-3.8\\sklearn\\gaussian_process\n",
      "  copying sklearn\\gaussian_process\\gpc.py -> build\\lib.win-amd64-3.8\\sklearn\\gaussian_process\n",
      "  copying sklearn\\gaussian_process\\gpr.py -> build\\lib.win-amd64-3.8\\sklearn\\gaussian_process\n",
      "  copying sklearn\\gaussian_process\\kernels.py -> build\\lib.win-amd64-3.8\\sklearn\\gaussian_process\n",
      "  copying sklearn\\gaussian_process\\regression_models.py -> build\\lib.win-amd64-3.8\\sklearn\\gaussian_process\n",
      "  copying sklearn\\gaussian_process\\__init__.py -> build\\lib.win-amd64-3.8\\sklearn\\gaussian_process\n",
      "  creating build\\lib.win-amd64-3.8\\sklearn\\gaussian_process\\tests\n",
      "  copying sklearn\\gaussian_process\\tests\\test_gpc.py -> build\\lib.win-amd64-3.8\\sklearn\\gaussian_process/tests\n",
      "  copying sklearn\\gaussian_process\\tests\\test_gpr.py -> build\\lib.win-amd64-3.8\\sklearn\\gaussian_process/tests\n",
      "  copying sklearn\\gaussian_process\\tests\\test_kernels.py -> build\\lib.win-amd64-3.8\\sklearn\\gaussian_process/tests\n",
      "  copying sklearn\\gaussian_process\\tests\\__init__.py -> build\\lib.win-amd64-3.8\\sklearn\\gaussian_process/tests\n",
      "  creating build\\lib.win-amd64-3.8\\sklearn\\mixture\n",
      "  copying sklearn\\mixture\\base.py -> build\\lib.win-amd64-3.8\\sklearn\\mixture\n",
      "  copying sklearn\\mixture\\bayesian_mixture.py -> build\\lib.win-amd64-3.8\\sklearn\\mixture\n",
      "  copying sklearn\\mixture\\gaussian_mixture.py -> build\\lib.win-amd64-3.8\\sklearn\\mixture\n",
      "  copying sklearn\\mixture\\__init__.py -> build\\lib.win-amd64-3.8\\sklearn\\mixture\n",
      "  creating build\\lib.win-amd64-3.8\\sklearn\\mixture\\tests\n",
      "  copying sklearn\\mixture\\tests\\test_bayesian_mixture.py -> build\\lib.win-amd64-3.8\\sklearn\\mixture/tests\n",
      "  copying sklearn\\mixture\\tests\\test_gaussian_mixture.py -> build\\lib.win-amd64-3.8\\sklearn\\mixture/tests\n",
      "  copying sklearn\\mixture\\tests\\test_mixture.py -> build\\lib.win-amd64-3.8\\sklearn\\mixture/tests\n",
      "  copying sklearn\\mixture\\tests\\__init__.py -> build\\lib.win-amd64-3.8\\sklearn\\mixture/tests\n",
      "  creating build\\lib.win-amd64-3.8\\sklearn\\model_selection\n",
      "  copying sklearn\\model_selection\\_search.py -> build\\lib.win-amd64-3.8\\sklearn\\model_selection\n",
      "  copying sklearn\\model_selection\\_split.py -> build\\lib.win-amd64-3.8\\sklearn\\model_selection\n",
      "  copying sklearn\\model_selection\\_validation.py -> build\\lib.win-amd64-3.8\\sklearn\\model_selection\n",
      "  copying sklearn\\model_selection\\__init__.py -> build\\lib.win-amd64-3.8\\sklearn\\model_selection\n",
      "  creating build\\lib.win-amd64-3.8\\sklearn\\model_selection\\tests\n",
      "  copying sklearn\\model_selection\\tests\\common.py -> build\\lib.win-amd64-3.8\\sklearn\\model_selection/tests\n",
      "  copying sklearn\\model_selection\\tests\\test_search.py -> build\\lib.win-amd64-3.8\\sklearn\\model_selection/tests\n",
      "  copying sklearn\\model_selection\\tests\\test_split.py -> build\\lib.win-amd64-3.8\\sklearn\\model_selection/tests\n",
      "  copying sklearn\\model_selection\\tests\\test_validation.py -> build\\lib.win-amd64-3.8\\sklearn\\model_selection/tests\n",
      "  copying sklearn\\model_selection\\tests\\__init__.py -> build\\lib.win-amd64-3.8\\sklearn\\model_selection/tests\n",
      "  creating build\\lib.win-amd64-3.8\\sklearn\\neural_network\n",
      "  copying sklearn\\neural_network\\multilayer_perceptron.py -> build\\lib.win-amd64-3.8\\sklearn\\neural_network\n",
      "  copying sklearn\\neural_network\\rbm.py -> build\\lib.win-amd64-3.8\\sklearn\\neural_network\n",
      "  copying sklearn\\neural_network\\_base.py -> build\\lib.win-amd64-3.8\\sklearn\\neural_network\n",
      "  copying sklearn\\neural_network\\_stochastic_optimizers.py -> build\\lib.win-amd64-3.8\\sklearn\\neural_network\n",
      "  copying sklearn\\neural_network\\__init__.py -> build\\lib.win-amd64-3.8\\sklearn\\neural_network\n",
      "  creating build\\lib.win-amd64-3.8\\sklearn\\neural_network\\tests\n",
      "  copying sklearn\\neural_network\\tests\\test_mlp.py -> build\\lib.win-amd64-3.8\\sklearn\\neural_network/tests\n",
      "  copying sklearn\\neural_network\\tests\\test_rbm.py -> build\\lib.win-amd64-3.8\\sklearn\\neural_network/tests\n",
      "  copying sklearn\\neural_network\\tests\\test_stochastic_optimizers.py -> build\\lib.win-amd64-3.8\\sklearn\\neural_network/tests\n",
      "  copying sklearn\\neural_network\\tests\\__init__.py -> build\\lib.win-amd64-3.8\\sklearn\\neural_network/tests\n",
      "  creating build\\lib.win-amd64-3.8\\sklearn\\preprocessing\n",
      "  copying sklearn\\preprocessing\\base.py -> build\\lib.win-amd64-3.8\\sklearn\\preprocessing\n",
      "  copying sklearn\\preprocessing\\data.py -> build\\lib.win-amd64-3.8\\sklearn\\preprocessing\n",
      "  copying sklearn\\preprocessing\\imputation.py -> build\\lib.win-amd64-3.8\\sklearn\\preprocessing\n",
      "  copying sklearn\\preprocessing\\label.py -> build\\lib.win-amd64-3.8\\sklearn\\preprocessing\n",
      "  copying sklearn\\preprocessing\\_discretization.py -> build\\lib.win-amd64-3.8\\sklearn\\preprocessing\n",
      "  copying sklearn\\preprocessing\\_encoders.py -> build\\lib.win-amd64-3.8\\sklearn\\preprocessing\n",
      "  copying sklearn\\preprocessing\\_function_transformer.py -> build\\lib.win-amd64-3.8\\sklearn\\preprocessing\n",
      "  copying sklearn\\preprocessing\\__init__.py -> build\\lib.win-amd64-3.8\\sklearn\\preprocessing\n",
      "  creating build\\lib.win-amd64-3.8\\sklearn\\preprocessing\\tests\n",
      "  copying sklearn\\preprocessing\\tests\\test_base.py -> build\\lib.win-amd64-3.8\\sklearn\\preprocessing/tests\n",
      "  copying sklearn\\preprocessing\\tests\\test_common.py -> build\\lib.win-amd64-3.8\\sklearn\\preprocessing/tests\n",
      "  copying sklearn\\preprocessing\\tests\\test_data.py -> build\\lib.win-amd64-3.8\\sklearn\\preprocessing/tests\n",
      "  copying sklearn\\preprocessing\\tests\\test_discretization.py -> build\\lib.win-amd64-3.8\\sklearn\\preprocessing/tests\n",
      "  copying sklearn\\preprocessing\\tests\\test_encoders.py -> build\\lib.win-amd64-3.8\\sklearn\\preprocessing/tests\n",
      "  copying sklearn\\preprocessing\\tests\\test_function_transformer.py -> build\\lib.win-amd64-3.8\\sklearn\\preprocessing/tests\n",
      "  copying sklearn\\preprocessing\\tests\\test_imputation.py -> build\\lib.win-amd64-3.8\\sklearn\\preprocessing/tests\n",
      "  copying sklearn\\preprocessing\\tests\\test_label.py -> build\\lib.win-amd64-3.8\\sklearn\\preprocessing/tests\n",
      "  copying sklearn\\preprocessing\\tests\\__init__.py -> build\\lib.win-amd64-3.8\\sklearn\\preprocessing/tests\n",
      "  creating build\\lib.win-amd64-3.8\\sklearn\\semi_supervised\n",
      "  copying sklearn\\semi_supervised\\label_propagation.py -> build\\lib.win-amd64-3.8\\sklearn\\semi_supervised\n",
      "  copying sklearn\\semi_supervised\\__init__.py -> build\\lib.win-amd64-3.8\\sklearn\\semi_supervised\n",
      "  creating build\\lib.win-amd64-3.8\\sklearn\\semi_supervised\\tests\n",
      "  copying sklearn\\semi_supervised\\tests\\test_label_propagation.py -> build\\lib.win-amd64-3.8\\sklearn\\semi_supervised/tests\n",
      "  copying sklearn\\semi_supervised\\tests\\__init__.py -> build\\lib.win-amd64-3.8\\sklearn\\semi_supervised/tests\n",
      "  creating build\\lib.win-amd64-3.8\\sklearn\\cluster\n",
      "  copying sklearn\\cluster\\affinity_propagation_.py -> build\\lib.win-amd64-3.8\\sklearn\\cluster\n",
      "  copying sklearn\\cluster\\bicluster.py -> build\\lib.win-amd64-3.8\\sklearn\\cluster\n",
      "  copying sklearn\\cluster\\birch.py -> build\\lib.win-amd64-3.8\\sklearn\\cluster\n",
      "  copying sklearn\\cluster\\dbscan_.py -> build\\lib.win-amd64-3.8\\sklearn\\cluster\n",
      "  copying sklearn\\cluster\\hierarchical.py -> build\\lib.win-amd64-3.8\\sklearn\\cluster\n",
      "  copying sklearn\\cluster\\k_means_.py -> build\\lib.win-amd64-3.8\\sklearn\\cluster\n",
      "  copying sklearn\\cluster\\mean_shift_.py -> build\\lib.win-amd64-3.8\\sklearn\\cluster\n",
      "  copying sklearn\\cluster\\setup.py -> build\\lib.win-amd64-3.8\\sklearn\\cluster\n",
      "  copying sklearn\\cluster\\spectral.py -> build\\lib.win-amd64-3.8\\sklearn\\cluster\n",
      "  copying sklearn\\cluster\\_feature_agglomeration.py -> build\\lib.win-amd64-3.8\\sklearn\\cluster\n",
      "  copying sklearn\\cluster\\__init__.py -> build\\lib.win-amd64-3.8\\sklearn\\cluster\n",
      "  creating build\\lib.win-amd64-3.8\\sklearn\\cluster\\tests\n",
      "  copying sklearn\\cluster\\tests\\common.py -> build\\lib.win-amd64-3.8\\sklearn\\cluster\\tests\n",
      "  copying sklearn\\cluster\\tests\\test_affinity_propagation.py -> build\\lib.win-amd64-3.8\\sklearn\\cluster\\tests\n",
      "  copying sklearn\\cluster\\tests\\test_bicluster.py -> build\\lib.win-amd64-3.8\\sklearn\\cluster\\tests\n",
      "  copying sklearn\\cluster\\tests\\test_birch.py -> build\\lib.win-amd64-3.8\\sklearn\\cluster\\tests\n",
      "  copying sklearn\\cluster\\tests\\test_dbscan.py -> build\\lib.win-amd64-3.8\\sklearn\\cluster\\tests\n",
      "  copying sklearn\\cluster\\tests\\test_feature_agglomeration.py -> build\\lib.win-amd64-3.8\\sklearn\\cluster\\tests\n",
      "  copying sklearn\\cluster\\tests\\test_hierarchical.py -> build\\lib.win-amd64-3.8\\sklearn\\cluster\\tests\n",
      "  copying sklearn\\cluster\\tests\\test_k_means.py -> build\\lib.win-amd64-3.8\\sklearn\\cluster\\tests\n",
      "  copying sklearn\\cluster\\tests\\test_mean_shift.py -> build\\lib.win-amd64-3.8\\sklearn\\cluster\\tests\n",
      "  copying sklearn\\cluster\\tests\\test_spectral.py -> build\\lib.win-amd64-3.8\\sklearn\\cluster\\tests\n",
      "  copying sklearn\\cluster\\tests\\__init__.py -> build\\lib.win-amd64-3.8\\sklearn\\cluster\\tests\n",
      "  creating build\\lib.win-amd64-3.8\\sklearn\\datasets\n",
      "  copying sklearn\\datasets\\base.py -> build\\lib.win-amd64-3.8\\sklearn\\datasets\n",
      "  copying sklearn\\datasets\\california_housing.py -> build\\lib.win-amd64-3.8\\sklearn\\datasets\n",
      "  copying sklearn\\datasets\\covtype.py -> build\\lib.win-amd64-3.8\\sklearn\\datasets\n",
      "  copying sklearn\\datasets\\kddcup99.py -> build\\lib.win-amd64-3.8\\sklearn\\datasets\n",
      "  copying sklearn\\datasets\\lfw.py -> build\\lib.win-amd64-3.8\\sklearn\\datasets\n",
      "  copying sklearn\\datasets\\mlcomp.py -> build\\lib.win-amd64-3.8\\sklearn\\datasets\n",
      "  copying sklearn\\datasets\\mldata.py -> build\\lib.win-amd64-3.8\\sklearn\\datasets\n",
      "  copying sklearn\\datasets\\olivetti_faces.py -> build\\lib.win-amd64-3.8\\sklearn\\datasets\n",
      "  copying sklearn\\datasets\\openml.py -> build\\lib.win-amd64-3.8\\sklearn\\datasets\n",
      "  copying sklearn\\datasets\\rcv1.py -> build\\lib.win-amd64-3.8\\sklearn\\datasets\n",
      "  copying sklearn\\datasets\\samples_generator.py -> build\\lib.win-amd64-3.8\\sklearn\\datasets\n",
      "  copying sklearn\\datasets\\setup.py -> build\\lib.win-amd64-3.8\\sklearn\\datasets\n",
      "  copying sklearn\\datasets\\species_distributions.py -> build\\lib.win-amd64-3.8\\sklearn\\datasets\n",
      "  copying sklearn\\datasets\\svmlight_format.py -> build\\lib.win-amd64-3.8\\sklearn\\datasets\n",
      "  copying sklearn\\datasets\\twenty_newsgroups.py -> build\\lib.win-amd64-3.8\\sklearn\\datasets\n",
      "  copying sklearn\\datasets\\__init__.py -> build\\lib.win-amd64-3.8\\sklearn\\datasets\n",
      "  creating build\\lib.win-amd64-3.8\\sklearn\\datasets\\tests\n",
      "  copying sklearn\\datasets\\tests\\test_20news.py -> build\\lib.win-amd64-3.8\\sklearn\\datasets\\tests\n",
      "  copying sklearn\\datasets\\tests\\test_base.py -> build\\lib.win-amd64-3.8\\sklearn\\datasets\\tests\n",
      "  copying sklearn\\datasets\\tests\\test_california_housing.py -> build\\lib.win-amd64-3.8\\sklearn\\datasets\\tests\n",
      "  copying sklearn\\datasets\\tests\\test_common.py -> build\\lib.win-amd64-3.8\\sklearn\\datasets\\tests\n",
      "  copying sklearn\\datasets\\tests\\test_covtype.py -> build\\lib.win-amd64-3.8\\sklearn\\datasets\\tests\n",
      "  copying sklearn\\datasets\\tests\\test_kddcup99.py -> build\\lib.win-amd64-3.8\\sklearn\\datasets\\tests\n",
      "  copying sklearn\\datasets\\tests\\test_lfw.py -> build\\lib.win-amd64-3.8\\sklearn\\datasets\\tests\n",
      "  copying sklearn\\datasets\\tests\\test_mldata.py -> build\\lib.win-amd64-3.8\\sklearn\\datasets\\tests\n",
      "  copying sklearn\\datasets\\tests\\test_openml.py -> build\\lib.win-amd64-3.8\\sklearn\\datasets\\tests\n",
      "  copying sklearn\\datasets\\tests\\test_rcv1.py -> build\\lib.win-amd64-3.8\\sklearn\\datasets\\tests\n",
      "  copying sklearn\\datasets\\tests\\test_samples_generator.py -> build\\lib.win-amd64-3.8\\sklearn\\datasets\\tests\n",
      "  copying sklearn\\datasets\\tests\\test_svmlight_format.py -> build\\lib.win-amd64-3.8\\sklearn\\datasets\\tests\n",
      "  copying sklearn\\datasets\\tests\\__init__.py -> build\\lib.win-amd64-3.8\\sklearn\\datasets\\tests\n",
      "  creating build\\lib.win-amd64-3.8\\sklearn\\decomposition\n",
      "  copying sklearn\\decomposition\\base.py -> build\\lib.win-amd64-3.8\\sklearn\\decomposition\n",
      "  copying sklearn\\decomposition\\dict_learning.py -> build\\lib.win-amd64-3.8\\sklearn\\decomposition\n",
      "  copying sklearn\\decomposition\\factor_analysis.py -> build\\lib.win-amd64-3.8\\sklearn\\decomposition\n",
      "  copying sklearn\\decomposition\\fastica_.py -> build\\lib.win-amd64-3.8\\sklearn\\decomposition\n",
      "  copying sklearn\\decomposition\\incremental_pca.py -> build\\lib.win-amd64-3.8\\sklearn\\decomposition\n",
      "  copying sklearn\\decomposition\\kernel_pca.py -> build\\lib.win-amd64-3.8\\sklearn\\decomposition\n",
      "  copying sklearn\\decomposition\\nmf.py -> build\\lib.win-amd64-3.8\\sklearn\\decomposition\n",
      "  copying sklearn\\decomposition\\online_lda.py -> build\\lib.win-amd64-3.8\\sklearn\\decomposition\n",
      "  copying sklearn\\decomposition\\pca.py -> build\\lib.win-amd64-3.8\\sklearn\\decomposition\n",
      "  copying sklearn\\decomposition\\setup.py -> build\\lib.win-amd64-3.8\\sklearn\\decomposition\n",
      "  copying sklearn\\decomposition\\sparse_pca.py -> build\\lib.win-amd64-3.8\\sklearn\\decomposition\n",
      "  copying sklearn\\decomposition\\truncated_svd.py -> build\\lib.win-amd64-3.8\\sklearn\\decomposition\n",
      "  copying sklearn\\decomposition\\__init__.py -> build\\lib.win-amd64-3.8\\sklearn\\decomposition\n",
      "  creating build\\lib.win-amd64-3.8\\sklearn\\decomposition\\tests\n",
      "  copying sklearn\\decomposition\\tests\\test_dict_learning.py -> build\\lib.win-amd64-3.8\\sklearn\\decomposition\\tests\n",
      "  copying sklearn\\decomposition\\tests\\test_factor_analysis.py -> build\\lib.win-amd64-3.8\\sklearn\\decomposition\\tests\n",
      "  copying sklearn\\decomposition\\tests\\test_fastica.py -> build\\lib.win-amd64-3.8\\sklearn\\decomposition\\tests\n",
      "  copying sklearn\\decomposition\\tests\\test_incremental_pca.py -> build\\lib.win-amd64-3.8\\sklearn\\decomposition\\tests\n",
      "  copying sklearn\\decomposition\\tests\\test_kernel_pca.py -> build\\lib.win-amd64-3.8\\sklearn\\decomposition\\tests\n",
      "  copying sklearn\\decomposition\\tests\\test_nmf.py -> build\\lib.win-amd64-3.8\\sklearn\\decomposition\\tests\n",
      "  copying sklearn\\decomposition\\tests\\test_online_lda.py -> build\\lib.win-amd64-3.8\\sklearn\\decomposition\\tests\n",
      "  copying sklearn\\decomposition\\tests\\test_pca.py -> build\\lib.win-amd64-3.8\\sklearn\\decomposition\\tests\n",
      "  copying sklearn\\decomposition\\tests\\test_sparse_pca.py -> build\\lib.win-amd64-3.8\\sklearn\\decomposition\\tests\n",
      "  copying sklearn\\decomposition\\tests\\test_truncated_svd.py -> build\\lib.win-amd64-3.8\\sklearn\\decomposition\\tests\n",
      "  copying sklearn\\decomposition\\tests\\__init__.py -> build\\lib.win-amd64-3.8\\sklearn\\decomposition\\tests\n",
      "  creating build\\lib.win-amd64-3.8\\sklearn\\ensemble\n",
      "  copying sklearn\\ensemble\\bagging.py -> build\\lib.win-amd64-3.8\\sklearn\\ensemble\n",
      "  copying sklearn\\ensemble\\base.py -> build\\lib.win-amd64-3.8\\sklearn\\ensemble\n",
      "  copying sklearn\\ensemble\\forest.py -> build\\lib.win-amd64-3.8\\sklearn\\ensemble\n",
      "  copying sklearn\\ensemble\\gradient_boosting.py -> build\\lib.win-amd64-3.8\\sklearn\\ensemble\n",
      "  copying sklearn\\ensemble\\iforest.py -> build\\lib.win-amd64-3.8\\sklearn\\ensemble\n",
      "  copying sklearn\\ensemble\\partial_dependence.py -> build\\lib.win-amd64-3.8\\sklearn\\ensemble\n",
      "  copying sklearn\\ensemble\\setup.py -> build\\lib.win-amd64-3.8\\sklearn\\ensemble\n",
      "  copying sklearn\\ensemble\\voting_classifier.py -> build\\lib.win-amd64-3.8\\sklearn\\ensemble\n",
      "  copying sklearn\\ensemble\\weight_boosting.py -> build\\lib.win-amd64-3.8\\sklearn\\ensemble\n",
      "  copying sklearn\\ensemble\\__init__.py -> build\\lib.win-amd64-3.8\\sklearn\\ensemble\n",
      "  creating build\\lib.win-amd64-3.8\\sklearn\\ensemble\\tests\n",
      "  copying sklearn\\ensemble\\tests\\test_bagging.py -> build\\lib.win-amd64-3.8\\sklearn\\ensemble\\tests\n",
      "  copying sklearn\\ensemble\\tests\\test_base.py -> build\\lib.win-amd64-3.8\\sklearn\\ensemble\\tests\n",
      "  copying sklearn\\ensemble\\tests\\test_forest.py -> build\\lib.win-amd64-3.8\\sklearn\\ensemble\\tests\n",
      "  copying sklearn\\ensemble\\tests\\test_gradient_boosting.py -> build\\lib.win-amd64-3.8\\sklearn\\ensemble\\tests\n",
      "  copying sklearn\\ensemble\\tests\\test_gradient_boosting_loss_functions.py -> build\\lib.win-amd64-3.8\\sklearn\\ensemble\\tests\n",
      "  copying sklearn\\ensemble\\tests\\test_iforest.py -> build\\lib.win-amd64-3.8\\sklearn\\ensemble\\tests\n",
      "  copying sklearn\\ensemble\\tests\\test_partial_dependence.py -> build\\lib.win-amd64-3.8\\sklearn\\ensemble\\tests\n",
      "  copying sklearn\\ensemble\\tests\\test_voting_classifier.py -> build\\lib.win-amd64-3.8\\sklearn\\ensemble\\tests\n",
      "  copying sklearn\\ensemble\\tests\\test_weight_boosting.py -> build\\lib.win-amd64-3.8\\sklearn\\ensemble\\tests\n",
      "  copying sklearn\\ensemble\\tests\\__init__.py -> build\\lib.win-amd64-3.8\\sklearn\\ensemble\\tests\n",
      "  creating build\\lib.win-amd64-3.8\\sklearn\\externals\n",
      "  copying sklearn\\externals\\conftest.py -> build\\lib.win-amd64-3.8\\sklearn\\externals\n",
      "  copying sklearn\\externals\\funcsigs.py -> build\\lib.win-amd64-3.8\\sklearn\\externals\n",
      "  copying sklearn\\externals\\setup.py -> build\\lib.win-amd64-3.8\\sklearn\\externals\n",
      "  copying sklearn\\externals\\six.py -> build\\lib.win-amd64-3.8\\sklearn\\externals\n",
      "  copying sklearn\\externals\\_arff.py -> build\\lib.win-amd64-3.8\\sklearn\\externals\n",
      "  copying sklearn\\externals\\_pilutil.py -> build\\lib.win-amd64-3.8\\sklearn\\externals\n",
      "  copying sklearn\\externals\\__init__.py -> build\\lib.win-amd64-3.8\\sklearn\\externals\n",
      "  creating build\\lib.win-amd64-3.8\\sklearn\\externals\\joblib\n",
      "  copying sklearn\\externals\\joblib\\backports.py -> build\\lib.win-amd64-3.8\\sklearn\\externals\\joblib\n",
      "  copying sklearn\\externals\\joblib\\compressor.py -> build\\lib.win-amd64-3.8\\sklearn\\externals\\joblib\n",
      "  copying sklearn\\externals\\joblib\\disk.py -> build\\lib.win-amd64-3.8\\sklearn\\externals\\joblib\n",
      "  copying sklearn\\externals\\joblib\\executor.py -> build\\lib.win-amd64-3.8\\sklearn\\externals\\joblib\n",
      "  copying sklearn\\externals\\joblib\\format_stack.py -> build\\lib.win-amd64-3.8\\sklearn\\externals\\joblib\n",
      "  copying sklearn\\externals\\joblib\\func_inspect.py -> build\\lib.win-amd64-3.8\\sklearn\\externals\\joblib\n",
      "  copying sklearn\\externals\\joblib\\hashing.py -> build\\lib.win-amd64-3.8\\sklearn\\externals\\joblib\n",
      "  copying sklearn\\externals\\joblib\\logger.py -> build\\lib.win-amd64-3.8\\sklearn\\externals\\joblib\n",
      "  copying sklearn\\externals\\joblib\\memory.py -> build\\lib.win-amd64-3.8\\sklearn\\externals\\joblib\n",
      "  copying sklearn\\externals\\joblib\\my_exceptions.py -> build\\lib.win-amd64-3.8\\sklearn\\externals\\joblib\n",
      "  copying sklearn\\externals\\joblib\\numpy_pickle.py -> build\\lib.win-amd64-3.8\\sklearn\\externals\\joblib\n",
      "  copying sklearn\\externals\\joblib\\numpy_pickle_compat.py -> build\\lib.win-amd64-3.8\\sklearn\\externals\\joblib\n",
      "  copying sklearn\\externals\\joblib\\numpy_pickle_utils.py -> build\\lib.win-amd64-3.8\\sklearn\\externals\\joblib\n",
      "  copying sklearn\\externals\\joblib\\parallel.py -> build\\lib.win-amd64-3.8\\sklearn\\externals\\joblib\n",
      "  copying sklearn\\externals\\joblib\\pool.py -> build\\lib.win-amd64-3.8\\sklearn\\externals\\joblib\n",
      "  copying sklearn\\externals\\joblib\\testing.py -> build\\lib.win-amd64-3.8\\sklearn\\externals\\joblib\n",
      "  copying sklearn\\externals\\joblib\\_compat.py -> build\\lib.win-amd64-3.8\\sklearn\\externals\\joblib\n",
      "  copying sklearn\\externals\\joblib\\_dask.py -> build\\lib.win-amd64-3.8\\sklearn\\externals\\joblib\n",
      "  copying sklearn\\externals\\joblib\\_memmapping_reducer.py -> build\\lib.win-amd64-3.8\\sklearn\\externals\\joblib\n",
      "  copying sklearn\\externals\\joblib\\_memory_helpers.py -> build\\lib.win-amd64-3.8\\sklearn\\externals\\joblib\n",
      "  copying sklearn\\externals\\joblib\\_multiprocessing_helpers.py -> build\\lib.win-amd64-3.8\\sklearn\\externals\\joblib\n",
      "  copying sklearn\\externals\\joblib\\_parallel_backends.py -> build\\lib.win-amd64-3.8\\sklearn\\externals\\joblib\n",
      "  copying sklearn\\externals\\joblib\\_store_backends.py -> build\\lib.win-amd64-3.8\\sklearn\\externals\\joblib\n",
      "  copying sklearn\\externals\\joblib\\__init__.py -> build\\lib.win-amd64-3.8\\sklearn\\externals\\joblib\n",
      "  creating build\\lib.win-amd64-3.8\\sklearn\\externals\\joblib\\externals\n",
      "  copying sklearn\\externals\\joblib\\externals\\__init__.py -> build\\lib.win-amd64-3.8\\sklearn\\externals\\joblib/externals\n",
      "  creating build\\lib.win-amd64-3.8\\sklearn\\externals\\joblib\\externals\\loky\n",
      "  copying sklearn\\externals\\joblib\\externals\\loky\\cloudpickle_wrapper.py -> build\\lib.win-amd64-3.8\\sklearn\\externals\\joblib/externals/loky\n",
      "  copying sklearn\\externals\\joblib\\externals\\loky\\process_executor.py -> build\\lib.win-amd64-3.8\\sklearn\\externals\\joblib/externals/loky\n",
      "  copying sklearn\\externals\\joblib\\externals\\loky\\reusable_executor.py -> build\\lib.win-amd64-3.8\\sklearn\\externals\\joblib/externals/loky\n",
      "  copying sklearn\\externals\\joblib\\externals\\loky\\_base.py -> build\\lib.win-amd64-3.8\\sklearn\\externals\\joblib/externals/loky\n",
      "  copying sklearn\\externals\\joblib\\externals\\loky\\__init__.py -> build\\lib.win-amd64-3.8\\sklearn\\externals\\joblib/externals/loky\n",
      "  creating build\\lib.win-amd64-3.8\\sklearn\\externals\\joblib\\externals\\loky\\backend\n",
      "  copying sklearn\\externals\\joblib\\externals\\loky\\backend\\compat.py -> build\\lib.win-amd64-3.8\\sklearn\\externals\\joblib/externals/loky/backend\n",
      "  copying sklearn\\externals\\joblib\\externals\\loky\\backend\\compat_posix.py -> build\\lib.win-amd64-3.8\\sklearn\\externals\\joblib/externals/loky/backend\n",
      "  copying sklearn\\externals\\joblib\\externals\\loky\\backend\\compat_win32.py -> build\\lib.win-amd64-3.8\\sklearn\\externals\\joblib/externals/loky/backend\n",
      "  copying sklearn\\externals\\joblib\\externals\\loky\\backend\\context.py -> build\\lib.win-amd64-3.8\\sklearn\\externals\\joblib/externals/loky/backend\n",
      "  copying sklearn\\externals\\joblib\\externals\\loky\\backend\\fork_exec.py -> build\\lib.win-amd64-3.8\\sklearn\\externals\\joblib/externals/loky/backend\n",
      "  copying sklearn\\externals\\joblib\\externals\\loky\\backend\\managers.py -> build\\lib.win-amd64-3.8\\sklearn\\externals\\joblib/externals/loky/backend\n",
      "  copying sklearn\\externals\\joblib\\externals\\loky\\backend\\popen_loky_posix.py -> build\\lib.win-amd64-3.8\\sklearn\\externals\\joblib/externals/loky/backend\n",
      "  copying sklearn\\externals\\joblib\\externals\\loky\\backend\\popen_loky_win32.py -> build\\lib.win-amd64-3.8\\sklearn\\externals\\joblib/externals/loky/backend\n",
      "  copying sklearn\\externals\\joblib\\externals\\loky\\backend\\process.py -> build\\lib.win-amd64-3.8\\sklearn\\externals\\joblib/externals/loky/backend\n",
      "  copying sklearn\\externals\\joblib\\externals\\loky\\backend\\queues.py -> build\\lib.win-amd64-3.8\\sklearn\\externals\\joblib/externals/loky/backend\n",
      "  copying sklearn\\externals\\joblib\\externals\\loky\\backend\\reduction.py -> build\\lib.win-amd64-3.8\\sklearn\\externals\\joblib/externals/loky/backend\n",
      "  copying sklearn\\externals\\joblib\\externals\\loky\\backend\\semaphore_tracker.py -> build\\lib.win-amd64-3.8\\sklearn\\externals\\joblib/externals/loky/backend\n",
      "  copying sklearn\\externals\\joblib\\externals\\loky\\backend\\semlock.py -> build\\lib.win-amd64-3.8\\sklearn\\externals\\joblib/externals/loky/backend\n",
      "  copying sklearn\\externals\\joblib\\externals\\loky\\backend\\spawn.py -> build\\lib.win-amd64-3.8\\sklearn\\externals\\joblib/externals/loky/backend\n",
      "  copying sklearn\\externals\\joblib\\externals\\loky\\backend\\synchronize.py -> build\\lib.win-amd64-3.8\\sklearn\\externals\\joblib/externals/loky/backend\n",
      "  copying sklearn\\externals\\joblib\\externals\\loky\\backend\\utils.py -> build\\lib.win-amd64-3.8\\sklearn\\externals\\joblib/externals/loky/backend\n",
      "  copying sklearn\\externals\\joblib\\externals\\loky\\backend\\_posix_reduction.py -> build\\lib.win-amd64-3.8\\sklearn\\externals\\joblib/externals/loky/backend\n",
      "  copying sklearn\\externals\\joblib\\externals\\loky\\backend\\_posix_wait.py -> build\\lib.win-amd64-3.8\\sklearn\\externals\\joblib/externals/loky/backend\n",
      "  copying sklearn\\externals\\joblib\\externals\\loky\\backend\\_win_reduction.py -> build\\lib.win-amd64-3.8\\sklearn\\externals\\joblib/externals/loky/backend\n",
      "  copying sklearn\\externals\\joblib\\externals\\loky\\backend\\_win_wait.py -> build\\lib.win-amd64-3.8\\sklearn\\externals\\joblib/externals/loky/backend\n",
      "  copying sklearn\\externals\\joblib\\externals\\loky\\backend\\__init__.py -> build\\lib.win-amd64-3.8\\sklearn\\externals\\joblib/externals/loky/backend\n",
      "  creating build\\lib.win-amd64-3.8\\sklearn\\externals\\joblib\\externals\\cloudpickle\n",
      "  copying sklearn\\externals\\joblib\\externals\\cloudpickle\\cloudpickle.py -> build\\lib.win-amd64-3.8\\sklearn\\externals\\joblib/externals/cloudpickle\n",
      "  copying sklearn\\externals\\joblib\\externals\\cloudpickle\\__init__.py -> build\\lib.win-amd64-3.8\\sklearn\\externals\\joblib/externals/cloudpickle\n",
      "  creating build\\lib.win-amd64-3.8\\sklearn\\feature_extraction\n",
      "  copying sklearn\\feature_extraction\\dict_vectorizer.py -> build\\lib.win-amd64-3.8\\sklearn\\feature_extraction\n",
      "  copying sklearn\\feature_extraction\\hashing.py -> build\\lib.win-amd64-3.8\\sklearn\\feature_extraction\n",
      "  copying sklearn\\feature_extraction\\image.py -> build\\lib.win-amd64-3.8\\sklearn\\feature_extraction\n",
      "  copying sklearn\\feature_extraction\\setup.py -> build\\lib.win-amd64-3.8\\sklearn\\feature_extraction\n",
      "  copying sklearn\\feature_extraction\\stop_words.py -> build\\lib.win-amd64-3.8\\sklearn\\feature_extraction\n",
      "  copying sklearn\\feature_extraction\\text.py -> build\\lib.win-amd64-3.8\\sklearn\\feature_extraction\n",
      "  copying sklearn\\feature_extraction\\__init__.py -> build\\lib.win-amd64-3.8\\sklearn\\feature_extraction\n",
      "  creating build\\lib.win-amd64-3.8\\sklearn\\feature_extraction\\tests\n",
      "  copying sklearn\\feature_extraction\\tests\\test_dict_vectorizer.py -> build\\lib.win-amd64-3.8\\sklearn\\feature_extraction\\tests\n",
      "  copying sklearn\\feature_extraction\\tests\\test_feature_hasher.py -> build\\lib.win-amd64-3.8\\sklearn\\feature_extraction\\tests\n",
      "  copying sklearn\\feature_extraction\\tests\\test_image.py -> build\\lib.win-amd64-3.8\\sklearn\\feature_extraction\\tests\n",
      "  copying sklearn\\feature_extraction\\tests\\test_text.py -> build\\lib.win-amd64-3.8\\sklearn\\feature_extraction\\tests\n",
      "  copying sklearn\\feature_extraction\\tests\\__init__.py -> build\\lib.win-amd64-3.8\\sklearn\\feature_extraction\\tests\n",
      "  creating build\\lib.win-amd64-3.8\\sklearn\\manifold\n",
      "  copying sklearn\\manifold\\isomap.py -> build\\lib.win-amd64-3.8\\sklearn\\manifold\n",
      "  copying sklearn\\manifold\\locally_linear.py -> build\\lib.win-amd64-3.8\\sklearn\\manifold\n",
      "  copying sklearn\\manifold\\mds.py -> build\\lib.win-amd64-3.8\\sklearn\\manifold\n",
      "  copying sklearn\\manifold\\setup.py -> build\\lib.win-amd64-3.8\\sklearn\\manifold\n",
      "  copying sklearn\\manifold\\spectral_embedding_.py -> build\\lib.win-amd64-3.8\\sklearn\\manifold\n",
      "  copying sklearn\\manifold\\t_sne.py -> build\\lib.win-amd64-3.8\\sklearn\\manifold\n",
      "  copying sklearn\\manifold\\__init__.py -> build\\lib.win-amd64-3.8\\sklearn\\manifold\n",
      "  creating build\\lib.win-amd64-3.8\\sklearn\\manifold\\tests\n",
      "  copying sklearn\\manifold\\tests\\test_isomap.py -> build\\lib.win-amd64-3.8\\sklearn\\manifold\\tests\n",
      "  copying sklearn\\manifold\\tests\\test_locally_linear.py -> build\\lib.win-amd64-3.8\\sklearn\\manifold\\tests\n",
      "  copying sklearn\\manifold\\tests\\test_mds.py -> build\\lib.win-amd64-3.8\\sklearn\\manifold\\tests\n",
      "  copying sklearn\\manifold\\tests\\test_spectral_embedding.py -> build\\lib.win-amd64-3.8\\sklearn\\manifold\\tests\n",
      "  copying sklearn\\manifold\\tests\\test_t_sne.py -> build\\lib.win-amd64-3.8\\sklearn\\manifold\\tests\n",
      "  copying sklearn\\manifold\\tests\\__init__.py -> build\\lib.win-amd64-3.8\\sklearn\\manifold\\tests\n",
      "  creating build\\lib.win-amd64-3.8\\sklearn\\metrics\n",
      "  copying sklearn\\metrics\\base.py -> build\\lib.win-amd64-3.8\\sklearn\\metrics\n",
      "  copying sklearn\\metrics\\classification.py -> build\\lib.win-amd64-3.8\\sklearn\\metrics\n",
      "  copying sklearn\\metrics\\pairwise.py -> build\\lib.win-amd64-3.8\\sklearn\\metrics\n",
      "  copying sklearn\\metrics\\ranking.py -> build\\lib.win-amd64-3.8\\sklearn\\metrics\n",
      "  copying sklearn\\metrics\\regression.py -> build\\lib.win-amd64-3.8\\sklearn\\metrics\n",
      "  copying sklearn\\metrics\\scorer.py -> build\\lib.win-amd64-3.8\\sklearn\\metrics\n",
      "  copying sklearn\\metrics\\setup.py -> build\\lib.win-amd64-3.8\\sklearn\\metrics\n",
      "  copying sklearn\\metrics\\__init__.py -> build\\lib.win-amd64-3.8\\sklearn\\metrics\n",
      "  creating build\\lib.win-amd64-3.8\\sklearn\\metrics\\cluster\n",
      "  copying sklearn\\metrics\\cluster\\bicluster.py -> build\\lib.win-amd64-3.8\\sklearn\\metrics\\cluster\n",
      "  copying sklearn\\metrics\\cluster\\setup.py -> build\\lib.win-amd64-3.8\\sklearn\\metrics\\cluster\n",
      "  copying sklearn\\metrics\\cluster\\supervised.py -> build\\lib.win-amd64-3.8\\sklearn\\metrics\\cluster\n",
      "  copying sklearn\\metrics\\cluster\\unsupervised.py -> build\\lib.win-amd64-3.8\\sklearn\\metrics\\cluster\n",
      "  copying sklearn\\metrics\\cluster\\__init__.py -> build\\lib.win-amd64-3.8\\sklearn\\metrics\\cluster\n",
      "  creating build\\lib.win-amd64-3.8\\sklearn\\metrics\\cluster\\tests\n",
      "  copying sklearn\\metrics\\cluster\\tests\\test_bicluster.py -> build\\lib.win-amd64-3.8\\sklearn\\metrics\\cluster\\tests\n",
      "  copying sklearn\\metrics\\cluster\\tests\\test_common.py -> build\\lib.win-amd64-3.8\\sklearn\\metrics\\cluster\\tests\n",
      "  copying sklearn\\metrics\\cluster\\tests\\test_supervised.py -> build\\lib.win-amd64-3.8\\sklearn\\metrics\\cluster\\tests\n",
      "  copying sklearn\\metrics\\cluster\\tests\\test_unsupervised.py -> build\\lib.win-amd64-3.8\\sklearn\\metrics\\cluster\\tests\n",
      "  copying sklearn\\metrics\\cluster\\tests\\__init__.py -> build\\lib.win-amd64-3.8\\sklearn\\metrics\\cluster\\tests\n",
      "  creating build\\lib.win-amd64-3.8\\sklearn\\metrics\\tests\n",
      "  copying sklearn\\metrics\\tests\\test_classification.py -> build\\lib.win-amd64-3.8\\sklearn\\metrics\\tests\n",
      "  copying sklearn\\metrics\\tests\\test_common.py -> build\\lib.win-amd64-3.8\\sklearn\\metrics\\tests\n",
      "  copying sklearn\\metrics\\tests\\test_pairwise.py -> build\\lib.win-amd64-3.8\\sklearn\\metrics\\tests\n",
      "  copying sklearn\\metrics\\tests\\test_ranking.py -> build\\lib.win-amd64-3.8\\sklearn\\metrics\\tests\n",
      "  copying sklearn\\metrics\\tests\\test_regression.py -> build\\lib.win-amd64-3.8\\sklearn\\metrics\\tests\n",
      "  copying sklearn\\metrics\\tests\\test_score_objects.py -> build\\lib.win-amd64-3.8\\sklearn\\metrics\\tests\n",
      "  copying sklearn\\metrics\\tests\\__init__.py -> build\\lib.win-amd64-3.8\\sklearn\\metrics\\tests\n",
      "  creating build\\lib.win-amd64-3.8\\sklearn\\neighbors\n",
      "  copying sklearn\\neighbors\\approximate.py -> build\\lib.win-amd64-3.8\\sklearn\\neighbors\n",
      "  copying sklearn\\neighbors\\base.py -> build\\lib.win-amd64-3.8\\sklearn\\neighbors\n",
      "  copying sklearn\\neighbors\\classification.py -> build\\lib.win-amd64-3.8\\sklearn\\neighbors\n",
      "  copying sklearn\\neighbors\\graph.py -> build\\lib.win-amd64-3.8\\sklearn\\neighbors\n",
      "  copying sklearn\\neighbors\\kde.py -> build\\lib.win-amd64-3.8\\sklearn\\neighbors\n",
      "  copying sklearn\\neighbors\\lof.py -> build\\lib.win-amd64-3.8\\sklearn\\neighbors\n",
      "  copying sklearn\\neighbors\\nearest_centroid.py -> build\\lib.win-amd64-3.8\\sklearn\\neighbors\n",
      "  copying sklearn\\neighbors\\regression.py -> build\\lib.win-amd64-3.8\\sklearn\\neighbors\n",
      "  copying sklearn\\neighbors\\setup.py -> build\\lib.win-amd64-3.8\\sklearn\\neighbors\n",
      "  copying sklearn\\neighbors\\unsupervised.py -> build\\lib.win-amd64-3.8\\sklearn\\neighbors\n",
      "  copying sklearn\\neighbors\\__init__.py -> build\\lib.win-amd64-3.8\\sklearn\\neighbors\n",
      "  creating build\\lib.win-amd64-3.8\\sklearn\\neighbors\\tests\n",
      "  copying sklearn\\neighbors\\tests\\test_approximate.py -> build\\lib.win-amd64-3.8\\sklearn\\neighbors\\tests\n",
      "  copying sklearn\\neighbors\\tests\\test_ball_tree.py -> build\\lib.win-amd64-3.8\\sklearn\\neighbors\\tests\n",
      "  copying sklearn\\neighbors\\tests\\test_dist_metrics.py -> build\\lib.win-amd64-3.8\\sklearn\\neighbors\\tests\n",
      "  copying sklearn\\neighbors\\tests\\test_kde.py -> build\\lib.win-amd64-3.8\\sklearn\\neighbors\\tests\n",
      "  copying sklearn\\neighbors\\tests\\test_kd_tree.py -> build\\lib.win-amd64-3.8\\sklearn\\neighbors\\tests\n",
      "  copying sklearn\\neighbors\\tests\\test_lof.py -> build\\lib.win-amd64-3.8\\sklearn\\neighbors\\tests\n",
      "  copying sklearn\\neighbors\\tests\\test_nearest_centroid.py -> build\\lib.win-amd64-3.8\\sklearn\\neighbors\\tests\n",
      "  copying sklearn\\neighbors\\tests\\test_neighbors.py -> build\\lib.win-amd64-3.8\\sklearn\\neighbors\\tests\n",
      "  copying sklearn\\neighbors\\tests\\test_quad_tree.py -> build\\lib.win-amd64-3.8\\sklearn\\neighbors\\tests\n",
      "  copying sklearn\\neighbors\\tests\\__init__.py -> build\\lib.win-amd64-3.8\\sklearn\\neighbors\\tests\n",
      "  creating build\\lib.win-amd64-3.8\\sklearn\\tree\n",
      "  copying sklearn\\tree\\export.py -> build\\lib.win-amd64-3.8\\sklearn\\tree\n",
      "  copying sklearn\\tree\\setup.py -> build\\lib.win-amd64-3.8\\sklearn\\tree\n",
      "  copying sklearn\\tree\\tree.py -> build\\lib.win-amd64-3.8\\sklearn\\tree\n",
      "  copying sklearn\\tree\\__init__.py -> build\\lib.win-amd64-3.8\\sklearn\\tree\n",
      "  creating build\\lib.win-amd64-3.8\\sklearn\\tree\\tests\n",
      "  copying sklearn\\tree\\tests\\test_export.py -> build\\lib.win-amd64-3.8\\sklearn\\tree\\tests\n",
      "  copying sklearn\\tree\\tests\\test_tree.py -> build\\lib.win-amd64-3.8\\sklearn\\tree\\tests\n",
      "  copying sklearn\\tree\\tests\\__init__.py -> build\\lib.win-amd64-3.8\\sklearn\\tree\\tests\n",
      "  creating build\\lib.win-amd64-3.8\\sklearn\\svm\n",
      "  copying sklearn\\svm\\base.py -> build\\lib.win-amd64-3.8\\sklearn\\svm\n",
      "  copying sklearn\\svm\\bounds.py -> build\\lib.win-amd64-3.8\\sklearn\\svm\n",
      "  copying sklearn\\svm\\classes.py -> build\\lib.win-amd64-3.8\\sklearn\\svm\n",
      "  copying sklearn\\svm\\setup.py -> build\\lib.win-amd64-3.8\\sklearn\\svm\n",
      "  copying sklearn\\svm\\__init__.py -> build\\lib.win-amd64-3.8\\sklearn\\svm\n",
      "  creating build\\lib.win-amd64-3.8\\sklearn\\svm\\tests\n",
      "  copying sklearn\\svm\\tests\\test_bounds.py -> build\\lib.win-amd64-3.8\\sklearn\\svm\\tests\n",
      "  copying sklearn\\svm\\tests\\test_sparse.py -> build\\lib.win-amd64-3.8\\sklearn\\svm\\tests\n",
      "  copying sklearn\\svm\\tests\\test_svm.py -> build\\lib.win-amd64-3.8\\sklearn\\svm\\tests\n",
      "  copying sklearn\\svm\\tests\\__init__.py -> build\\lib.win-amd64-3.8\\sklearn\\svm\\tests\n",
      "  creating build\\lib.win-amd64-3.8\\sklearn\\linear_model\n",
      "  copying sklearn\\linear_model\\base.py -> build\\lib.win-amd64-3.8\\sklearn\\linear_model\n",
      "  copying sklearn\\linear_model\\bayes.py -> build\\lib.win-amd64-3.8\\sklearn\\linear_model\n",
      "  copying sklearn\\linear_model\\coordinate_descent.py -> build\\lib.win-amd64-3.8\\sklearn\\linear_model\n",
      "  copying sklearn\\linear_model\\huber.py -> build\\lib.win-amd64-3.8\\sklearn\\linear_model\n",
      "  copying sklearn\\linear_model\\least_angle.py -> build\\lib.win-amd64-3.8\\sklearn\\linear_model\n",
      "  copying sklearn\\linear_model\\logistic.py -> build\\lib.win-amd64-3.8\\sklearn\\linear_model\n",
      "  copying sklearn\\linear_model\\omp.py -> build\\lib.win-amd64-3.8\\sklearn\\linear_model\n",
      "  copying sklearn\\linear_model\\passive_aggressive.py -> build\\lib.win-amd64-3.8\\sklearn\\linear_model\n",
      "  copying sklearn\\linear_model\\perceptron.py -> build\\lib.win-amd64-3.8\\sklearn\\linear_model\n",
      "  copying sklearn\\linear_model\\randomized_l1.py -> build\\lib.win-amd64-3.8\\sklearn\\linear_model\n",
      "  copying sklearn\\linear_model\\ransac.py -> build\\lib.win-amd64-3.8\\sklearn\\linear_model\n",
      "  copying sklearn\\linear_model\\ridge.py -> build\\lib.win-amd64-3.8\\sklearn\\linear_model\n",
      "  copying sklearn\\linear_model\\sag.py -> build\\lib.win-amd64-3.8\\sklearn\\linear_model\n",
      "  copying sklearn\\linear_model\\setup.py -> build\\lib.win-amd64-3.8\\sklearn\\linear_model\n",
      "  copying sklearn\\linear_model\\stochastic_gradient.py -> build\\lib.win-amd64-3.8\\sklearn\\linear_model\n",
      "  copying sklearn\\linear_model\\theil_sen.py -> build\\lib.win-amd64-3.8\\sklearn\\linear_model\n",
      "  copying sklearn\\linear_model\\__init__.py -> build\\lib.win-amd64-3.8\\sklearn\\linear_model\n",
      "  creating build\\lib.win-amd64-3.8\\sklearn\\linear_model\\tests\n",
      "  copying sklearn\\linear_model\\tests\\test_base.py -> build\\lib.win-amd64-3.8\\sklearn\\linear_model\\tests\n",
      "  copying sklearn\\linear_model\\tests\\test_bayes.py -> build\\lib.win-amd64-3.8\\sklearn\\linear_model\\tests\n",
      "  copying sklearn\\linear_model\\tests\\test_coordinate_descent.py -> build\\lib.win-amd64-3.8\\sklearn\\linear_model\\tests\n",
      "  copying sklearn\\linear_model\\tests\\test_huber.py -> build\\lib.win-amd64-3.8\\sklearn\\linear_model\\tests\n",
      "  copying sklearn\\linear_model\\tests\\test_least_angle.py -> build\\lib.win-amd64-3.8\\sklearn\\linear_model\\tests\n",
      "  copying sklearn\\linear_model\\tests\\test_logistic.py -> build\\lib.win-amd64-3.8\\sklearn\\linear_model\\tests\n",
      "  copying sklearn\\linear_model\\tests\\test_omp.py -> build\\lib.win-amd64-3.8\\sklearn\\linear_model\\tests\n",
      "  copying sklearn\\linear_model\\tests\\test_passive_aggressive.py -> build\\lib.win-amd64-3.8\\sklearn\\linear_model\\tests\n",
      "  copying sklearn\\linear_model\\tests\\test_perceptron.py -> build\\lib.win-amd64-3.8\\sklearn\\linear_model\\tests\n",
      "  copying sklearn\\linear_model\\tests\\test_randomized_l1.py -> build\\lib.win-amd64-3.8\\sklearn\\linear_model\\tests\n",
      "  copying sklearn\\linear_model\\tests\\test_ransac.py -> build\\lib.win-amd64-3.8\\sklearn\\linear_model\\tests\n",
      "  copying sklearn\\linear_model\\tests\\test_ridge.py -> build\\lib.win-amd64-3.8\\sklearn\\linear_model\\tests\n",
      "  copying sklearn\\linear_model\\tests\\test_sag.py -> build\\lib.win-amd64-3.8\\sklearn\\linear_model\\tests\n",
      "  copying sklearn\\linear_model\\tests\\test_sgd.py -> build\\lib.win-amd64-3.8\\sklearn\\linear_model\\tests\n",
      "  copying sklearn\\linear_model\\tests\\test_sparse_coordinate_descent.py -> build\\lib.win-amd64-3.8\\sklearn\\linear_model\\tests\n",
      "  copying sklearn\\linear_model\\tests\\test_theil_sen.py -> build\\lib.win-amd64-3.8\\sklearn\\linear_model\\tests\n",
      "  copying sklearn\\linear_model\\tests\\__init__.py -> build\\lib.win-amd64-3.8\\sklearn\\linear_model\\tests\n",
      "  creating build\\lib.win-amd64-3.8\\sklearn\\utils\n",
      "  copying sklearn\\utils\\arpack.py -> build\\lib.win-amd64-3.8\\sklearn\\utils\n",
      "  copying sklearn\\utils\\bench.py -> build\\lib.win-amd64-3.8\\sklearn\\utils\n",
      "  copying sklearn\\utils\\class_weight.py -> build\\lib.win-amd64-3.8\\sklearn\\utils\n",
      "  copying sklearn\\utils\\deprecation.py -> build\\lib.win-amd64-3.8\\sklearn\\utils\n",
      "  copying sklearn\\utils\\estimator_checks.py -> build\\lib.win-amd64-3.8\\sklearn\\utils\n",
      "  copying sklearn\\utils\\extmath.py -> build\\lib.win-amd64-3.8\\sklearn\\utils\n",
      "  copying sklearn\\utils\\fixes.py -> build\\lib.win-amd64-3.8\\sklearn\\utils\n",
      "  copying sklearn\\utils\\graph.py -> build\\lib.win-amd64-3.8\\sklearn\\utils\n",
      "  copying sklearn\\utils\\linear_assignment_.py -> build\\lib.win-amd64-3.8\\sklearn\\utils\n",
      "  copying sklearn\\utils\\metaestimators.py -> build\\lib.win-amd64-3.8\\sklearn\\utils\n",
      "  copying sklearn\\utils\\mocking.py -> build\\lib.win-amd64-3.8\\sklearn\\utils\n",
      "  copying sklearn\\utils\\multiclass.py -> build\\lib.win-amd64-3.8\\sklearn\\utils\n",
      "  copying sklearn\\utils\\optimize.py -> build\\lib.win-amd64-3.8\\sklearn\\utils\n",
      "  copying sklearn\\utils\\random.py -> build\\lib.win-amd64-3.8\\sklearn\\utils\n",
      "  copying sklearn\\utils\\setup.py -> build\\lib.win-amd64-3.8\\sklearn\\utils\n",
      "  copying sklearn\\utils\\sparsefuncs.py -> build\\lib.win-amd64-3.8\\sklearn\\utils\n",
      "  copying sklearn\\utils\\stats.py -> build\\lib.win-amd64-3.8\\sklearn\\utils\n",
      "  copying sklearn\\utils\\testing.py -> build\\lib.win-amd64-3.8\\sklearn\\utils\n",
      "  copying sklearn\\utils\\validation.py -> build\\lib.win-amd64-3.8\\sklearn\\utils\n",
      "  copying sklearn\\utils\\_joblib.py -> build\\lib.win-amd64-3.8\\sklearn\\utils\n",
      "  copying sklearn\\utils\\_scipy_sparse_lsqr_backport.py -> build\\lib.win-amd64-3.8\\sklearn\\utils\n",
      "  copying sklearn\\utils\\_show_versions.py -> build\\lib.win-amd64-3.8\\sklearn\\utils\n",
      "  copying sklearn\\utils\\_unittest_backport.py -> build\\lib.win-amd64-3.8\\sklearn\\utils\n",
      "  copying sklearn\\utils\\__init__.py -> build\\lib.win-amd64-3.8\\sklearn\\utils\n",
      "  creating build\\lib.win-amd64-3.8\\sklearn\\utils\\sparsetools\n",
      "  copying sklearn\\utils\\sparsetools\\setup.py -> build\\lib.win-amd64-3.8\\sklearn\\utils\\sparsetools\n",
      "  copying sklearn\\utils\\sparsetools\\__init__.py -> build\\lib.win-amd64-3.8\\sklearn\\utils\\sparsetools\n",
      "  creating build\\lib.win-amd64-3.8\\sklearn\\utils\\sparsetools\\tests\n",
      "  copying sklearn\\utils\\sparsetools\\tests\\__init__.py -> build\\lib.win-amd64-3.8\\sklearn\\utils\\sparsetools\\tests\n",
      "  creating build\\lib.win-amd64-3.8\\sklearn\\utils\\tests\n",
      "  copying sklearn\\utils\\tests\\test_bench.py -> build\\lib.win-amd64-3.8\\sklearn\\utils\\tests\n",
      "  copying sklearn\\utils\\tests\\test_class_weight.py -> build\\lib.win-amd64-3.8\\sklearn\\utils\\tests\n",
      "  copying sklearn\\utils\\tests\\test_deprecation.py -> build\\lib.win-amd64-3.8\\sklearn\\utils\\tests\n",
      "  copying sklearn\\utils\\tests\\test_estimator_checks.py -> build\\lib.win-amd64-3.8\\sklearn\\utils\\tests\n",
      "  copying sklearn\\utils\\tests\\test_extmath.py -> build\\lib.win-amd64-3.8\\sklearn\\utils\\tests\n",
      "  copying sklearn\\utils\\tests\\test_fast_dict.py -> build\\lib.win-amd64-3.8\\sklearn\\utils\\tests\n",
      "  copying sklearn\\utils\\tests\\test_fixes.py -> build\\lib.win-amd64-3.8\\sklearn\\utils\\tests\n",
      "  copying sklearn\\utils\\tests\\test_graph.py -> build\\lib.win-amd64-3.8\\sklearn\\utils\\tests\n",
      "  copying sklearn\\utils\\tests\\test_linear_assignment.py -> build\\lib.win-amd64-3.8\\sklearn\\utils\\tests\n",
      "  copying sklearn\\utils\\tests\\test_metaestimators.py -> build\\lib.win-amd64-3.8\\sklearn\\utils\\tests\n",
      "  copying sklearn\\utils\\tests\\test_multiclass.py -> build\\lib.win-amd64-3.8\\sklearn\\utils\\tests\n",
      "  copying sklearn\\utils\\tests\\test_murmurhash.py -> build\\lib.win-amd64-3.8\\sklearn\\utils\\tests\n",
      "  copying sklearn\\utils\\tests\\test_optimize.py -> build\\lib.win-amd64-3.8\\sklearn\\utils\\tests\n",
      "  copying sklearn\\utils\\tests\\test_random.py -> build\\lib.win-amd64-3.8\\sklearn\\utils\\tests\n",
      "  copying sklearn\\utils\\tests\\test_seq_dataset.py -> build\\lib.win-amd64-3.8\\sklearn\\utils\\tests\n",
      "  copying sklearn\\utils\\tests\\test_shortest_path.py -> build\\lib.win-amd64-3.8\\sklearn\\utils\\tests\n",
      "  copying sklearn\\utils\\tests\\test_show_versions.py -> build\\lib.win-amd64-3.8\\sklearn\\utils\\tests\n",
      "  copying sklearn\\utils\\tests\\test_sparsefuncs.py -> build\\lib.win-amd64-3.8\\sklearn\\utils\\tests\n",
      "  copying sklearn\\utils\\tests\\test_stats.py -> build\\lib.win-amd64-3.8\\sklearn\\utils\\tests\n",
      "  copying sklearn\\utils\\tests\\test_testing.py -> build\\lib.win-amd64-3.8\\sklearn\\utils\\tests\n",
      "  copying sklearn\\utils\\tests\\test_utils.py -> build\\lib.win-amd64-3.8\\sklearn\\utils\\tests\n",
      "  copying sklearn\\utils\\tests\\test_validation.py -> build\\lib.win-amd64-3.8\\sklearn\\utils\\tests\n",
      "  copying sklearn\\utils\\tests\\__init__.py -> build\\lib.win-amd64-3.8\\sklearn\\utils\\tests\n",
      "  creating build\\lib.win-amd64-3.8\\sklearn\\tests\n",
      "  copying sklearn\\tests\\test_base.py -> build\\lib.win-amd64-3.8\\sklearn\\tests\n",
      "  copying sklearn\\tests\\test_calibration.py -> build\\lib.win-amd64-3.8\\sklearn\\tests\n",
      "  copying sklearn\\tests\\test_check_build.py -> build\\lib.win-amd64-3.8\\sklearn\\tests\n",
      "  copying sklearn\\tests\\test_common.py -> build\\lib.win-amd64-3.8\\sklearn\\tests\n",
      "  copying sklearn\\tests\\test_config.py -> build\\lib.win-amd64-3.8\\sklearn\\tests\n",
      "  copying sklearn\\tests\\test_discriminant_analysis.py -> build\\lib.win-amd64-3.8\\sklearn\\tests\n",
      "  copying sklearn\\tests\\test_docstring_parameters.py -> build\\lib.win-amd64-3.8\\sklearn\\tests\n",
      "  copying sklearn\\tests\\test_dummy.py -> build\\lib.win-amd64-3.8\\sklearn\\tests\n",
      "  copying sklearn\\tests\\test_impute.py -> build\\lib.win-amd64-3.8\\sklearn\\tests\n",
      "  copying sklearn\\tests\\test_init.py -> build\\lib.win-amd64-3.8\\sklearn\\tests\n",
      "  copying sklearn\\tests\\test_isotonic.py -> build\\lib.win-amd64-3.8\\sklearn\\tests\n",
      "  copying sklearn\\tests\\test_kernel_approximation.py -> build\\lib.win-amd64-3.8\\sklearn\\tests\n",
      "  copying sklearn\\tests\\test_kernel_ridge.py -> build\\lib.win-amd64-3.8\\sklearn\\tests\n",
      "  copying sklearn\\tests\\test_metaestimators.py -> build\\lib.win-amd64-3.8\\sklearn\\tests\n",
      "  copying sklearn\\tests\\test_multiclass.py -> build\\lib.win-amd64-3.8\\sklearn\\tests\n",
      "  copying sklearn\\tests\\test_multioutput.py -> build\\lib.win-amd64-3.8\\sklearn\\tests\n",
      "  copying sklearn\\tests\\test_naive_bayes.py -> build\\lib.win-amd64-3.8\\sklearn\\tests\n",
      "  copying sklearn\\tests\\test_pipeline.py -> build\\lib.win-amd64-3.8\\sklearn\\tests\n",
      "  copying sklearn\\tests\\test_random_projection.py -> build\\lib.win-amd64-3.8\\sklearn\\tests\n",
      "  copying sklearn\\tests\\test_site_joblib.py -> build\\lib.win-amd64-3.8\\sklearn\\tests\n",
      "  copying sklearn\\tests\\__init__.py -> build\\lib.win-amd64-3.8\\sklearn\\tests\n",
      "  running build_clib\n",
      "  No module named 'numpy.distutils._msvccompiler' in numpy.distutils; trying from distutils\n",
      "  customize MSVCCompiler\n",
      "  Missing compiler_cxx fix for MSVCCompiler\n",
      "  customize MSVCCompiler using build_clib\n",
      "  CCompilerOpt.cc_test_flags[999] : testing flags (/O2)\n",
      "  error: Microsoft Visual C++ 14.0 or greater is required. Get it with \"Microsoft C++ Build Tools\": https://visualstudio.microsoft.com/visual-cpp-build-tools/\n",
      "  CCompilerOpt._cache_write[796] : write cache to path -> C:\\Users\\Admin\\AppData\\Local\\Temp\\pip-install-e5lxsxub\\scikit-learn_ff5cc17d3c874ebc9065ecf1f7ae36d9\\build\\temp.win-amd64-3.8\\ccompiler_opt_cache_clib.py\n",
      "  ----------------------------------------\n",
      "  ERROR: Failed building wheel for scikit-learn\n",
      "    ERROR: Command errored out with exit status 1:\n",
      "     command: 'D:\\Farhat\\python.exe' -u -c 'import sys, setuptools, tokenize; sys.argv[0] = '\"'\"'C:\\\\Users\\\\Admin\\\\AppData\\\\Local\\\\Temp\\\\pip-install-e5lxsxub\\\\scikit-learn_ff5cc17d3c874ebc9065ecf1f7ae36d9\\\\setup.py'\"'\"'; __file__='\"'\"'C:\\\\Users\\\\Admin\\\\AppData\\\\Local\\\\Temp\\\\pip-install-e5lxsxub\\\\scikit-learn_ff5cc17d3c874ebc9065ecf1f7ae36d9\\\\setup.py'\"'\"';f=getattr(tokenize, '\"'\"'open'\"'\"', open)(__file__);code=f.read().replace('\"'\"'\\r\\n'\"'\"', '\"'\"'\\n'\"'\"');f.close();exec(compile(code, __file__, '\"'\"'exec'\"'\"'))' install --record 'C:\\Users\\Admin\\AppData\\Local\\Temp\\pip-record-ef09ibt3\\install-record.txt' --single-version-externally-managed --compile --install-headers 'D:\\Farhat\\Include\\scikit-learn'\n",
      "         cwd: C:\\Users\\Admin\\AppData\\Local\\Temp\\pip-install-e5lxsxub\\scikit-learn_ff5cc17d3c874ebc9065ecf1f7ae36d9\\\n",
      "    Complete output (675 lines):\n",
      "    Partial import of sklearn during the build process.\n",
      "    blas_opt_info:\n",
      "    blas_mkl_info:\n",
      "    No module named 'numpy.distutils._msvccompiler' in numpy.distutils; trying from distutils\n",
      "    customize MSVCCompiler\n",
      "      libraries mkl_rt not found in ['D:/Farhat\\\\Library\\\\lib']\n",
      "      NOT AVAILABLE\n",
      "    \n",
      "    blis_info:\n",
      "      libraries blis not found in ['D:\\\\Farhat\\\\lib', 'C:\\\\', 'D:\\\\Farhat\\\\libs']\n",
      "      NOT AVAILABLE\n",
      "    \n",
      "    openblas_info:\n",
      "      libraries openblas not found in ['D:\\\\Farhat\\\\lib', 'C:\\\\', 'D:\\\\Farhat\\\\libs']\n",
      "    get_default_fcompiler: matching types: '['gnu', 'intelv', 'absoft', 'compaqv', 'intelev', 'gnu95', 'g95', 'intelvem', 'intelem', 'flang']'\n",
      "    customize GnuFCompiler\n",
      "    Could not locate executable g77\n",
      "    Could not locate executable f77\n",
      "    customize IntelVisualFCompiler\n",
      "    Could not locate executable ifort\n",
      "    Could not locate executable ifl\n",
      "    customize AbsoftFCompiler\n",
      "    Could not locate executable f90\n",
      "    customize CompaqVisualFCompiler\n",
      "    Could not locate executable DF\n",
      "    customize IntelItaniumVisualFCompiler\n",
      "    Could not locate executable efl\n",
      "    customize Gnu95FCompiler\n",
      "    Could not locate executable gfortran\n",
      "    Could not locate executable f95\n",
      "    customize G95FCompiler\n",
      "    Could not locate executable g95\n",
      "    customize IntelEM64VisualFCompiler\n",
      "    customize IntelEM64TFCompiler\n",
      "    Could not locate executable efort\n",
      "    Could not locate executable efc\n",
      "    customize PGroupFlangCompiler\n",
      "    Could not locate executable flang\n",
      "    don't know how to compile Fortran code on platform 'nt'\n",
      "      NOT AVAILABLE\n",
      "    \n",
      "    atlas_3_10_blas_threads_info:\n",
      "    Setting PTATLAS=ATLAS\n",
      "      libraries tatlas not found in ['D:\\\\Farhat\\\\lib', 'C:\\\\', 'D:\\\\Farhat\\\\libs']\n",
      "      NOT AVAILABLE\n",
      "    \n",
      "    atlas_3_10_blas_info:\n",
      "      libraries satlas not found in ['D:\\\\Farhat\\\\lib', 'C:\\\\', 'D:\\\\Farhat\\\\libs']\n",
      "      NOT AVAILABLE\n",
      "    \n",
      "    atlas_blas_threads_info:\n",
      "    Setting PTATLAS=ATLAS\n",
      "      libraries ptf77blas,ptcblas,atlas not found in ['D:\\\\Farhat\\\\lib', 'C:\\\\', 'D:\\\\Farhat\\\\libs']\n",
      "      NOT AVAILABLE\n",
      "    \n",
      "    atlas_blas_info:\n",
      "      libraries f77blas,cblas,atlas not found in ['D:\\\\Farhat\\\\lib', 'C:\\\\', 'D:\\\\Farhat\\\\libs']\n",
      "      NOT AVAILABLE\n",
      "    \n",
      "    D:\\Farhat\\lib\\site-packages\\numpy\\distutils\\system_info.py:1989: UserWarning:\n",
      "        Optimized (vendor) Blas libraries are not found.\n",
      "        Falls back to netlib Blas library which has worse performance.\n",
      "        A better performance should be easily gained by switching\n",
      "        Blas library.\n",
      "      if self._calc_info(blas):\n",
      "    blas_info:\n",
      "      libraries blas not found in ['D:\\\\Farhat\\\\lib', 'C:\\\\', 'D:\\\\Farhat\\\\libs']\n",
      "      NOT AVAILABLE\n",
      "    \n",
      "    D:\\Farhat\\lib\\site-packages\\numpy\\distutils\\system_info.py:1989: UserWarning:\n",
      "        Blas (http://www.netlib.org/blas/) libraries not found.\n",
      "        Directories to search for the libraries can be specified in the\n",
      "        numpy/distutils/site.cfg file (section [blas]) or by setting\n",
      "        the BLAS environment variable.\n",
      "      if self._calc_info(blas):\n",
      "    blas_src_info:\n",
      "      NOT AVAILABLE\n",
      "    \n",
      "    D:\\Farhat\\lib\\site-packages\\numpy\\distutils\\system_info.py:1989: UserWarning:\n",
      "        Blas (http://www.netlib.org/blas/) sources not found.\n",
      "        Directories to search for the sources can be specified in the\n",
      "        numpy/distutils/site.cfg file (section [blas_src]) or by setting\n",
      "        the BLAS_SRC environment variable.\n",
      "      if self._calc_info(blas):\n",
      "      NOT AVAILABLE\n",
      "    \n",
      "    sklearn\\setup.py:73: UserWarning:\n",
      "        Blas (http://www.netlib.org/blas/) libraries not found.\n",
      "        Directories to search for the libraries can be specified in the\n",
      "        numpy/distutils/site.cfg file (section [blas]) or by setting\n",
      "        the BLAS environment variable.\n",
      "      warnings.warn(BlasNotFoundError.__doc__)\n",
      "    running install\n",
      "    running build\n",
      "    running config_cc\n",
      "    unifing config_cc, config, build_clib, build_ext, build commands --compiler options\n",
      "    running config_fc\n",
      "    unifing config_fc, config, build_clib, build_ext, build commands --fcompiler options\n",
      "    running build_src\n",
      "    build_src\n",
      "    building library \"libsvm-skl\" sources\n",
      "    building library \"cblas\" sources\n",
      "    building extension \"sklearn.__check_build._check_build\" sources\n",
      "    building extension \"sklearn.cluster._dbscan_inner\" sources\n",
      "    building extension \"sklearn.cluster._hierarchical\" sources\n",
      "    building extension \"sklearn.cluster._k_means_elkan\" sources\n",
      "    building extension \"sklearn.cluster._k_means\" sources\n",
      "    building extension \"sklearn.datasets._svmlight_format\" sources\n",
      "    building extension \"sklearn.decomposition._online_lda\" sources\n",
      "    building extension \"sklearn.decomposition.cdnmf_fast\" sources\n",
      "    building extension \"sklearn.ensemble._gradient_boosting\" sources\n",
      "    building extension \"sklearn.feature_extraction._hashing\" sources\n",
      "    building extension \"sklearn.manifold._utils\" sources\n",
      "    building extension \"sklearn.manifold._barnes_hut_tsne\" sources\n",
      "    building extension \"sklearn.metrics.cluster.expected_mutual_info_fast\" sources\n",
      "    building extension \"sklearn.metrics.pairwise_fast\" sources\n",
      "    building extension \"sklearn.neighbors.ball_tree\" sources\n",
      "    building extension \"sklearn.neighbors.kd_tree\" sources\n",
      "    building extension \"sklearn.neighbors.dist_metrics\" sources\n",
      "    building extension \"sklearn.neighbors.typedefs\" sources\n",
      "    building extension \"sklearn.neighbors.quad_tree\" sources\n",
      "    building extension \"sklearn.tree._tree\" sources\n",
      "    building extension \"sklearn.tree._splitter\" sources\n",
      "    building extension \"sklearn.tree._criterion\" sources\n",
      "    building extension \"sklearn.tree._utils\" sources\n",
      "    building extension \"sklearn.svm.libsvm\" sources\n",
      "    building extension \"sklearn.svm.liblinear\" sources\n",
      "    building extension \"sklearn.svm.libsvm_sparse\" sources\n",
      "    building extension \"sklearn._isotonic\" sources\n",
      "    building extension \"sklearn.linear_model.cd_fast\" sources\n",
      "    building extension \"sklearn.linear_model.sgd_fast\" sources\n",
      "    building extension \"sklearn.linear_model.sag_fast\" sources\n",
      "    building extension \"sklearn.utils.sparsefuncs_fast\" sources\n",
      "    building extension \"sklearn.utils.arrayfuncs\" sources\n",
      "    building extension \"sklearn.utils.murmurhash\" sources\n",
      "    building extension \"sklearn.utils.lgamma\" sources\n",
      "    building extension \"sklearn.utils.graph_shortest_path\" sources\n",
      "    building extension \"sklearn.utils.fast_dict\" sources\n",
      "    building extension \"sklearn.utils.seq_dataset\" sources\n",
      "    building extension \"sklearn.utils.weight_vector\" sources\n",
      "    building extension \"sklearn.utils._random\" sources\n",
      "    building extension \"sklearn.utils._logistic_sigmoid\" sources\n",
      "    building data_files sources\n",
      "    build_src: building npy-pkg config files\n",
      "    running build_py\n",
      "    creating build\n",
      "    creating build\\lib.win-amd64-3.8\n",
      "    creating build\\lib.win-amd64-3.8\\sklearn\n",
      "    copying sklearn\\base.py -> build\\lib.win-amd64-3.8\\sklearn\n",
      "    copying sklearn\\calibration.py -> build\\lib.win-amd64-3.8\\sklearn\n",
      "    copying sklearn\\discriminant_analysis.py -> build\\lib.win-amd64-3.8\\sklearn\n",
      "    copying sklearn\\dummy.py -> build\\lib.win-amd64-3.8\\sklearn\n",
      "    copying sklearn\\exceptions.py -> build\\lib.win-amd64-3.8\\sklearn\n",
      "    copying sklearn\\impute.py -> build\\lib.win-amd64-3.8\\sklearn\n",
      "    copying sklearn\\isotonic.py -> build\\lib.win-amd64-3.8\\sklearn\n",
      "    copying sklearn\\kernel_approximation.py -> build\\lib.win-amd64-3.8\\sklearn\n",
      "    copying sklearn\\kernel_ridge.py -> build\\lib.win-amd64-3.8\\sklearn\n",
      "    copying sklearn\\multiclass.py -> build\\lib.win-amd64-3.8\\sklearn\n",
      "    copying sklearn\\multioutput.py -> build\\lib.win-amd64-3.8\\sklearn\n",
      "    copying sklearn\\naive_bayes.py -> build\\lib.win-amd64-3.8\\sklearn\n",
      "    copying sklearn\\pipeline.py -> build\\lib.win-amd64-3.8\\sklearn\n",
      "    copying sklearn\\random_projection.py -> build\\lib.win-amd64-3.8\\sklearn\n",
      "    copying sklearn\\setup.py -> build\\lib.win-amd64-3.8\\sklearn\n",
      "    copying sklearn\\_config.py -> build\\lib.win-amd64-3.8\\sklearn\n",
      "    copying sklearn\\__init__.py -> build\\lib.win-amd64-3.8\\sklearn\n",
      "    creating build\\lib.win-amd64-3.8\\sklearn\\__check_build\n",
      "    copying sklearn\\__check_build\\setup.py -> build\\lib.win-amd64-3.8\\sklearn\\__check_build\n",
      "    copying sklearn\\__check_build\\__init__.py -> build\\lib.win-amd64-3.8\\sklearn\\__check_build\n",
      "    creating build\\lib.win-amd64-3.8\\sklearn\\_build_utils\n",
      "    copying sklearn\\_build_utils\\__init__.py -> build\\lib.win-amd64-3.8\\sklearn\\_build_utils\n",
      "    creating build\\lib.win-amd64-3.8\\sklearn\\compose\n",
      "    copying sklearn\\compose\\_column_transformer.py -> build\\lib.win-amd64-3.8\\sklearn\\compose\n",
      "    copying sklearn\\compose\\_target.py -> build\\lib.win-amd64-3.8\\sklearn\\compose\n",
      "    copying sklearn\\compose\\__init__.py -> build\\lib.win-amd64-3.8\\sklearn\\compose\n",
      "    creating build\\lib.win-amd64-3.8\\sklearn\\compose\\tests\n",
      "    copying sklearn\\compose\\tests\\test_column_transformer.py -> build\\lib.win-amd64-3.8\\sklearn\\compose/tests\n",
      "    copying sklearn\\compose\\tests\\test_target.py -> build\\lib.win-amd64-3.8\\sklearn\\compose/tests\n",
      "    copying sklearn\\compose\\tests\\__init__.py -> build\\lib.win-amd64-3.8\\sklearn\\compose/tests\n"
     ]
    },
    {
     "name": "stderr",
     "output_type": "stream",
     "text": [
      "    creating build\\lib.win-amd64-3.8\\sklearn\\covariance\n",
      "    copying sklearn\\covariance\\elliptic_envelope.py -> build\\lib.win-amd64-3.8\\sklearn\\covariance\n",
      "    copying sklearn\\covariance\\empirical_covariance_.py -> build\\lib.win-amd64-3.8\\sklearn\\covariance\n",
      "    copying sklearn\\covariance\\graph_lasso_.py -> build\\lib.win-amd64-3.8\\sklearn\\covariance\n",
      "    copying sklearn\\covariance\\robust_covariance.py -> build\\lib.win-amd64-3.8\\sklearn\\covariance\n",
      "    copying sklearn\\covariance\\shrunk_covariance_.py -> build\\lib.win-amd64-3.8\\sklearn\\covariance\n",
      "    copying sklearn\\covariance\\__init__.py -> build\\lib.win-amd64-3.8\\sklearn\\covariance\n",
      "    creating build\\lib.win-amd64-3.8\\sklearn\\covariance\\tests\n",
      "    copying sklearn\\covariance\\tests\\test_covariance.py -> build\\lib.win-amd64-3.8\\sklearn\\covariance/tests\n",
      "    copying sklearn\\covariance\\tests\\test_elliptic_envelope.py -> build\\lib.win-amd64-3.8\\sklearn\\covariance/tests\n",
      "    copying sklearn\\covariance\\tests\\test_graphical_lasso.py -> build\\lib.win-amd64-3.8\\sklearn\\covariance/tests\n",
      "    copying sklearn\\covariance\\tests\\test_graph_lasso.py -> build\\lib.win-amd64-3.8\\sklearn\\covariance/tests\n",
      "    copying sklearn\\covariance\\tests\\test_robust_covariance.py -> build\\lib.win-amd64-3.8\\sklearn\\covariance/tests\n",
      "    copying sklearn\\covariance\\tests\\__init__.py -> build\\lib.win-amd64-3.8\\sklearn\\covariance/tests\n",
      "    creating build\\lib.win-amd64-3.8\\sklearn\\cross_decomposition\n",
      "    copying sklearn\\cross_decomposition\\cca_.py -> build\\lib.win-amd64-3.8\\sklearn\\cross_decomposition\n",
      "    copying sklearn\\cross_decomposition\\pls_.py -> build\\lib.win-amd64-3.8\\sklearn\\cross_decomposition\n",
      "    copying sklearn\\cross_decomposition\\__init__.py -> build\\lib.win-amd64-3.8\\sklearn\\cross_decomposition\n",
      "    creating build\\lib.win-amd64-3.8\\sklearn\\cross_decomposition\\tests\n",
      "    copying sklearn\\cross_decomposition\\tests\\test_pls.py -> build\\lib.win-amd64-3.8\\sklearn\\cross_decomposition/tests\n",
      "    copying sklearn\\cross_decomposition\\tests\\__init__.py -> build\\lib.win-amd64-3.8\\sklearn\\cross_decomposition/tests\n",
      "    creating build\\lib.win-amd64-3.8\\sklearn\\feature_selection\n",
      "    copying sklearn\\feature_selection\\base.py -> build\\lib.win-amd64-3.8\\sklearn\\feature_selection\n",
      "    copying sklearn\\feature_selection\\from_model.py -> build\\lib.win-amd64-3.8\\sklearn\\feature_selection\n",
      "    copying sklearn\\feature_selection\\mutual_info_.py -> build\\lib.win-amd64-3.8\\sklearn\\feature_selection\n",
      "    copying sklearn\\feature_selection\\rfe.py -> build\\lib.win-amd64-3.8\\sklearn\\feature_selection\n",
      "    copying sklearn\\feature_selection\\univariate_selection.py -> build\\lib.win-amd64-3.8\\sklearn\\feature_selection\n",
      "    copying sklearn\\feature_selection\\variance_threshold.py -> build\\lib.win-amd64-3.8\\sklearn\\feature_selection\n",
      "    copying sklearn\\feature_selection\\__init__.py -> build\\lib.win-amd64-3.8\\sklearn\\feature_selection\n",
      "    creating build\\lib.win-amd64-3.8\\sklearn\\feature_selection\\tests\n",
      "    copying sklearn\\feature_selection\\tests\\test_base.py -> build\\lib.win-amd64-3.8\\sklearn\\feature_selection/tests\n",
      "    copying sklearn\\feature_selection\\tests\\test_chi2.py -> build\\lib.win-amd64-3.8\\sklearn\\feature_selection/tests\n",
      "    copying sklearn\\feature_selection\\tests\\test_feature_select.py -> build\\lib.win-amd64-3.8\\sklearn\\feature_selection/tests\n",
      "    copying sklearn\\feature_selection\\tests\\test_from_model.py -> build\\lib.win-amd64-3.8\\sklearn\\feature_selection/tests\n",
      "    copying sklearn\\feature_selection\\tests\\test_mutual_info.py -> build\\lib.win-amd64-3.8\\sklearn\\feature_selection/tests\n",
      "    copying sklearn\\feature_selection\\tests\\test_rfe.py -> build\\lib.win-amd64-3.8\\sklearn\\feature_selection/tests\n",
      "    copying sklearn\\feature_selection\\tests\\test_variance_threshold.py -> build\\lib.win-amd64-3.8\\sklearn\\feature_selection/tests\n",
      "    copying sklearn\\feature_selection\\tests\\__init__.py -> build\\lib.win-amd64-3.8\\sklearn\\feature_selection/tests\n",
      "    creating build\\lib.win-amd64-3.8\\sklearn\\gaussian_process\n",
      "    copying sklearn\\gaussian_process\\correlation_models.py -> build\\lib.win-amd64-3.8\\sklearn\\gaussian_process\n",
      "    copying sklearn\\gaussian_process\\gpc.py -> build\\lib.win-amd64-3.8\\sklearn\\gaussian_process\n",
      "    copying sklearn\\gaussian_process\\gpr.py -> build\\lib.win-amd64-3.8\\sklearn\\gaussian_process\n",
      "    copying sklearn\\gaussian_process\\kernels.py -> build\\lib.win-amd64-3.8\\sklearn\\gaussian_process\n",
      "    copying sklearn\\gaussian_process\\regression_models.py -> build\\lib.win-amd64-3.8\\sklearn\\gaussian_process\n",
      "    copying sklearn\\gaussian_process\\__init__.py -> build\\lib.win-amd64-3.8\\sklearn\\gaussian_process\n",
      "    creating build\\lib.win-amd64-3.8\\sklearn\\gaussian_process\\tests\n",
      "    copying sklearn\\gaussian_process\\tests\\test_gpc.py -> build\\lib.win-amd64-3.8\\sklearn\\gaussian_process/tests\n",
      "    copying sklearn\\gaussian_process\\tests\\test_gpr.py -> build\\lib.win-amd64-3.8\\sklearn\\gaussian_process/tests\n",
      "    copying sklearn\\gaussian_process\\tests\\test_kernels.py -> build\\lib.win-amd64-3.8\\sklearn\\gaussian_process/tests\n",
      "    copying sklearn\\gaussian_process\\tests\\__init__.py -> build\\lib.win-amd64-3.8\\sklearn\\gaussian_process/tests\n",
      "    creating build\\lib.win-amd64-3.8\\sklearn\\mixture\n",
      "    copying sklearn\\mixture\\base.py -> build\\lib.win-amd64-3.8\\sklearn\\mixture\n",
      "    copying sklearn\\mixture\\bayesian_mixture.py -> build\\lib.win-amd64-3.8\\sklearn\\mixture\n",
      "    copying sklearn\\mixture\\gaussian_mixture.py -> build\\lib.win-amd64-3.8\\sklearn\\mixture\n",
      "    copying sklearn\\mixture\\__init__.py -> build\\lib.win-amd64-3.8\\sklearn\\mixture\n",
      "    creating build\\lib.win-amd64-3.8\\sklearn\\mixture\\tests\n",
      "    copying sklearn\\mixture\\tests\\test_bayesian_mixture.py -> build\\lib.win-amd64-3.8\\sklearn\\mixture/tests\n",
      "    copying sklearn\\mixture\\tests\\test_gaussian_mixture.py -> build\\lib.win-amd64-3.8\\sklearn\\mixture/tests\n",
      "    copying sklearn\\mixture\\tests\\test_mixture.py -> build\\lib.win-amd64-3.8\\sklearn\\mixture/tests\n",
      "    copying sklearn\\mixture\\tests\\__init__.py -> build\\lib.win-amd64-3.8\\sklearn\\mixture/tests\n",
      "    creating build\\lib.win-amd64-3.8\\sklearn\\model_selection\n",
      "    copying sklearn\\model_selection\\_search.py -> build\\lib.win-amd64-3.8\\sklearn\\model_selection\n",
      "    copying sklearn\\model_selection\\_split.py -> build\\lib.win-amd64-3.8\\sklearn\\model_selection\n",
      "    copying sklearn\\model_selection\\_validation.py -> build\\lib.win-amd64-3.8\\sklearn\\model_selection\n",
      "    copying sklearn\\model_selection\\__init__.py -> build\\lib.win-amd64-3.8\\sklearn\\model_selection\n",
      "    creating build\\lib.win-amd64-3.8\\sklearn\\model_selection\\tests\n",
      "    copying sklearn\\model_selection\\tests\\common.py -> build\\lib.win-amd64-3.8\\sklearn\\model_selection/tests\n",
      "    copying sklearn\\model_selection\\tests\\test_search.py -> build\\lib.win-amd64-3.8\\sklearn\\model_selection/tests\n",
      "    copying sklearn\\model_selection\\tests\\test_split.py -> build\\lib.win-amd64-3.8\\sklearn\\model_selection/tests\n",
      "    copying sklearn\\model_selection\\tests\\test_validation.py -> build\\lib.win-amd64-3.8\\sklearn\\model_selection/tests\n",
      "    copying sklearn\\model_selection\\tests\\__init__.py -> build\\lib.win-amd64-3.8\\sklearn\\model_selection/tests\n",
      "    creating build\\lib.win-amd64-3.8\\sklearn\\neural_network\n",
      "    copying sklearn\\neural_network\\multilayer_perceptron.py -> build\\lib.win-amd64-3.8\\sklearn\\neural_network\n",
      "    copying sklearn\\neural_network\\rbm.py -> build\\lib.win-amd64-3.8\\sklearn\\neural_network\n",
      "    copying sklearn\\neural_network\\_base.py -> build\\lib.win-amd64-3.8\\sklearn\\neural_network\n",
      "    copying sklearn\\neural_network\\_stochastic_optimizers.py -> build\\lib.win-amd64-3.8\\sklearn\\neural_network\n",
      "    copying sklearn\\neural_network\\__init__.py -> build\\lib.win-amd64-3.8\\sklearn\\neural_network\n",
      "    creating build\\lib.win-amd64-3.8\\sklearn\\neural_network\\tests\n",
      "    copying sklearn\\neural_network\\tests\\test_mlp.py -> build\\lib.win-amd64-3.8\\sklearn\\neural_network/tests\n",
      "    copying sklearn\\neural_network\\tests\\test_rbm.py -> build\\lib.win-amd64-3.8\\sklearn\\neural_network/tests\n",
      "    copying sklearn\\neural_network\\tests\\test_stochastic_optimizers.py -> build\\lib.win-amd64-3.8\\sklearn\\neural_network/tests\n",
      "    copying sklearn\\neural_network\\tests\\__init__.py -> build\\lib.win-amd64-3.8\\sklearn\\neural_network/tests\n",
      "    creating build\\lib.win-amd64-3.8\\sklearn\\preprocessing\n",
      "    copying sklearn\\preprocessing\\base.py -> build\\lib.win-amd64-3.8\\sklearn\\preprocessing\n",
      "    copying sklearn\\preprocessing\\data.py -> build\\lib.win-amd64-3.8\\sklearn\\preprocessing\n",
      "    copying sklearn\\preprocessing\\imputation.py -> build\\lib.win-amd64-3.8\\sklearn\\preprocessing\n",
      "    copying sklearn\\preprocessing\\label.py -> build\\lib.win-amd64-3.8\\sklearn\\preprocessing\n",
      "    copying sklearn\\preprocessing\\_discretization.py -> build\\lib.win-amd64-3.8\\sklearn\\preprocessing\n",
      "    copying sklearn\\preprocessing\\_encoders.py -> build\\lib.win-amd64-3.8\\sklearn\\preprocessing\n",
      "    copying sklearn\\preprocessing\\_function_transformer.py -> build\\lib.win-amd64-3.8\\sklearn\\preprocessing\n",
      "    copying sklearn\\preprocessing\\__init__.py -> build\\lib.win-amd64-3.8\\sklearn\\preprocessing\n",
      "    creating build\\lib.win-amd64-3.8\\sklearn\\preprocessing\\tests\n",
      "    copying sklearn\\preprocessing\\tests\\test_base.py -> build\\lib.win-amd64-3.8\\sklearn\\preprocessing/tests\n",
      "    copying sklearn\\preprocessing\\tests\\test_common.py -> build\\lib.win-amd64-3.8\\sklearn\\preprocessing/tests\n",
      "    copying sklearn\\preprocessing\\tests\\test_data.py -> build\\lib.win-amd64-3.8\\sklearn\\preprocessing/tests\n",
      "    copying sklearn\\preprocessing\\tests\\test_discretization.py -> build\\lib.win-amd64-3.8\\sklearn\\preprocessing/tests\n",
      "    copying sklearn\\preprocessing\\tests\\test_encoders.py -> build\\lib.win-amd64-3.8\\sklearn\\preprocessing/tests\n",
      "    copying sklearn\\preprocessing\\tests\\test_function_transformer.py -> build\\lib.win-amd64-3.8\\sklearn\\preprocessing/tests\n",
      "    copying sklearn\\preprocessing\\tests\\test_imputation.py -> build\\lib.win-amd64-3.8\\sklearn\\preprocessing/tests\n",
      "    copying sklearn\\preprocessing\\tests\\test_label.py -> build\\lib.win-amd64-3.8\\sklearn\\preprocessing/tests\n",
      "    copying sklearn\\preprocessing\\tests\\__init__.py -> build\\lib.win-amd64-3.8\\sklearn\\preprocessing/tests\n",
      "    creating build\\lib.win-amd64-3.8\\sklearn\\semi_supervised\n",
      "    copying sklearn\\semi_supervised\\label_propagation.py -> build\\lib.win-amd64-3.8\\sklearn\\semi_supervised\n",
      "    copying sklearn\\semi_supervised\\__init__.py -> build\\lib.win-amd64-3.8\\sklearn\\semi_supervised\n",
      "    creating build\\lib.win-amd64-3.8\\sklearn\\semi_supervised\\tests\n",
      "    copying sklearn\\semi_supervised\\tests\\test_label_propagation.py -> build\\lib.win-amd64-3.8\\sklearn\\semi_supervised/tests\n",
      "    copying sklearn\\semi_supervised\\tests\\__init__.py -> build\\lib.win-amd64-3.8\\sklearn\\semi_supervised/tests\n",
      "    creating build\\lib.win-amd64-3.8\\sklearn\\cluster\n",
      "    copying sklearn\\cluster\\affinity_propagation_.py -> build\\lib.win-amd64-3.8\\sklearn\\cluster\n",
      "    copying sklearn\\cluster\\bicluster.py -> build\\lib.win-amd64-3.8\\sklearn\\cluster\n",
      "    copying sklearn\\cluster\\birch.py -> build\\lib.win-amd64-3.8\\sklearn\\cluster\n",
      "    copying sklearn\\cluster\\dbscan_.py -> build\\lib.win-amd64-3.8\\sklearn\\cluster\n",
      "    copying sklearn\\cluster\\hierarchical.py -> build\\lib.win-amd64-3.8\\sklearn\\cluster\n",
      "    copying sklearn\\cluster\\k_means_.py -> build\\lib.win-amd64-3.8\\sklearn\\cluster\n",
      "    copying sklearn\\cluster\\mean_shift_.py -> build\\lib.win-amd64-3.8\\sklearn\\cluster\n",
      "    copying sklearn\\cluster\\setup.py -> build\\lib.win-amd64-3.8\\sklearn\\cluster\n",
      "    copying sklearn\\cluster\\spectral.py -> build\\lib.win-amd64-3.8\\sklearn\\cluster\n",
      "    copying sklearn\\cluster\\_feature_agglomeration.py -> build\\lib.win-amd64-3.8\\sklearn\\cluster\n",
      "    copying sklearn\\cluster\\__init__.py -> build\\lib.win-amd64-3.8\\sklearn\\cluster\n",
      "    creating build\\lib.win-amd64-3.8\\sklearn\\cluster\\tests\n",
      "    copying sklearn\\cluster\\tests\\common.py -> build\\lib.win-amd64-3.8\\sklearn\\cluster\\tests\n",
      "    copying sklearn\\cluster\\tests\\test_affinity_propagation.py -> build\\lib.win-amd64-3.8\\sklearn\\cluster\\tests\n",
      "    copying sklearn\\cluster\\tests\\test_bicluster.py -> build\\lib.win-amd64-3.8\\sklearn\\cluster\\tests\n",
      "    copying sklearn\\cluster\\tests\\test_birch.py -> build\\lib.win-amd64-3.8\\sklearn\\cluster\\tests\n",
      "    copying sklearn\\cluster\\tests\\test_dbscan.py -> build\\lib.win-amd64-3.8\\sklearn\\cluster\\tests\n",
      "    copying sklearn\\cluster\\tests\\test_feature_agglomeration.py -> build\\lib.win-amd64-3.8\\sklearn\\cluster\\tests\n",
      "    copying sklearn\\cluster\\tests\\test_hierarchical.py -> build\\lib.win-amd64-3.8\\sklearn\\cluster\\tests\n",
      "    copying sklearn\\cluster\\tests\\test_k_means.py -> build\\lib.win-amd64-3.8\\sklearn\\cluster\\tests\n",
      "    copying sklearn\\cluster\\tests\\test_mean_shift.py -> build\\lib.win-amd64-3.8\\sklearn\\cluster\\tests\n",
      "    copying sklearn\\cluster\\tests\\test_spectral.py -> build\\lib.win-amd64-3.8\\sklearn\\cluster\\tests\n",
      "    copying sklearn\\cluster\\tests\\__init__.py -> build\\lib.win-amd64-3.8\\sklearn\\cluster\\tests\n",
      "    creating build\\lib.win-amd64-3.8\\sklearn\\datasets\n",
      "    copying sklearn\\datasets\\base.py -> build\\lib.win-amd64-3.8\\sklearn\\datasets\n",
      "    copying sklearn\\datasets\\california_housing.py -> build\\lib.win-amd64-3.8\\sklearn\\datasets\n",
      "    copying sklearn\\datasets\\covtype.py -> build\\lib.win-amd64-3.8\\sklearn\\datasets\n",
      "    copying sklearn\\datasets\\kddcup99.py -> build\\lib.win-amd64-3.8\\sklearn\\datasets\n"
     ]
    },
    {
     "name": "stderr",
     "output_type": "stream",
     "text": [
      "    copying sklearn\\datasets\\lfw.py -> build\\lib.win-amd64-3.8\\sklearn\\datasets\n",
      "    copying sklearn\\datasets\\mlcomp.py -> build\\lib.win-amd64-3.8\\sklearn\\datasets\n",
      "    copying sklearn\\datasets\\mldata.py -> build\\lib.win-amd64-3.8\\sklearn\\datasets\n",
      "    copying sklearn\\datasets\\olivetti_faces.py -> build\\lib.win-amd64-3.8\\sklearn\\datasets\n",
      "    copying sklearn\\datasets\\openml.py -> build\\lib.win-amd64-3.8\\sklearn\\datasets\n",
      "    copying sklearn\\datasets\\rcv1.py -> build\\lib.win-amd64-3.8\\sklearn\\datasets\n",
      "    copying sklearn\\datasets\\samples_generator.py -> build\\lib.win-amd64-3.8\\sklearn\\datasets\n",
      "    copying sklearn\\datasets\\setup.py -> build\\lib.win-amd64-3.8\\sklearn\\datasets\n",
      "    copying sklearn\\datasets\\species_distributions.py -> build\\lib.win-amd64-3.8\\sklearn\\datasets\n",
      "    copying sklearn\\datasets\\svmlight_format.py -> build\\lib.win-amd64-3.8\\sklearn\\datasets\n",
      "    copying sklearn\\datasets\\twenty_newsgroups.py -> build\\lib.win-amd64-3.8\\sklearn\\datasets\n",
      "    copying sklearn\\datasets\\__init__.py -> build\\lib.win-amd64-3.8\\sklearn\\datasets\n",
      "    creating build\\lib.win-amd64-3.8\\sklearn\\datasets\\tests\n",
      "    copying sklearn\\datasets\\tests\\test_20news.py -> build\\lib.win-amd64-3.8\\sklearn\\datasets\\tests\n",
      "    copying sklearn\\datasets\\tests\\test_base.py -> build\\lib.win-amd64-3.8\\sklearn\\datasets\\tests\n",
      "    copying sklearn\\datasets\\tests\\test_california_housing.py -> build\\lib.win-amd64-3.8\\sklearn\\datasets\\tests\n",
      "    copying sklearn\\datasets\\tests\\test_common.py -> build\\lib.win-amd64-3.8\\sklearn\\datasets\\tests\n",
      "    copying sklearn\\datasets\\tests\\test_covtype.py -> build\\lib.win-amd64-3.8\\sklearn\\datasets\\tests\n",
      "    copying sklearn\\datasets\\tests\\test_kddcup99.py -> build\\lib.win-amd64-3.8\\sklearn\\datasets\\tests\n",
      "    copying sklearn\\datasets\\tests\\test_lfw.py -> build\\lib.win-amd64-3.8\\sklearn\\datasets\\tests\n",
      "    copying sklearn\\datasets\\tests\\test_mldata.py -> build\\lib.win-amd64-3.8\\sklearn\\datasets\\tests\n",
      "    copying sklearn\\datasets\\tests\\test_openml.py -> build\\lib.win-amd64-3.8\\sklearn\\datasets\\tests\n",
      "    copying sklearn\\datasets\\tests\\test_rcv1.py -> build\\lib.win-amd64-3.8\\sklearn\\datasets\\tests\n",
      "    copying sklearn\\datasets\\tests\\test_samples_generator.py -> build\\lib.win-amd64-3.8\\sklearn\\datasets\\tests\n",
      "    copying sklearn\\datasets\\tests\\test_svmlight_format.py -> build\\lib.win-amd64-3.8\\sklearn\\datasets\\tests\n",
      "    copying sklearn\\datasets\\tests\\__init__.py -> build\\lib.win-amd64-3.8\\sklearn\\datasets\\tests\n",
      "    creating build\\lib.win-amd64-3.8\\sklearn\\decomposition\n",
      "    copying sklearn\\decomposition\\base.py -> build\\lib.win-amd64-3.8\\sklearn\\decomposition\n",
      "    copying sklearn\\decomposition\\dict_learning.py -> build\\lib.win-amd64-3.8\\sklearn\\decomposition\n",
      "    copying sklearn\\decomposition\\factor_analysis.py -> build\\lib.win-amd64-3.8\\sklearn\\decomposition\n",
      "    copying sklearn\\decomposition\\fastica_.py -> build\\lib.win-amd64-3.8\\sklearn\\decomposition\n",
      "    copying sklearn\\decomposition\\incremental_pca.py -> build\\lib.win-amd64-3.8\\sklearn\\decomposition\n",
      "    copying sklearn\\decomposition\\kernel_pca.py -> build\\lib.win-amd64-3.8\\sklearn\\decomposition\n",
      "    copying sklearn\\decomposition\\nmf.py -> build\\lib.win-amd64-3.8\\sklearn\\decomposition\n",
      "    copying sklearn\\decomposition\\online_lda.py -> build\\lib.win-amd64-3.8\\sklearn\\decomposition\n",
      "    copying sklearn\\decomposition\\pca.py -> build\\lib.win-amd64-3.8\\sklearn\\decomposition\n",
      "    copying sklearn\\decomposition\\setup.py -> build\\lib.win-amd64-3.8\\sklearn\\decomposition\n",
      "    copying sklearn\\decomposition\\sparse_pca.py -> build\\lib.win-amd64-3.8\\sklearn\\decomposition\n",
      "    copying sklearn\\decomposition\\truncated_svd.py -> build\\lib.win-amd64-3.8\\sklearn\\decomposition\n",
      "    copying sklearn\\decomposition\\__init__.py -> build\\lib.win-amd64-3.8\\sklearn\\decomposition\n",
      "    creating build\\lib.win-amd64-3.8\\sklearn\\decomposition\\tests\n",
      "    copying sklearn\\decomposition\\tests\\test_dict_learning.py -> build\\lib.win-amd64-3.8\\sklearn\\decomposition\\tests\n",
      "    copying sklearn\\decomposition\\tests\\test_factor_analysis.py -> build\\lib.win-amd64-3.8\\sklearn\\decomposition\\tests\n",
      "    copying sklearn\\decomposition\\tests\\test_fastica.py -> build\\lib.win-amd64-3.8\\sklearn\\decomposition\\tests\n",
      "    copying sklearn\\decomposition\\tests\\test_incremental_pca.py -> build\\lib.win-amd64-3.8\\sklearn\\decomposition\\tests\n",
      "    copying sklearn\\decomposition\\tests\\test_kernel_pca.py -> build\\lib.win-amd64-3.8\\sklearn\\decomposition\\tests\n",
      "    copying sklearn\\decomposition\\tests\\test_nmf.py -> build\\lib.win-amd64-3.8\\sklearn\\decomposition\\tests\n",
      "    copying sklearn\\decomposition\\tests\\test_online_lda.py -> build\\lib.win-amd64-3.8\\sklearn\\decomposition\\tests\n",
      "    copying sklearn\\decomposition\\tests\\test_pca.py -> build\\lib.win-amd64-3.8\\sklearn\\decomposition\\tests\n",
      "    copying sklearn\\decomposition\\tests\\test_sparse_pca.py -> build\\lib.win-amd64-3.8\\sklearn\\decomposition\\tests\n",
      "    copying sklearn\\decomposition\\tests\\test_truncated_svd.py -> build\\lib.win-amd64-3.8\\sklearn\\decomposition\\tests\n",
      "    copying sklearn\\decomposition\\tests\\__init__.py -> build\\lib.win-amd64-3.8\\sklearn\\decomposition\\tests\n",
      "    creating build\\lib.win-amd64-3.8\\sklearn\\ensemble\n",
      "    copying sklearn\\ensemble\\bagging.py -> build\\lib.win-amd64-3.8\\sklearn\\ensemble\n",
      "    copying sklearn\\ensemble\\base.py -> build\\lib.win-amd64-3.8\\sklearn\\ensemble\n",
      "    copying sklearn\\ensemble\\forest.py -> build\\lib.win-amd64-3.8\\sklearn\\ensemble\n",
      "    copying sklearn\\ensemble\\gradient_boosting.py -> build\\lib.win-amd64-3.8\\sklearn\\ensemble\n",
      "    copying sklearn\\ensemble\\iforest.py -> build\\lib.win-amd64-3.8\\sklearn\\ensemble\n",
      "    copying sklearn\\ensemble\\partial_dependence.py -> build\\lib.win-amd64-3.8\\sklearn\\ensemble\n",
      "    copying sklearn\\ensemble\\setup.py -> build\\lib.win-amd64-3.8\\sklearn\\ensemble\n",
      "    copying sklearn\\ensemble\\voting_classifier.py -> build\\lib.win-amd64-3.8\\sklearn\\ensemble\n",
      "    copying sklearn\\ensemble\\weight_boosting.py -> build\\lib.win-amd64-3.8\\sklearn\\ensemble\n",
      "    copying sklearn\\ensemble\\__init__.py -> build\\lib.win-amd64-3.8\\sklearn\\ensemble\n",
      "    creating build\\lib.win-amd64-3.8\\sklearn\\ensemble\\tests\n",
      "    copying sklearn\\ensemble\\tests\\test_bagging.py -> build\\lib.win-amd64-3.8\\sklearn\\ensemble\\tests\n",
      "    copying sklearn\\ensemble\\tests\\test_base.py -> build\\lib.win-amd64-3.8\\sklearn\\ensemble\\tests\n",
      "    copying sklearn\\ensemble\\tests\\test_forest.py -> build\\lib.win-amd64-3.8\\sklearn\\ensemble\\tests\n",
      "    copying sklearn\\ensemble\\tests\\test_gradient_boosting.py -> build\\lib.win-amd64-3.8\\sklearn\\ensemble\\tests\n",
      "    copying sklearn\\ensemble\\tests\\test_gradient_boosting_loss_functions.py -> build\\lib.win-amd64-3.8\\sklearn\\ensemble\\tests\n",
      "    copying sklearn\\ensemble\\tests\\test_iforest.py -> build\\lib.win-amd64-3.8\\sklearn\\ensemble\\tests\n",
      "    copying sklearn\\ensemble\\tests\\test_partial_dependence.py -> build\\lib.win-amd64-3.8\\sklearn\\ensemble\\tests\n",
      "    copying sklearn\\ensemble\\tests\\test_voting_classifier.py -> build\\lib.win-amd64-3.8\\sklearn\\ensemble\\tests\n",
      "    copying sklearn\\ensemble\\tests\\test_weight_boosting.py -> build\\lib.win-amd64-3.8\\sklearn\\ensemble\\tests\n",
      "    copying sklearn\\ensemble\\tests\\__init__.py -> build\\lib.win-amd64-3.8\\sklearn\\ensemble\\tests\n",
      "    creating build\\lib.win-amd64-3.8\\sklearn\\externals\n",
      "    copying sklearn\\externals\\conftest.py -> build\\lib.win-amd64-3.8\\sklearn\\externals\n",
      "    copying sklearn\\externals\\funcsigs.py -> build\\lib.win-amd64-3.8\\sklearn\\externals\n",
      "    copying sklearn\\externals\\setup.py -> build\\lib.win-amd64-3.8\\sklearn\\externals\n",
      "    copying sklearn\\externals\\six.py -> build\\lib.win-amd64-3.8\\sklearn\\externals\n",
      "    copying sklearn\\externals\\_arff.py -> build\\lib.win-amd64-3.8\\sklearn\\externals\n",
      "    copying sklearn\\externals\\_pilutil.py -> build\\lib.win-amd64-3.8\\sklearn\\externals\n",
      "    copying sklearn\\externals\\__init__.py -> build\\lib.win-amd64-3.8\\sklearn\\externals\n",
      "    creating build\\lib.win-amd64-3.8\\sklearn\\externals\\joblib\n",
      "    copying sklearn\\externals\\joblib\\backports.py -> build\\lib.win-amd64-3.8\\sklearn\\externals\\joblib\n",
      "    copying sklearn\\externals\\joblib\\compressor.py -> build\\lib.win-amd64-3.8\\sklearn\\externals\\joblib\n",
      "    copying sklearn\\externals\\joblib\\disk.py -> build\\lib.win-amd64-3.8\\sklearn\\externals\\joblib\n",
      "    copying sklearn\\externals\\joblib\\executor.py -> build\\lib.win-amd64-3.8\\sklearn\\externals\\joblib\n",
      "    copying sklearn\\externals\\joblib\\format_stack.py -> build\\lib.win-amd64-3.8\\sklearn\\externals\\joblib\n",
      "    copying sklearn\\externals\\joblib\\func_inspect.py -> build\\lib.win-amd64-3.8\\sklearn\\externals\\joblib\n",
      "    copying sklearn\\externals\\joblib\\hashing.py -> build\\lib.win-amd64-3.8\\sklearn\\externals\\joblib\n",
      "    copying sklearn\\externals\\joblib\\logger.py -> build\\lib.win-amd64-3.8\\sklearn\\externals\\joblib\n",
      "    copying sklearn\\externals\\joblib\\memory.py -> build\\lib.win-amd64-3.8\\sklearn\\externals\\joblib\n",
      "    copying sklearn\\externals\\joblib\\my_exceptions.py -> build\\lib.win-amd64-3.8\\sklearn\\externals\\joblib\n",
      "    copying sklearn\\externals\\joblib\\numpy_pickle.py -> build\\lib.win-amd64-3.8\\sklearn\\externals\\joblib\n",
      "    copying sklearn\\externals\\joblib\\numpy_pickle_compat.py -> build\\lib.win-amd64-3.8\\sklearn\\externals\\joblib\n",
      "    copying sklearn\\externals\\joblib\\numpy_pickle_utils.py -> build\\lib.win-amd64-3.8\\sklearn\\externals\\joblib\n",
      "    copying sklearn\\externals\\joblib\\parallel.py -> build\\lib.win-amd64-3.8\\sklearn\\externals\\joblib\n",
      "    copying sklearn\\externals\\joblib\\pool.py -> build\\lib.win-amd64-3.8\\sklearn\\externals\\joblib\n",
      "    copying sklearn\\externals\\joblib\\testing.py -> build\\lib.win-amd64-3.8\\sklearn\\externals\\joblib\n",
      "    copying sklearn\\externals\\joblib\\_compat.py -> build\\lib.win-amd64-3.8\\sklearn\\externals\\joblib\n",
      "    copying sklearn\\externals\\joblib\\_dask.py -> build\\lib.win-amd64-3.8\\sklearn\\externals\\joblib\n",
      "    copying sklearn\\externals\\joblib\\_memmapping_reducer.py -> build\\lib.win-amd64-3.8\\sklearn\\externals\\joblib\n",
      "    copying sklearn\\externals\\joblib\\_memory_helpers.py -> build\\lib.win-amd64-3.8\\sklearn\\externals\\joblib\n",
      "    copying sklearn\\externals\\joblib\\_multiprocessing_helpers.py -> build\\lib.win-amd64-3.8\\sklearn\\externals\\joblib\n",
      "    copying sklearn\\externals\\joblib\\_parallel_backends.py -> build\\lib.win-amd64-3.8\\sklearn\\externals\\joblib\n",
      "    copying sklearn\\externals\\joblib\\_store_backends.py -> build\\lib.win-amd64-3.8\\sklearn\\externals\\joblib\n",
      "    copying sklearn\\externals\\joblib\\__init__.py -> build\\lib.win-amd64-3.8\\sklearn\\externals\\joblib\n",
      "    creating build\\lib.win-amd64-3.8\\sklearn\\externals\\joblib\\externals\n",
      "    copying sklearn\\externals\\joblib\\externals\\__init__.py -> build\\lib.win-amd64-3.8\\sklearn\\externals\\joblib/externals\n",
      "    creating build\\lib.win-amd64-3.8\\sklearn\\externals\\joblib\\externals\\loky\n",
      "    copying sklearn\\externals\\joblib\\externals\\loky\\cloudpickle_wrapper.py -> build\\lib.win-amd64-3.8\\sklearn\\externals\\joblib/externals/loky\n",
      "    copying sklearn\\externals\\joblib\\externals\\loky\\process_executor.py -> build\\lib.win-amd64-3.8\\sklearn\\externals\\joblib/externals/loky\n",
      "    copying sklearn\\externals\\joblib\\externals\\loky\\reusable_executor.py -> build\\lib.win-amd64-3.8\\sklearn\\externals\\joblib/externals/loky\n",
      "    copying sklearn\\externals\\joblib\\externals\\loky\\_base.py -> build\\lib.win-amd64-3.8\\sklearn\\externals\\joblib/externals/loky\n",
      "    copying sklearn\\externals\\joblib\\externals\\loky\\__init__.py -> build\\lib.win-amd64-3.8\\sklearn\\externals\\joblib/externals/loky\n",
      "    creating build\\lib.win-amd64-3.8\\sklearn\\externals\\joblib\\externals\\loky\\backend\n",
      "    copying sklearn\\externals\\joblib\\externals\\loky\\backend\\compat.py -> build\\lib.win-amd64-3.8\\sklearn\\externals\\joblib/externals/loky/backend\n",
      "    copying sklearn\\externals\\joblib\\externals\\loky\\backend\\compat_posix.py -> build\\lib.win-amd64-3.8\\sklearn\\externals\\joblib/externals/loky/backend\n",
      "    copying sklearn\\externals\\joblib\\externals\\loky\\backend\\compat_win32.py -> build\\lib.win-amd64-3.8\\sklearn\\externals\\joblib/externals/loky/backend\n",
      "    copying sklearn\\externals\\joblib\\externals\\loky\\backend\\context.py -> build\\lib.win-amd64-3.8\\sklearn\\externals\\joblib/externals/loky/backend\n",
      "    copying sklearn\\externals\\joblib\\externals\\loky\\backend\\fork_exec.py -> build\\lib.win-amd64-3.8\\sklearn\\externals\\joblib/externals/loky/backend\n",
      "    copying sklearn\\externals\\joblib\\externals\\loky\\backend\\managers.py -> build\\lib.win-amd64-3.8\\sklearn\\externals\\joblib/externals/loky/backend\n",
      "    copying sklearn\\externals\\joblib\\externals\\loky\\backend\\popen_loky_posix.py -> build\\lib.win-amd64-3.8\\sklearn\\externals\\joblib/externals/loky/backend\n",
      "    copying sklearn\\externals\\joblib\\externals\\loky\\backend\\popen_loky_win32.py -> build\\lib.win-amd64-3.8\\sklearn\\externals\\joblib/externals/loky/backend\n",
      "    copying sklearn\\externals\\joblib\\externals\\loky\\backend\\process.py -> build\\lib.win-amd64-3.8\\sklearn\\externals\\joblib/externals/loky/backend\n",
      "    copying sklearn\\externals\\joblib\\externals\\loky\\backend\\queues.py -> build\\lib.win-amd64-3.8\\sklearn\\externals\\joblib/externals/loky/backend\n",
      "    copying sklearn\\externals\\joblib\\externals\\loky\\backend\\reduction.py -> build\\lib.win-amd64-3.8\\sklearn\\externals\\joblib/externals/loky/backend\n",
      "    copying sklearn\\externals\\joblib\\externals\\loky\\backend\\semaphore_tracker.py -> build\\lib.win-amd64-3.8\\sklearn\\externals\\joblib/externals/loky/backend\n",
      "    copying sklearn\\externals\\joblib\\externals\\loky\\backend\\semlock.py -> build\\lib.win-amd64-3.8\\sklearn\\externals\\joblib/externals/loky/backend\n",
      "    copying sklearn\\externals\\joblib\\externals\\loky\\backend\\spawn.py -> build\\lib.win-amd64-3.8\\sklearn\\externals\\joblib/externals/loky/backend\n",
      "    copying sklearn\\externals\\joblib\\externals\\loky\\backend\\synchronize.py -> build\\lib.win-amd64-3.8\\sklearn\\externals\\joblib/externals/loky/backend\n",
      "    copying sklearn\\externals\\joblib\\externals\\loky\\backend\\utils.py -> build\\lib.win-amd64-3.8\\sklearn\\externals\\joblib/externals/loky/backend\n",
      "    copying sklearn\\externals\\joblib\\externals\\loky\\backend\\_posix_reduction.py -> build\\lib.win-amd64-3.8\\sklearn\\externals\\joblib/externals/loky/backend\n",
      "    copying sklearn\\externals\\joblib\\externals\\loky\\backend\\_posix_wait.py -> build\\lib.win-amd64-3.8\\sklearn\\externals\\joblib/externals/loky/backend\n",
      "    copying sklearn\\externals\\joblib\\externals\\loky\\backend\\_win_reduction.py -> build\\lib.win-amd64-3.8\\sklearn\\externals\\joblib/externals/loky/backend\n",
      "    copying sklearn\\externals\\joblib\\externals\\loky\\backend\\_win_wait.py -> build\\lib.win-amd64-3.8\\sklearn\\externals\\joblib/externals/loky/backend\n",
      "    copying sklearn\\externals\\joblib\\externals\\loky\\backend\\__init__.py -> build\\lib.win-amd64-3.8\\sklearn\\externals\\joblib/externals/loky/backend\n",
      "    creating build\\lib.win-amd64-3.8\\sklearn\\externals\\joblib\\externals\\cloudpickle\n",
      "    copying sklearn\\externals\\joblib\\externals\\cloudpickle\\cloudpickle.py -> build\\lib.win-amd64-3.8\\sklearn\\externals\\joblib/externals/cloudpickle\n",
      "    copying sklearn\\externals\\joblib\\externals\\cloudpickle\\__init__.py -> build\\lib.win-amd64-3.8\\sklearn\\externals\\joblib/externals/cloudpickle\n",
      "    creating build\\lib.win-amd64-3.8\\sklearn\\feature_extraction\n",
      "    copying sklearn\\feature_extraction\\dict_vectorizer.py -> build\\lib.win-amd64-3.8\\sklearn\\feature_extraction\n",
      "    copying sklearn\\feature_extraction\\hashing.py -> build\\lib.win-amd64-3.8\\sklearn\\feature_extraction\n",
      "    copying sklearn\\feature_extraction\\image.py -> build\\lib.win-amd64-3.8\\sklearn\\feature_extraction\n",
      "    copying sklearn\\feature_extraction\\setup.py -> build\\lib.win-amd64-3.8\\sklearn\\feature_extraction\n",
      "    copying sklearn\\feature_extraction\\stop_words.py -> build\\lib.win-amd64-3.8\\sklearn\\feature_extraction\n",
      "    copying sklearn\\feature_extraction\\text.py -> build\\lib.win-amd64-3.8\\sklearn\\feature_extraction\n",
      "    copying sklearn\\feature_extraction\\__init__.py -> build\\lib.win-amd64-3.8\\sklearn\\feature_extraction\n",
      "    creating build\\lib.win-amd64-3.8\\sklearn\\feature_extraction\\tests\n",
      "    copying sklearn\\feature_extraction\\tests\\test_dict_vectorizer.py -> build\\lib.win-amd64-3.8\\sklearn\\feature_extraction\\tests\n",
      "    copying sklearn\\feature_extraction\\tests\\test_feature_hasher.py -> build\\lib.win-amd64-3.8\\sklearn\\feature_extraction\\tests\n",
      "    copying sklearn\\feature_extraction\\tests\\test_image.py -> build\\lib.win-amd64-3.8\\sklearn\\feature_extraction\\tests\n",
      "    copying sklearn\\feature_extraction\\tests\\test_text.py -> build\\lib.win-amd64-3.8\\sklearn\\feature_extraction\\tests\n",
      "    copying sklearn\\feature_extraction\\tests\\__init__.py -> build\\lib.win-amd64-3.8\\sklearn\\feature_extraction\\tests\n",
      "    creating build\\lib.win-amd64-3.8\\sklearn\\manifold\n",
      "    copying sklearn\\manifold\\isomap.py -> build\\lib.win-amd64-3.8\\sklearn\\manifold\n",
      "    copying sklearn\\manifold\\locally_linear.py -> build\\lib.win-amd64-3.8\\sklearn\\manifold\n",
      "    copying sklearn\\manifold\\mds.py -> build\\lib.win-amd64-3.8\\sklearn\\manifold\n",
      "    copying sklearn\\manifold\\setup.py -> build\\lib.win-amd64-3.8\\sklearn\\manifold\n",
      "    copying sklearn\\manifold\\spectral_embedding_.py -> build\\lib.win-amd64-3.8\\sklearn\\manifold\n",
      "    copying sklearn\\manifold\\t_sne.py -> build\\lib.win-amd64-3.8\\sklearn\\manifold\n",
      "    copying sklearn\\manifold\\__init__.py -> build\\lib.win-amd64-3.8\\sklearn\\manifold\n",
      "    creating build\\lib.win-amd64-3.8\\sklearn\\manifold\\tests\n",
      "    copying sklearn\\manifold\\tests\\test_isomap.py -> build\\lib.win-amd64-3.8\\sklearn\\manifold\\tests\n",
      "    copying sklearn\\manifold\\tests\\test_locally_linear.py -> build\\lib.win-amd64-3.8\\sklearn\\manifold\\tests\n",
      "    copying sklearn\\manifold\\tests\\test_mds.py -> build\\lib.win-amd64-3.8\\sklearn\\manifold\\tests\n",
      "    copying sklearn\\manifold\\tests\\test_spectral_embedding.py -> build\\lib.win-amd64-3.8\\sklearn\\manifold\\tests\n",
      "    copying sklearn\\manifold\\tests\\test_t_sne.py -> build\\lib.win-amd64-3.8\\sklearn\\manifold\\tests\n",
      "    copying sklearn\\manifold\\tests\\__init__.py -> build\\lib.win-amd64-3.8\\sklearn\\manifold\\tests\n",
      "    creating build\\lib.win-amd64-3.8\\sklearn\\metrics\n",
      "    copying sklearn\\metrics\\base.py -> build\\lib.win-amd64-3.8\\sklearn\\metrics\n",
      "    copying sklearn\\metrics\\classification.py -> build\\lib.win-amd64-3.8\\sklearn\\metrics\n",
      "    copying sklearn\\metrics\\pairwise.py -> build\\lib.win-amd64-3.8\\sklearn\\metrics\n",
      "    copying sklearn\\metrics\\ranking.py -> build\\lib.win-amd64-3.8\\sklearn\\metrics\n",
      "    copying sklearn\\metrics\\regression.py -> build\\lib.win-amd64-3.8\\sklearn\\metrics\n",
      "    copying sklearn\\metrics\\scorer.py -> build\\lib.win-amd64-3.8\\sklearn\\metrics\n",
      "    copying sklearn\\metrics\\setup.py -> build\\lib.win-amd64-3.8\\sklearn\\metrics\n",
      "    copying sklearn\\metrics\\__init__.py -> build\\lib.win-amd64-3.8\\sklearn\\metrics\n",
      "    creating build\\lib.win-amd64-3.8\\sklearn\\metrics\\cluster\n",
      "    copying sklearn\\metrics\\cluster\\bicluster.py -> build\\lib.win-amd64-3.8\\sklearn\\metrics\\cluster\n",
      "    copying sklearn\\metrics\\cluster\\setup.py -> build\\lib.win-amd64-3.8\\sklearn\\metrics\\cluster\n",
      "    copying sklearn\\metrics\\cluster\\supervised.py -> build\\lib.win-amd64-3.8\\sklearn\\metrics\\cluster\n",
      "    copying sklearn\\metrics\\cluster\\unsupervised.py -> build\\lib.win-amd64-3.8\\sklearn\\metrics\\cluster\n",
      "    copying sklearn\\metrics\\cluster\\__init__.py -> build\\lib.win-amd64-3.8\\sklearn\\metrics\\cluster\n",
      "    creating build\\lib.win-amd64-3.8\\sklearn\\metrics\\cluster\\tests\n",
      "    copying sklearn\\metrics\\cluster\\tests\\test_bicluster.py -> build\\lib.win-amd64-3.8\\sklearn\\metrics\\cluster\\tests\n",
      "    copying sklearn\\metrics\\cluster\\tests\\test_common.py -> build\\lib.win-amd64-3.8\\sklearn\\metrics\\cluster\\tests\n",
      "    copying sklearn\\metrics\\cluster\\tests\\test_supervised.py -> build\\lib.win-amd64-3.8\\sklearn\\metrics\\cluster\\tests\n",
      "    copying sklearn\\metrics\\cluster\\tests\\test_unsupervised.py -> build\\lib.win-amd64-3.8\\sklearn\\metrics\\cluster\\tests\n",
      "    copying sklearn\\metrics\\cluster\\tests\\__init__.py -> build\\lib.win-amd64-3.8\\sklearn\\metrics\\cluster\\tests\n",
      "    creating build\\lib.win-amd64-3.8\\sklearn\\metrics\\tests\n",
      "    copying sklearn\\metrics\\tests\\test_classification.py -> build\\lib.win-amd64-3.8\\sklearn\\metrics\\tests\n",
      "    copying sklearn\\metrics\\tests\\test_common.py -> build\\lib.win-amd64-3.8\\sklearn\\metrics\\tests\n",
      "    copying sklearn\\metrics\\tests\\test_pairwise.py -> build\\lib.win-amd64-3.8\\sklearn\\metrics\\tests\n",
      "    copying sklearn\\metrics\\tests\\test_ranking.py -> build\\lib.win-amd64-3.8\\sklearn\\metrics\\tests\n",
      "    copying sklearn\\metrics\\tests\\test_regression.py -> build\\lib.win-amd64-3.8\\sklearn\\metrics\\tests\n",
      "    copying sklearn\\metrics\\tests\\test_score_objects.py -> build\\lib.win-amd64-3.8\\sklearn\\metrics\\tests\n",
      "    copying sklearn\\metrics\\tests\\__init__.py -> build\\lib.win-amd64-3.8\\sklearn\\metrics\\tests\n",
      "    creating build\\lib.win-amd64-3.8\\sklearn\\neighbors\n",
      "    copying sklearn\\neighbors\\approximate.py -> build\\lib.win-amd64-3.8\\sklearn\\neighbors\n",
      "    copying sklearn\\neighbors\\base.py -> build\\lib.win-amd64-3.8\\sklearn\\neighbors\n",
      "    copying sklearn\\neighbors\\classification.py -> build\\lib.win-amd64-3.8\\sklearn\\neighbors\n",
      "    copying sklearn\\neighbors\\graph.py -> build\\lib.win-amd64-3.8\\sklearn\\neighbors\n",
      "    copying sklearn\\neighbors\\kde.py -> build\\lib.win-amd64-3.8\\sklearn\\neighbors\n",
      "    copying sklearn\\neighbors\\lof.py -> build\\lib.win-amd64-3.8\\sklearn\\neighbors\n",
      "    copying sklearn\\neighbors\\nearest_centroid.py -> build\\lib.win-amd64-3.8\\sklearn\\neighbors\n",
      "    copying sklearn\\neighbors\\regression.py -> build\\lib.win-amd64-3.8\\sklearn\\neighbors\n",
      "    copying sklearn\\neighbors\\setup.py -> build\\lib.win-amd64-3.8\\sklearn\\neighbors\n",
      "    copying sklearn\\neighbors\\unsupervised.py -> build\\lib.win-amd64-3.8\\sklearn\\neighbors\n",
      "    copying sklearn\\neighbors\\__init__.py -> build\\lib.win-amd64-3.8\\sklearn\\neighbors\n",
      "    creating build\\lib.win-amd64-3.8\\sklearn\\neighbors\\tests\n",
      "    copying sklearn\\neighbors\\tests\\test_approximate.py -> build\\lib.win-amd64-3.8\\sklearn\\neighbors\\tests\n",
      "    copying sklearn\\neighbors\\tests\\test_ball_tree.py -> build\\lib.win-amd64-3.8\\sklearn\\neighbors\\tests\n",
      "    copying sklearn\\neighbors\\tests\\test_dist_metrics.py -> build\\lib.win-amd64-3.8\\sklearn\\neighbors\\tests\n",
      "    copying sklearn\\neighbors\\tests\\test_kde.py -> build\\lib.win-amd64-3.8\\sklearn\\neighbors\\tests\n",
      "    copying sklearn\\neighbors\\tests\\test_kd_tree.py -> build\\lib.win-amd64-3.8\\sklearn\\neighbors\\tests\n",
      "    copying sklearn\\neighbors\\tests\\test_lof.py -> build\\lib.win-amd64-3.8\\sklearn\\neighbors\\tests\n",
      "    copying sklearn\\neighbors\\tests\\test_nearest_centroid.py -> build\\lib.win-amd64-3.8\\sklearn\\neighbors\\tests\n",
      "    copying sklearn\\neighbors\\tests\\test_neighbors.py -> build\\lib.win-amd64-3.8\\sklearn\\neighbors\\tests\n",
      "    copying sklearn\\neighbors\\tests\\test_quad_tree.py -> build\\lib.win-amd64-3.8\\sklearn\\neighbors\\tests\n",
      "    copying sklearn\\neighbors\\tests\\__init__.py -> build\\lib.win-amd64-3.8\\sklearn\\neighbors\\tests\n",
      "    creating build\\lib.win-amd64-3.8\\sklearn\\tree\n",
      "    copying sklearn\\tree\\export.py -> build\\lib.win-amd64-3.8\\sklearn\\tree\n",
      "    copying sklearn\\tree\\setup.py -> build\\lib.win-amd64-3.8\\sklearn\\tree\n",
      "    copying sklearn\\tree\\tree.py -> build\\lib.win-amd64-3.8\\sklearn\\tree\n",
      "    copying sklearn\\tree\\__init__.py -> build\\lib.win-amd64-3.8\\sklearn\\tree\n",
      "    creating build\\lib.win-amd64-3.8\\sklearn\\tree\\tests\n",
      "    copying sklearn\\tree\\tests\\test_export.py -> build\\lib.win-amd64-3.8\\sklearn\\tree\\tests\n",
      "    copying sklearn\\tree\\tests\\test_tree.py -> build\\lib.win-amd64-3.8\\sklearn\\tree\\tests\n",
      "    copying sklearn\\tree\\tests\\__init__.py -> build\\lib.win-amd64-3.8\\sklearn\\tree\\tests\n",
      "    creating build\\lib.win-amd64-3.8\\sklearn\\svm\n",
      "    copying sklearn\\svm\\base.py -> build\\lib.win-amd64-3.8\\sklearn\\svm\n",
      "    copying sklearn\\svm\\bounds.py -> build\\lib.win-amd64-3.8\\sklearn\\svm\n",
      "    copying sklearn\\svm\\classes.py -> build\\lib.win-amd64-3.8\\sklearn\\svm\n",
      "    copying sklearn\\svm\\setup.py -> build\\lib.win-amd64-3.8\\sklearn\\svm\n",
      "    copying sklearn\\svm\\__init__.py -> build\\lib.win-amd64-3.8\\sklearn\\svm\n",
      "    creating build\\lib.win-amd64-3.8\\sklearn\\svm\\tests\n",
      "    copying sklearn\\svm\\tests\\test_bounds.py -> build\\lib.win-amd64-3.8\\sklearn\\svm\\tests\n",
      "    copying sklearn\\svm\\tests\\test_sparse.py -> build\\lib.win-amd64-3.8\\sklearn\\svm\\tests\n",
      "    copying sklearn\\svm\\tests\\test_svm.py -> build\\lib.win-amd64-3.8\\sklearn\\svm\\tests\n",
      "    copying sklearn\\svm\\tests\\__init__.py -> build\\lib.win-amd64-3.8\\sklearn\\svm\\tests\n",
      "    creating build\\lib.win-amd64-3.8\\sklearn\\linear_model\n",
      "    copying sklearn\\linear_model\\base.py -> build\\lib.win-amd64-3.8\\sklearn\\linear_model\n",
      "    copying sklearn\\linear_model\\bayes.py -> build\\lib.win-amd64-3.8\\sklearn\\linear_model\n",
      "    copying sklearn\\linear_model\\coordinate_descent.py -> build\\lib.win-amd64-3.8\\sklearn\\linear_model\n",
      "    copying sklearn\\linear_model\\huber.py -> build\\lib.win-amd64-3.8\\sklearn\\linear_model\n",
      "    copying sklearn\\linear_model\\least_angle.py -> build\\lib.win-amd64-3.8\\sklearn\\linear_model\n",
      "    copying sklearn\\linear_model\\logistic.py -> build\\lib.win-amd64-3.8\\sklearn\\linear_model\n",
      "    copying sklearn\\linear_model\\omp.py -> build\\lib.win-amd64-3.8\\sklearn\\linear_model\n",
      "    copying sklearn\\linear_model\\passive_aggressive.py -> build\\lib.win-amd64-3.8\\sklearn\\linear_model\n",
      "    copying sklearn\\linear_model\\perceptron.py -> build\\lib.win-amd64-3.8\\sklearn\\linear_model\n",
      "    copying sklearn\\linear_model\\randomized_l1.py -> build\\lib.win-amd64-3.8\\sklearn\\linear_model\n",
      "    copying sklearn\\linear_model\\ransac.py -> build\\lib.win-amd64-3.8\\sklearn\\linear_model\n",
      "    copying sklearn\\linear_model\\ridge.py -> build\\lib.win-amd64-3.8\\sklearn\\linear_model\n",
      "    copying sklearn\\linear_model\\sag.py -> build\\lib.win-amd64-3.8\\sklearn\\linear_model\n",
      "    copying sklearn\\linear_model\\setup.py -> build\\lib.win-amd64-3.8\\sklearn\\linear_model\n",
      "    copying sklearn\\linear_model\\stochastic_gradient.py -> build\\lib.win-amd64-3.8\\sklearn\\linear_model\n",
      "    copying sklearn\\linear_model\\theil_sen.py -> build\\lib.win-amd64-3.8\\sklearn\\linear_model\n",
      "    copying sklearn\\linear_model\\__init__.py -> build\\lib.win-amd64-3.8\\sklearn\\linear_model\n",
      "    creating build\\lib.win-amd64-3.8\\sklearn\\linear_model\\tests\n",
      "    copying sklearn\\linear_model\\tests\\test_base.py -> build\\lib.win-amd64-3.8\\sklearn\\linear_model\\tests\n",
      "    copying sklearn\\linear_model\\tests\\test_bayes.py -> build\\lib.win-amd64-3.8\\sklearn\\linear_model\\tests\n",
      "    copying sklearn\\linear_model\\tests\\test_coordinate_descent.py -> build\\lib.win-amd64-3.8\\sklearn\\linear_model\\tests\n",
      "    copying sklearn\\linear_model\\tests\\test_huber.py -> build\\lib.win-amd64-3.8\\sklearn\\linear_model\\tests\n",
      "    copying sklearn\\linear_model\\tests\\test_least_angle.py -> build\\lib.win-amd64-3.8\\sklearn\\linear_model\\tests\n",
      "    copying sklearn\\linear_model\\tests\\test_logistic.py -> build\\lib.win-amd64-3.8\\sklearn\\linear_model\\tests\n",
      "    copying sklearn\\linear_model\\tests\\test_omp.py -> build\\lib.win-amd64-3.8\\sklearn\\linear_model\\tests\n",
      "    copying sklearn\\linear_model\\tests\\test_passive_aggressive.py -> build\\lib.win-amd64-3.8\\sklearn\\linear_model\\tests\n",
      "    copying sklearn\\linear_model\\tests\\test_perceptron.py -> build\\lib.win-amd64-3.8\\sklearn\\linear_model\\tests\n",
      "    copying sklearn\\linear_model\\tests\\test_randomized_l1.py -> build\\lib.win-amd64-3.8\\sklearn\\linear_model\\tests\n",
      "    copying sklearn\\linear_model\\tests\\test_ransac.py -> build\\lib.win-amd64-3.8\\sklearn\\linear_model\\tests\n",
      "    copying sklearn\\linear_model\\tests\\test_ridge.py -> build\\lib.win-amd64-3.8\\sklearn\\linear_model\\tests\n",
      "    copying sklearn\\linear_model\\tests\\test_sag.py -> build\\lib.win-amd64-3.8\\sklearn\\linear_model\\tests\n",
      "    copying sklearn\\linear_model\\tests\\test_sgd.py -> build\\lib.win-amd64-3.8\\sklearn\\linear_model\\tests\n",
      "    copying sklearn\\linear_model\\tests\\test_sparse_coordinate_descent.py -> build\\lib.win-amd64-3.8\\sklearn\\linear_model\\tests\n",
      "    copying sklearn\\linear_model\\tests\\test_theil_sen.py -> build\\lib.win-amd64-3.8\\sklearn\\linear_model\\tests\n",
      "    copying sklearn\\linear_model\\tests\\__init__.py -> build\\lib.win-amd64-3.8\\sklearn\\linear_model\\tests\n",
      "    creating build\\lib.win-amd64-3.8\\sklearn\\utils\n",
      "    copying sklearn\\utils\\arpack.py -> build\\lib.win-amd64-3.8\\sklearn\\utils\n",
      "    copying sklearn\\utils\\bench.py -> build\\lib.win-amd64-3.8\\sklearn\\utils\n",
      "    copying sklearn\\utils\\class_weight.py -> build\\lib.win-amd64-3.8\\sklearn\\utils\n",
      "    copying sklearn\\utils\\deprecation.py -> build\\lib.win-amd64-3.8\\sklearn\\utils\n",
      "    copying sklearn\\utils\\estimator_checks.py -> build\\lib.win-amd64-3.8\\sklearn\\utils\n",
      "    copying sklearn\\utils\\extmath.py -> build\\lib.win-amd64-3.8\\sklearn\\utils\n",
      "    copying sklearn\\utils\\fixes.py -> build\\lib.win-amd64-3.8\\sklearn\\utils\n",
      "    copying sklearn\\utils\\graph.py -> build\\lib.win-amd64-3.8\\sklearn\\utils\n",
      "    copying sklearn\\utils\\linear_assignment_.py -> build\\lib.win-amd64-3.8\\sklearn\\utils\n",
      "    copying sklearn\\utils\\metaestimators.py -> build\\lib.win-amd64-3.8\\sklearn\\utils\n",
      "    copying sklearn\\utils\\mocking.py -> build\\lib.win-amd64-3.8\\sklearn\\utils\n",
      "    copying sklearn\\utils\\multiclass.py -> build\\lib.win-amd64-3.8\\sklearn\\utils\n",
      "    copying sklearn\\utils\\optimize.py -> build\\lib.win-amd64-3.8\\sklearn\\utils\n",
      "    copying sklearn\\utils\\random.py -> build\\lib.win-amd64-3.8\\sklearn\\utils\n",
      "    copying sklearn\\utils\\setup.py -> build\\lib.win-amd64-3.8\\sklearn\\utils\n",
      "    copying sklearn\\utils\\sparsefuncs.py -> build\\lib.win-amd64-3.8\\sklearn\\utils\n",
      "    copying sklearn\\utils\\stats.py -> build\\lib.win-amd64-3.8\\sklearn\\utils\n",
      "    copying sklearn\\utils\\testing.py -> build\\lib.win-amd64-3.8\\sklearn\\utils\n",
      "    copying sklearn\\utils\\validation.py -> build\\lib.win-amd64-3.8\\sklearn\\utils\n",
      "    copying sklearn\\utils\\_joblib.py -> build\\lib.win-amd64-3.8\\sklearn\\utils\n",
      "    copying sklearn\\utils\\_scipy_sparse_lsqr_backport.py -> build\\lib.win-amd64-3.8\\sklearn\\utils\n",
      "    copying sklearn\\utils\\_show_versions.py -> build\\lib.win-amd64-3.8\\sklearn\\utils\n",
      "    copying sklearn\\utils\\_unittest_backport.py -> build\\lib.win-amd64-3.8\\sklearn\\utils\n",
      "    copying sklearn\\utils\\__init__.py -> build\\lib.win-amd64-3.8\\sklearn\\utils\n",
      "    creating build\\lib.win-amd64-3.8\\sklearn\\utils\\sparsetools\n",
      "    copying sklearn\\utils\\sparsetools\\setup.py -> build\\lib.win-amd64-3.8\\sklearn\\utils\\sparsetools\n",
      "    copying sklearn\\utils\\sparsetools\\__init__.py -> build\\lib.win-amd64-3.8\\sklearn\\utils\\sparsetools\n",
      "    creating build\\lib.win-amd64-3.8\\sklearn\\utils\\sparsetools\\tests\n",
      "    copying sklearn\\utils\\sparsetools\\tests\\__init__.py -> build\\lib.win-amd64-3.8\\sklearn\\utils\\sparsetools\\tests\n",
      "    creating build\\lib.win-amd64-3.8\\sklearn\\utils\\tests\n",
      "    copying sklearn\\utils\\tests\\test_bench.py -> build\\lib.win-amd64-3.8\\sklearn\\utils\\tests\n",
      "    copying sklearn\\utils\\tests\\test_class_weight.py -> build\\lib.win-amd64-3.8\\sklearn\\utils\\tests\n",
      "    copying sklearn\\utils\\tests\\test_deprecation.py -> build\\lib.win-amd64-3.8\\sklearn\\utils\\tests\n",
      "    copying sklearn\\utils\\tests\\test_estimator_checks.py -> build\\lib.win-amd64-3.8\\sklearn\\utils\\tests\n",
      "    copying sklearn\\utils\\tests\\test_extmath.py -> build\\lib.win-amd64-3.8\\sklearn\\utils\\tests\n",
      "    copying sklearn\\utils\\tests\\test_fast_dict.py -> build\\lib.win-amd64-3.8\\sklearn\\utils\\tests\n",
      "    copying sklearn\\utils\\tests\\test_fixes.py -> build\\lib.win-amd64-3.8\\sklearn\\utils\\tests\n",
      "    copying sklearn\\utils\\tests\\test_graph.py -> build\\lib.win-amd64-3.8\\sklearn\\utils\\tests\n",
      "    copying sklearn\\utils\\tests\\test_linear_assignment.py -> build\\lib.win-amd64-3.8\\sklearn\\utils\\tests\n",
      "    copying sklearn\\utils\\tests\\test_metaestimators.py -> build\\lib.win-amd64-3.8\\sklearn\\utils\\tests\n",
      "    copying sklearn\\utils\\tests\\test_multiclass.py -> build\\lib.win-amd64-3.8\\sklearn\\utils\\tests\n",
      "    copying sklearn\\utils\\tests\\test_murmurhash.py -> build\\lib.win-amd64-3.8\\sklearn\\utils\\tests\n",
      "    copying sklearn\\utils\\tests\\test_optimize.py -> build\\lib.win-amd64-3.8\\sklearn\\utils\\tests\n",
      "    copying sklearn\\utils\\tests\\test_random.py -> build\\lib.win-amd64-3.8\\sklearn\\utils\\tests\n",
      "    copying sklearn\\utils\\tests\\test_seq_dataset.py -> build\\lib.win-amd64-3.8\\sklearn\\utils\\tests\n",
      "    copying sklearn\\utils\\tests\\test_shortest_path.py -> build\\lib.win-amd64-3.8\\sklearn\\utils\\tests\n",
      "    copying sklearn\\utils\\tests\\test_show_versions.py -> build\\lib.win-amd64-3.8\\sklearn\\utils\\tests\n",
      "    copying sklearn\\utils\\tests\\test_sparsefuncs.py -> build\\lib.win-amd64-3.8\\sklearn\\utils\\tests\n",
      "    copying sklearn\\utils\\tests\\test_stats.py -> build\\lib.win-amd64-3.8\\sklearn\\utils\\tests\n",
      "    copying sklearn\\utils\\tests\\test_testing.py -> build\\lib.win-amd64-3.8\\sklearn\\utils\\tests\n",
      "    copying sklearn\\utils\\tests\\test_utils.py -> build\\lib.win-amd64-3.8\\sklearn\\utils\\tests\n",
      "    copying sklearn\\utils\\tests\\test_validation.py -> build\\lib.win-amd64-3.8\\sklearn\\utils\\tests\n",
      "    copying sklearn\\utils\\tests\\__init__.py -> build\\lib.win-amd64-3.8\\sklearn\\utils\\tests\n",
      "    creating build\\lib.win-amd64-3.8\\sklearn\\tests\n",
      "    copying sklearn\\tests\\test_base.py -> build\\lib.win-amd64-3.8\\sklearn\\tests\n",
      "    copying sklearn\\tests\\test_calibration.py -> build\\lib.win-amd64-3.8\\sklearn\\tests\n",
      "    copying sklearn\\tests\\test_check_build.py -> build\\lib.win-amd64-3.8\\sklearn\\tests\n",
      "    copying sklearn\\tests\\test_common.py -> build\\lib.win-amd64-3.8\\sklearn\\tests\n",
      "    copying sklearn\\tests\\test_config.py -> build\\lib.win-amd64-3.8\\sklearn\\tests\n",
      "    copying sklearn\\tests\\test_discriminant_analysis.py -> build\\lib.win-amd64-3.8\\sklearn\\tests\n",
      "    copying sklearn\\tests\\test_docstring_parameters.py -> build\\lib.win-amd64-3.8\\sklearn\\tests\n",
      "    copying sklearn\\tests\\test_dummy.py -> build\\lib.win-amd64-3.8\\sklearn\\tests\n",
      "    copying sklearn\\tests\\test_impute.py -> build\\lib.win-amd64-3.8\\sklearn\\tests\n",
      "    copying sklearn\\tests\\test_init.py -> build\\lib.win-amd64-3.8\\sklearn\\tests\n",
      "    copying sklearn\\tests\\test_isotonic.py -> build\\lib.win-amd64-3.8\\sklearn\\tests\n",
      "    copying sklearn\\tests\\test_kernel_approximation.py -> build\\lib.win-amd64-3.8\\sklearn\\tests\n",
      "    copying sklearn\\tests\\test_kernel_ridge.py -> build\\lib.win-amd64-3.8\\sklearn\\tests\n",
      "    copying sklearn\\tests\\test_metaestimators.py -> build\\lib.win-amd64-3.8\\sklearn\\tests\n",
      "    copying sklearn\\tests\\test_multiclass.py -> build\\lib.win-amd64-3.8\\sklearn\\tests\n",
      "    copying sklearn\\tests\\test_multioutput.py -> build\\lib.win-amd64-3.8\\sklearn\\tests\n",
      "    copying sklearn\\tests\\test_naive_bayes.py -> build\\lib.win-amd64-3.8\\sklearn\\tests\n",
      "    copying sklearn\\tests\\test_pipeline.py -> build\\lib.win-amd64-3.8\\sklearn\\tests\n",
      "    copying sklearn\\tests\\test_random_projection.py -> build\\lib.win-amd64-3.8\\sklearn\\tests\n",
      "    copying sklearn\\tests\\test_site_joblib.py -> build\\lib.win-amd64-3.8\\sklearn\\tests\n",
      "    copying sklearn\\tests\\__init__.py -> build\\lib.win-amd64-3.8\\sklearn\\tests\n",
      "    running build_clib\n",
      "    No module named 'numpy.distutils._msvccompiler' in numpy.distutils; trying from distutils\n",
      "    customize MSVCCompiler\n",
      "    Missing compiler_cxx fix for MSVCCompiler\n",
      "    customize MSVCCompiler using build_clib\n",
      "    CCompilerOpt.cc_test_flags[999] : testing flags (/O2)\n",
      "    error: Microsoft Visual C++ 14.0 or greater is required. Get it with \"Microsoft C++ Build Tools\": https://visualstudio.microsoft.com/visual-cpp-build-tools/\n",
      "    CCompilerOpt._cache_write[796] : write cache to path -> C:\\Users\\Admin\\AppData\\Local\\Temp\\pip-install-e5lxsxub\\scikit-learn_ff5cc17d3c874ebc9065ecf1f7ae36d9\\build\\temp.win-amd64-3.8\\ccompiler_opt_cache_clib.py\n",
      "    ----------------------------------------\n",
      "ERROR: Command errored out with exit status 1: 'D:\\Farhat\\python.exe' -u -c 'import sys, setuptools, tokenize; sys.argv[0] = '\"'\"'C:\\\\Users\\\\Admin\\\\AppData\\\\Local\\\\Temp\\\\pip-install-e5lxsxub\\\\scikit-learn_ff5cc17d3c874ebc9065ecf1f7ae36d9\\\\setup.py'\"'\"'; __file__='\"'\"'C:\\\\Users\\\\Admin\\\\AppData\\\\Local\\\\Temp\\\\pip-install-e5lxsxub\\\\scikit-learn_ff5cc17d3c874ebc9065ecf1f7ae36d9\\\\setup.py'\"'\"';f=getattr(tokenize, '\"'\"'open'\"'\"', open)(__file__);code=f.read().replace('\"'\"'\\r\\n'\"'\"', '\"'\"'\\n'\"'\"');f.close();exec(compile(code, __file__, '\"'\"'exec'\"'\"'))' install --record 'C:\\Users\\Admin\\AppData\\Local\\Temp\\pip-record-ef09ibt3\\install-record.txt' --single-version-externally-managed --compile --install-headers 'D:\\Farhat\\Include\\scikit-learn' Check the logs for full command output.\n"
     ]
    }
   ],
   "source": [
    "!pip install --upgrade scikit-learn==0.20.3"
   ]
  },
  {
   "cell_type": "code",
   "execution_count": 38,
   "id": "22d10ae3",
   "metadata": {
    "ExecuteTime": {
     "end_time": "2022-01-15T10:39:45.761725Z",
     "start_time": "2022-01-15T10:39:45.755699Z"
    }
   },
   "outputs": [],
   "source": [
    "from sklearn.tree import export_graphviz\n",
    "import pydotplus\n",
    "from six import StringIO"
   ]
  },
  {
   "cell_type": "code",
   "execution_count": 39,
   "id": "70d018d2",
   "metadata": {
    "ExecuteTime": {
     "end_time": "2022-01-15T10:40:05.660501Z",
     "start_time": "2022-01-15T10:40:05.643548Z"
    }
   },
   "outputs": [],
   "source": [
    "tree = model.estimators_[5]"
   ]
  },
  {
   "cell_type": "code",
   "execution_count": 40,
   "id": "2671dd5b",
   "metadata": {
    "ExecuteTime": {
     "end_time": "2022-01-15T10:40:08.812497Z",
     "start_time": "2022-01-15T10:40:08.794460Z"
    }
   },
   "outputs": [
    {
     "data": {
      "text/plain": [
       "DecisionTreeClassifier(criterion='entropy', max_features='auto',\n",
       "                       random_state=70117798)"
      ]
     },
     "execution_count": 40,
     "metadata": {},
     "output_type": "execute_result"
    }
   ],
   "source": [
    "tree"
   ]
  },
  {
   "cell_type": "code",
   "execution_count": 41,
   "id": "7d4e4908",
   "metadata": {
    "ExecuteTime": {
     "end_time": "2022-01-15T10:40:24.268363Z",
     "start_time": "2022-01-15T10:40:24.224417Z"
    }
   },
   "outputs": [],
   "source": [
    "dot_data = StringIO()\n",
    "export_graphviz(tree,out_file = dot_data, filled = True,rounded = True, feature_names = predictors ,class_names = target,impurity =False)"
   ]
  },
  {
   "cell_type": "code",
   "execution_count": 42,
   "id": "5bc87fa3",
   "metadata": {
    "ExecuteTime": {
     "end_time": "2022-01-15T10:40:34.724673Z",
     "start_time": "2022-01-15T10:40:33.705142Z"
    }
   },
   "outputs": [],
   "source": [
    "graph = pydotplus.graph_from_dot_data(dot_data.getvalue())"
   ]
  },
  {
   "cell_type": "code",
   "execution_count": 45,
   "id": "046594d0",
   "metadata": {
    "ExecuteTime": {
     "end_time": "2022-01-15T10:41:11.770003Z",
     "start_time": "2022-01-15T10:41:11.761722Z"
    }
   },
   "outputs": [],
   "source": [
    "from sklearn.tree import  DecisionTreeClassifier"
   ]
  },
  {
   "cell_type": "code",
   "execution_count": 46,
   "id": "3f140d99",
   "metadata": {
    "ExecuteTime": {
     "end_time": "2022-01-15T10:41:24.804362Z",
     "start_time": "2022-01-15T10:41:24.781390Z"
    }
   },
   "outputs": [
    {
     "data": {
      "text/plain": [
       "DecisionTreeClassifier(criterion='entropy', max_depth=3)"
      ]
     },
     "execution_count": 46,
     "metadata": {},
     "output_type": "execute_result"
    }
   ],
   "source": [
    "model = DecisionTreeClassifier(criterion = 'entropy',max_depth=3)\n",
    "model.fit(x_train,y_train)"
   ]
  },
  {
   "cell_type": "code",
   "execution_count": 47,
   "id": "86c7c733",
   "metadata": {
    "ExecuteTime": {
     "end_time": "2022-01-15T10:41:39.026787Z",
     "start_time": "2022-01-15T10:41:38.621473Z"
    }
   },
   "outputs": [
    {
     "data": {
      "image/png": "[encoded data removed]",
      "text/plain": [
       "<Figure size 432x288 with 1 Axes>"
      ]
     },
     "metadata": {
      "needs_background": "light"
     },
     "output_type": "display_data"
    }
   ],
   "source": [
    "from sklearn import tree\n",
    "tree.plot_tree(model);"
   ]
  },
  {
   "cell_type": "code",
   "execution_count": 49,
   "id": "6691142b",
   "metadata": {
    "ExecuteTime": {
     "end_time": "2022-01-15T10:42:26.166112Z",
     "start_time": "2022-01-15T10:42:26.157355Z"
    }
   },
   "outputs": [
    {
     "data": {
      "text/plain": [
       "['undergrad', 'marital', 'population', 'experience', 'urban', 'income']"
      ]
     },
     "execution_count": 49,
     "metadata": {},
     "output_type": "execute_result"
    }
   ],
   "source": [
    "colnames = list(fraud.columns)\n",
    "colnames"
   ]
  },
  {
   "cell_type": "code",
   "execution_count": 51,
   "id": "41d681c7",
   "metadata": {
    "ExecuteTime": {
     "end_time": "2022-01-15T10:43:00.154330Z",
     "start_time": "2022-01-15T10:42:59.763162Z"
    }
   },
   "outputs": [
    {
     "data": {
      "image/png": "[encoded data removed]",
      "text/plain": [
       "<Figure size 1200x1200 with 1 Axes>"
      ]
     },
     "metadata": {
      "needs_background": "light"
     },
     "output_type": "display_data"
    }
   ],
   "source": [
    "import matplotlib.pyplot as plt\n",
    "fn=['population','experience','Undergrad_YES','Marital.Status_Married','Marital.Status_Single','Urban_YES']\n",
    "cn=['1', '0']\n",
    "fig, axes = plt.subplots(nrows = 1,ncols = 1,figsize = (4,4), dpi=300)\n",
    "tree.plot_tree(model,\n",
    "               feature_names = fn, \n",
    "               class_names=cn,\n",
    "               filled = True);"
   ]
  },
  {
   "cell_type": "code",
   "execution_count": 52,
   "id": "af394399",
   "metadata": {
    "ExecuteTime": {
     "end_time": "2022-01-15T10:43:21.528673Z",
     "start_time": "2022-01-15T10:43:21.514678Z"
    }
   },
   "outputs": [
    {
     "data": {
      "text/plain": [
       "0    120\n",
       "dtype: int64"
      ]
     },
     "execution_count": 52,
     "metadata": {},
     "output_type": "execute_result"
    }
   ],
   "source": [
    "preds = model.predict(x_test) # predicting on test data set \n",
    "pd.Series(preds).value_counts() # getting the count of each category "
   ]
  },
  {
   "cell_type": "code",
   "execution_count": 53,
   "id": "63f55184",
   "metadata": {
    "ExecuteTime": {
     "end_time": "2022-01-15T10:43:27.563276Z",
     "start_time": "2022-01-15T10:43:27.550002Z"
    }
   },
   "outputs": [
    {
     "data": {
      "text/plain": [
       "array([0, 0, 0, 0, 0, 0, 0, 0, 0, 0, 0, 0, 0, 0, 0, 0, 0, 0, 0, 0, 0, 0,\n",
       "       0, 0, 0, 0, 0, 0, 0, 0, 0, 0, 0, 0, 0, 0, 0, 0, 0, 0, 0, 0, 0, 0,\n",
       "       0, 0, 0, 0, 0, 0, 0, 0, 0, 0, 0, 0, 0, 0, 0, 0, 0, 0, 0, 0, 0, 0,\n",
       "       0, 0, 0, 0, 0, 0, 0, 0, 0, 0, 0, 0, 0, 0, 0, 0, 0, 0, 0, 0, 0, 0,\n",
       "       0, 0, 0, 0, 0, 0, 0, 0, 0, 0, 0, 0, 0, 0, 0, 0, 0, 0, 0, 0, 0, 0,\n",
       "       0, 0, 0, 0, 0, 0, 0, 0, 0, 0])"
      ]
     },
     "execution_count": 53,
     "metadata": {},
     "output_type": "execute_result"
    }
   ],
   "source": [
    "preds"
   ]
  },
  {
   "cell_type": "code",
   "execution_count": 54,
   "id": "b844771c",
   "metadata": {
    "ExecuteTime": {
     "end_time": "2022-01-15T10:43:34.060028Z",
     "start_time": "2022-01-15T10:43:34.015363Z"
    }
   },
   "outputs": [
    {
     "data": {
      "text/html": [
       "<div>\n",
       "<style scoped>\n",
       "    .dataframe tbody tr th:only-of-type {\n",
       "        vertical-align: middle;\n",
       "    }\n",
       "\n",
       "    .dataframe tbody tr th {\n",
       "        vertical-align: top;\n",
       "    }\n",
       "\n",
       "    .dataframe thead th {\n",
       "        text-align: right;\n",
       "    }\n",
       "</style>\n",
       "<table border=\"1\" class=\"dataframe\">\n",
       "  <thead>\n",
       "    <tr style=\"text-align: right;\">\n",
       "      <th>col_0</th>\n",
       "      <th>0</th>\n",
       "    </tr>\n",
       "    <tr>\n",
       "      <th>income</th>\n",
       "      <th></th>\n",
       "    </tr>\n",
       "  </thead>\n",
       "  <tbody>\n",
       "    <tr>\n",
       "      <th>0</th>\n",
       "      <td>95</td>\n",
       "    </tr>\n",
       "    <tr>\n",
       "      <th>1</th>\n",
       "      <td>25</td>\n",
       "    </tr>\n",
       "  </tbody>\n",
       "</table>\n",
       "</div>"
      ],
      "text/plain": [
       "col_0    0\n",
       "income    \n",
       "0       95\n",
       "1       25"
      ]
     },
     "execution_count": 54,
     "metadata": {},
     "output_type": "execute_result"
    }
   ],
   "source": [
    "pd.crosstab(y_test,preds)"
   ]
  },
  {
   "cell_type": "code",
   "execution_count": 55,
   "id": "1d30934f",
   "metadata": {
    "ExecuteTime": {
     "end_time": "2022-01-15T10:43:55.320239Z",
     "start_time": "2022-01-15T10:43:55.299755Z"
    }
   },
   "outputs": [
    {
     "data": {
      "text/plain": [
       "0.7916666666666666"
      ]
     },
     "execution_count": 55,
     "metadata": {},
     "output_type": "execute_result"
    }
   ],
   "source": [
    "np.mean(preds==y_test)"
   ]
  },
  {
   "cell_type": "code",
   "execution_count": 56,
   "id": "75cde6a2",
   "metadata": {
    "ExecuteTime": {
     "end_time": "2022-01-15T10:44:07.035902Z",
     "start_time": "2022-01-15T10:44:07.031917Z"
    }
   },
   "outputs": [],
   "source": [
    "from sklearn.tree import DecisionTreeClassifier\n",
    "model_gini = DecisionTreeClassifier(criterion='gini', max_depth=3)"
   ]
  },
  {
   "cell_type": "code",
   "execution_count": 57,
   "id": "d1125152",
   "metadata": {
    "ExecuteTime": {
     "end_time": "2022-01-15T10:44:11.985418Z",
     "start_time": "2022-01-15T10:44:11.965361Z"
    }
   },
   "outputs": [
    {
     "data": {
      "text/plain": [
       "DecisionTreeClassifier(max_depth=3)"
      ]
     },
     "execution_count": 57,
     "metadata": {},
     "output_type": "execute_result"
    }
   ],
   "source": [
    "model_gini.fit(x_train, y_train)"
   ]
  },
  {
   "cell_type": "code",
   "execution_count": 58,
   "id": "aa921564",
   "metadata": {
    "ExecuteTime": {
     "end_time": "2022-01-15T10:44:18.152077Z",
     "start_time": "2022-01-15T10:44:18.136738Z"
    }
   },
   "outputs": [
    {
     "data": {
      "text/plain": [
       "0.7916666666666666"
      ]
     },
     "execution_count": 58,
     "metadata": {},
     "output_type": "execute_result"
    }
   ],
   "source": [
    "pred=model.predict(x_test)\n",
    "np.mean(preds==y_test)"
   ]
  },
  {
   "cell_type": "code",
   "execution_count": 59,
   "id": "f0fef2b6",
   "metadata": {
    "ExecuteTime": {
     "end_time": "2022-01-15T10:44:24.306088Z",
     "start_time": "2022-01-15T10:44:24.292311Z"
    }
   },
   "outputs": [],
   "source": [
    "from sklearn.tree import DecisionTreeRegressor"
   ]
  },
  {
   "cell_type": "code",
   "execution_count": 61,
   "id": "ab693504",
   "metadata": {
    "ExecuteTime": {
     "end_time": "2022-01-15T10:44:41.371216Z",
     "start_time": "2022-01-15T10:44:41.358613Z"
    }
   },
   "outputs": [],
   "source": [
    "array = fraud.values\n",
    "X = array[:,0:3]\n",
    "y = array[:,3]"
   ]
  },
  {
   "cell_type": "code",
   "execution_count": 62,
   "id": "a8fb5621",
   "metadata": {
    "ExecuteTime": {
     "end_time": "2022-01-15T10:44:48.734340Z",
     "start_time": "2022-01-15T10:44:48.715084Z"
    }
   },
   "outputs": [],
   "source": [
    "X_train, X_test, y_train, y_test = train_test_split(X, y, test_size=0.33, random_state=1)"
   ]
  },
  {
   "cell_type": "code",
   "execution_count": 63,
   "id": "fba4721c",
   "metadata": {
    "ExecuteTime": {
     "end_time": "2022-01-15T10:44:53.602246Z",
     "start_time": "2022-01-15T10:44:53.591096Z"
    }
   },
   "outputs": [
    {
     "data": {
      "text/plain": [
       "DecisionTreeRegressor()"
      ]
     },
     "execution_count": 63,
     "metadata": {},
     "output_type": "execute_result"
    }
   ],
   "source": [
    "model = DecisionTreeRegressor()\n",
    "model.fit(X_train, y_train)"
   ]
  },
  {
   "cell_type": "code",
   "execution_count": 64,
   "id": "096cfc3c",
   "metadata": {
    "ExecuteTime": {
     "end_time": "2022-01-15T10:44:59.614640Z",
     "start_time": "2022-01-15T10:44:59.604319Z"
    }
   },
   "outputs": [
    {
     "data": {
      "text/plain": [
       "-1.3084463910649018"
      ]
     },
     "execution_count": 64,
     "metadata": {},
     "output_type": "execute_result"
    }
   ],
   "source": [
    "model.score(X_test,y_test)"
   ]
  },
  {
   "cell_type": "code",
   "execution_count": null,
   "id": "e4e59253",
   "metadata": {},
   "outputs": [],
   "source": []
  }
 ],
 "metadata": {
  "kernelspec": {
   "display_name": "Python 3",
   "language": "python",
   "name": "python3"
  },
  "language_info": {
   "codemirror_mode": {
    "name": "ipython",
    "version": 3
   },
   "file_extension": ".py",
   "mimetype": "text/x-python",
   "name": "python",
   "nbconvert_exporter": "python",
   "pygments_lexer": "ipython3",
   "version": "3.8.8"
  }
 },
 "nbformat": 4,
 "nbformat_minor": 5
}
