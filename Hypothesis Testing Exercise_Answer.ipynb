{
 "cells": [
  {
   "cell_type": "code",
   "execution_count": 1,
   "id": "afb34159",
   "metadata": {
    "ExecuteTime": {
     "end_time": "2021-12-25T09:01:52.592769Z",
     "start_time": "2021-12-25T09:01:51.671621Z"
    }
   },
   "outputs": [],
   "source": [
    "import pandas as pd"
   ]
  },
  {
   "cell_type": "code",
   "execution_count": 3,
   "id": "d67a647f",
   "metadata": {
    "ExecuteTime": {
     "end_time": "2021-12-25T09:02:06.073342Z",
     "start_time": "2021-12-25T09:02:06.055901Z"
    }
   },
   "outputs": [],
   "source": [
    "import numpy as np"
   ]
  },
  {
   "cell_type": "code",
   "execution_count": 4,
   "id": "ec5d04c1",
   "metadata": {
    "ExecuteTime": {
     "end_time": "2021-12-25T09:02:20.475582Z",
     "start_time": "2021-12-25T09:02:19.671884Z"
    }
   },
   "outputs": [],
   "source": [
    "from scipy import stats"
   ]
  },
  {
   "cell_type": "code",
   "execution_count": 5,
   "id": "400ab949",
   "metadata": {
    "ExecuteTime": {
     "end_time": "2021-12-25T09:02:42.023568Z",
     "start_time": "2021-12-25T09:02:42.009502Z"
    }
   },
   "outputs": [],
   "source": [
    "from scipy.stats import norm"
   ]
  },
  {
   "cell_type": "code",
   "execution_count": 7,
   "id": "18e53029",
   "metadata": {
    "ExecuteTime": {
     "end_time": "2021-12-25T09:03:58.177181Z",
     "start_time": "2021-12-25T09:03:58.155788Z"
    }
   },
   "outputs": [],
   "source": [
    "from scipy.stats import chi2_contingency"
   ]
  },
  {
   "cell_type": "code",
   "execution_count": 9,
   "id": "c8315d99",
   "metadata": {
    "ExecuteTime": {
     "end_time": "2021-12-25T09:04:32.475347Z",
     "start_time": "2021-12-25T09:04:32.460921Z"
    }
   },
   "outputs": [],
   "source": [
    "exs=pd.read_csv(\"BuyerRatio.csv\")"
   ]
  },
  {
   "cell_type": "code",
   "execution_count": 10,
   "id": "341336ac",
   "metadata": {
    "ExecuteTime": {
     "end_time": "2021-12-25T09:04:37.459316Z",
     "start_time": "2021-12-25T09:04:37.440955Z"
    }
   },
   "outputs": [
    {
     "data": {
      "text/html": [
       "<div>\n",
       "<style scoped>\n",
       "    .dataframe tbody tr th:only-of-type {\n",
       "        vertical-align: middle;\n",
       "    }\n",
       "\n",
       "    .dataframe tbody tr th {\n",
       "        vertical-align: top;\n",
       "    }\n",
       "\n",
       "    .dataframe thead th {\n",
       "        text-align: right;\n",
       "    }\n",
       "</style>\n",
       "<table border=\"1\" class=\"dataframe\">\n",
       "  <thead>\n",
       "    <tr style=\"text-align: right;\">\n",
       "      <th></th>\n",
       "      <th>Observed Values</th>\n",
       "      <th>East</th>\n",
       "      <th>West</th>\n",
       "      <th>North</th>\n",
       "      <th>South</th>\n",
       "    </tr>\n",
       "  </thead>\n",
       "  <tbody>\n",
       "    <tr>\n",
       "      <th>0</th>\n",
       "      <td>Males</td>\n",
       "      <td>50</td>\n",
       "      <td>142</td>\n",
       "      <td>131</td>\n",
       "      <td>70</td>\n",
       "    </tr>\n",
       "    <tr>\n",
       "      <th>1</th>\n",
       "      <td>Females</td>\n",
       "      <td>435</td>\n",
       "      <td>1523</td>\n",
       "      <td>1356</td>\n",
       "      <td>750</td>\n",
       "    </tr>\n",
       "  </tbody>\n",
       "</table>\n",
       "</div>"
      ],
      "text/plain": [
       "  Observed Values  East  West  North  South\n",
       "0           Males    50   142    131     70\n",
       "1         Females   435  1523   1356    750"
      ]
     },
     "execution_count": 10,
     "metadata": {},
     "output_type": "execute_result"
    }
   ],
   "source": [
    "exs"
   ]
  },
  {
   "cell_type": "code",
   "execution_count": 15,
   "id": "ec1e93cb",
   "metadata": {
    "ExecuteTime": {
     "end_time": "2021-12-25T09:06:42.595714Z",
     "start_time": "2021-12-25T09:06:42.592021Z"
    }
   },
   "outputs": [],
   "source": [
    "a=np.array([[50,142,131,70],[435,1523,1356,750]])"
   ]
  },
  {
   "cell_type": "code",
   "execution_count": 16,
   "id": "a509bb8c",
   "metadata": {
    "ExecuteTime": {
     "end_time": "2021-12-25T09:06:44.779402Z",
     "start_time": "2021-12-25T09:06:44.760933Z"
    }
   },
   "outputs": [
    {
     "data": {
      "text/plain": [
       "array([[  50,  142,  131,   70],\n",
       "       [ 435, 1523, 1356,  750]])"
      ]
     },
     "execution_count": 16,
     "metadata": {},
     "output_type": "execute_result"
    }
   ],
   "source": [
    "a"
   ]
  },
  {
   "cell_type": "code",
   "execution_count": 17,
   "id": "b1e73198",
   "metadata": {
    "ExecuteTime": {
     "end_time": "2021-12-25T09:06:52.711579Z",
     "start_time": "2021-12-25T09:06:52.699076Z"
    }
   },
   "outputs": [
    {
     "data": {
      "text/plain": [
       "(1.595945538661058,\n",
       " 0.6603094907091882,\n",
       " 3,\n",
       " array([[  42.76531299,  146.81287862,  131.11756787,   72.30424052],\n",
       "        [ 442.23468701, 1518.18712138, 1355.88243213,  747.69575948]]))"
      ]
     },
     "execution_count": 17,
     "metadata": {},
     "output_type": "execute_result"
    }
   ],
   "source": [
    "chi2_contingency(a)"
   ]
  },
  {
   "cell_type": "code",
   "execution_count": null,
   "id": "d2c9c1f9",
   "metadata": {},
   "outputs": [],
   "source": []
  }
 ],
 "metadata": {
  "kernelspec": {
   "display_name": "Python 3",
   "language": "python",
   "name": "python3"
  },
  "language_info": {
   "codemirror_mode": {
    "name": "ipython",
    "version": 3
   },
   "file_extension": ".py",
   "mimetype": "text/x-python",
   "name": "python",
   "nbconvert_exporter": "python",
   "pygments_lexer": "ipython3",
   "version": "3.8.8"
  }
 },
 "nbformat": 4,
 "nbformat_minor": 5
}
